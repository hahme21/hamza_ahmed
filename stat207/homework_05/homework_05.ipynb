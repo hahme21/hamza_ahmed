{
 "cells": [
  {
   "cell_type": "markdown",
   "id": "b858fa87",
   "metadata": {},
   "source": [
    "# STAT 207 Homework 5 [25 points]\n",
    "\n",
    "## Sampling Distributions"
   ]
  },
  {
   "cell_type": "markdown",
   "id": "3cae853f",
   "metadata": {},
   "source": [
    "Due: Friday, February 23, end of day (11:59 pm CT)\n",
    "\n",
    "<hr>"
   ]
  },
  {
   "cell_type": "markdown",
   "id": "879887dc",
   "metadata": {},
   "source": [
    "## Python Component\n",
    "\n",
    "Run the following code chunk to import the packages needed for this assignment:\n",
    "\n",
    "- pandas\n",
    "- matplotlib.pyplot\n",
    "- seaborn\n",
    "\n",
    "The first package assists in analyzing a dataset.  The second two packages provide support for visualizations."
   ]
  },
  {
   "cell_type": "code",
<<<<<<< HEAD
   "execution_count": 1,
=======
   "execution_count": null,
>>>>>>> e5be8a2d4ce62d3b254f9d7662908386d4b1154d
   "id": "92c21fc2",
   "metadata": {},
   "outputs": [],
   "source": [
    "import pandas as pd\n",
    "import matplotlib.pyplot as plt\n",
    "import seaborn as sns\n",
    "sns.set()"
   ]
  },
  {
   "cell_type": "markdown",
   "id": "33380e69",
   "metadata": {},
   "source": [
    "## Case Study: Bob Ross\n",
    "\n",
    "The Joy of Painting was a 30-minute instructional painting show where host Bob Ross would instruct viewers on how to create their own paintings.  In the 403 episodes that were produced, a painting was completed during the episode.  Many common objects were showcased throughout the paintings, including various landscapes, animals, and other natural features.\n",
    "\n",
    "Below, we'll combine two datasets with relevant information about Bob Ross paintings, including the following variables of interest:\n",
    "- **season**: the season of the painting\n",
    "- **episode**: the episode of the painting\n",
    "- **num_colors**: the number of paint colors used for the painting\n",
    "- **PALM_TREES**: whether palm trees were included in the painting (1 = included, 0 = excluded)\n",
    "- **OCEAN**: whether the ocean was included in the painting (1= included, 0 = excluded)\n",
    "- **Midnight_Black**: whether the painting uses the paint color midnight black"
   ]
  },
  {
   "cell_type": "code",
<<<<<<< HEAD
   "execution_count": 3,
   "id": "9f08f4e7",
   "metadata": {},
   "outputs": [
    {
     "data": {
      "text/html": [
       "<div>\n",
       "<style scoped>\n",
       "    .dataframe tbody tr th:only-of-type {\n",
       "        vertical-align: middle;\n",
       "    }\n",
       "\n",
       "    .dataframe tbody tr th {\n",
       "        vertical-align: top;\n",
       "    }\n",
       "\n",
       "    .dataframe thead th {\n",
       "        text-align: right;\n",
       "    }\n",
       "</style>\n",
       "<table border=\"1\" class=\"dataframe\">\n",
       "  <thead>\n",
       "    <tr style=\"text-align: right;\">\n",
       "      <th></th>\n",
       "      <th>Unnamed: 0</th>\n",
       "      <th>painting_index</th>\n",
       "      <th>img_src</th>\n",
       "      <th>painting_title</th>\n",
       "      <th>season</th>\n",
       "      <th>episode</th>\n",
       "      <th>num_colors</th>\n",
       "      <th>youtube_src</th>\n",
       "      <th>colors</th>\n",
       "      <th>color_hex</th>\n",
       "      <th>...</th>\n",
       "      <th>TOMB_FRAME</th>\n",
       "      <th>TREE</th>\n",
       "      <th>TREES</th>\n",
       "      <th>TRIPLE_FRAME</th>\n",
       "      <th>WATERFALL</th>\n",
       "      <th>WAVES</th>\n",
       "      <th>WINDMILL</th>\n",
       "      <th>WINDOW_FRAME</th>\n",
       "      <th>WINTER</th>\n",
       "      <th>WOOD_FRAMED</th>\n",
       "    </tr>\n",
       "  </thead>\n",
       "  <tbody>\n",
       "    <tr>\n",
       "      <th>0</th>\n",
       "      <td>1</td>\n",
       "      <td>282</td>\n",
       "      <td>https://www.twoinchbrush.com/images/painting28...</td>\n",
       "      <td>A Walk in the Woods</td>\n",
       "      <td>1</td>\n",
       "      <td>1</td>\n",
       "      <td>8</td>\n",
       "      <td>https://www.youtube.com/embed/oh5p5f5_-7A</td>\n",
       "      <td>['Alizarin Crimson', 'Bright Red', 'Cadmium Ye...</td>\n",
       "      <td>['#4E1500', '#DB0000', '#FFEC00', '#102E3C', '...</td>\n",
       "      <td>...</td>\n",
       "      <td>0</td>\n",
       "      <td>1</td>\n",
       "      <td>1</td>\n",
       "      <td>0</td>\n",
       "      <td>0</td>\n",
       "      <td>0</td>\n",
       "      <td>0</td>\n",
       "      <td>0</td>\n",
       "      <td>0</td>\n",
       "      <td>0</td>\n",
       "    </tr>\n",
       "    <tr>\n",
       "      <th>1</th>\n",
       "      <td>2</td>\n",
       "      <td>283</td>\n",
       "      <td>https://www.twoinchbrush.com/images/painting28...</td>\n",
       "      <td>Mt. McKinley</td>\n",
       "      <td>1</td>\n",
       "      <td>2</td>\n",
       "      <td>8</td>\n",
       "      <td>https://www.youtube.com/embed/RInDWhYceLU</td>\n",
       "      <td>['Alizarin Crimson', 'Bright Red', 'Cadmium Ye...</td>\n",
       "      <td>['#4E1500', '#DB0000', '#FFEC00', '#102E3C', '...</td>\n",
       "      <td>...</td>\n",
       "      <td>0</td>\n",
       "      <td>1</td>\n",
       "      <td>1</td>\n",
       "      <td>0</td>\n",
       "      <td>0</td>\n",
       "      <td>0</td>\n",
       "      <td>0</td>\n",
       "      <td>0</td>\n",
       "      <td>1</td>\n",
       "      <td>0</td>\n",
       "    </tr>\n",
       "    <tr>\n",
       "      <th>2</th>\n",
       "      <td>3</td>\n",
       "      <td>284</td>\n",
       "      <td>https://www.twoinchbrush.com/images/painting28...</td>\n",
       "      <td>Ebony Sunset</td>\n",
       "      <td>1</td>\n",
       "      <td>3</td>\n",
       "      <td>9</td>\n",
       "      <td>https://www.youtube.com/embed/UOziR7PoVco</td>\n",
       "      <td>['Alizarin Crimson', 'Black Gesso', 'Bright Re...</td>\n",
       "      <td>['#4E1500', '#000000', '#DB0000', '#FFEC00', '...</td>\n",
       "      <td>...</td>\n",
       "      <td>0</td>\n",
       "      <td>1</td>\n",
       "      <td>1</td>\n",
       "      <td>0</td>\n",
       "      <td>0</td>\n",
       "      <td>0</td>\n",
       "      <td>0</td>\n",
       "      <td>0</td>\n",
       "      <td>1</td>\n",
       "      <td>0</td>\n",
       "    </tr>\n",
       "    <tr>\n",
       "      <th>3</th>\n",
       "      <td>4</td>\n",
       "      <td>285</td>\n",
       "      <td>https://www.twoinchbrush.com/images/painting28...</td>\n",
       "      <td>Winter Mist</td>\n",
       "      <td>1</td>\n",
       "      <td>4</td>\n",
       "      <td>3</td>\n",
       "      <td>https://www.youtube.com/embed/0pwoixRikn4</td>\n",
       "      <td>['Prussian Blue', 'Titanium White', 'Van Dyke ...</td>\n",
       "      <td>['#021E44', '#FFFFFF', '#221B15']</td>\n",
       "      <td>...</td>\n",
       "      <td>0</td>\n",
       "      <td>1</td>\n",
       "      <td>1</td>\n",
       "      <td>0</td>\n",
       "      <td>0</td>\n",
       "      <td>0</td>\n",
       "      <td>0</td>\n",
       "      <td>0</td>\n",
       "      <td>0</td>\n",
       "      <td>0</td>\n",
       "    </tr>\n",
       "    <tr>\n",
       "      <th>4</th>\n",
       "      <td>5</td>\n",
       "      <td>286</td>\n",
       "      <td>https://www.twoinchbrush.com/images/painting28...</td>\n",
       "      <td>Quiet Stream</td>\n",
       "      <td>1</td>\n",
       "      <td>5</td>\n",
       "      <td>8</td>\n",
       "      <td>https://www.youtube.com/embed/DFSIQNjKRfk</td>\n",
       "      <td>['Alizarin Crimson', 'Bright Red', 'Cadmium Ye...</td>\n",
       "      <td>['#4E1500', '#DB0000', '#FFEC00', '#102E3C', '...</td>\n",
       "      <td>...</td>\n",
       "      <td>0</td>\n",
       "      <td>1</td>\n",
       "      <td>1</td>\n",
       "      <td>0</td>\n",
       "      <td>0</td>\n",
       "      <td>0</td>\n",
       "      <td>0</td>\n",
       "      <td>0</td>\n",
       "      <td>0</td>\n",
       "      <td>0</td>\n",
       "    </tr>\n",
       "    <tr>\n",
       "      <th>...</th>\n",
       "      <td>...</td>\n",
       "      <td>...</td>\n",
       "      <td>...</td>\n",
       "      <td>...</td>\n",
       "      <td>...</td>\n",
       "      <td>...</td>\n",
       "      <td>...</td>\n",
       "      <td>...</td>\n",
       "      <td>...</td>\n",
       "      <td>...</td>\n",
       "      <td>...</td>\n",
       "      <td>...</td>\n",
       "      <td>...</td>\n",
       "      <td>...</td>\n",
       "      <td>...</td>\n",
       "      <td>...</td>\n",
       "      <td>...</td>\n",
       "      <td>...</td>\n",
       "      <td>...</td>\n",
       "      <td>...</td>\n",
       "      <td>...</td>\n",
       "    </tr>\n",
       "    <tr>\n",
       "      <th>398</th>\n",
       "      <td>399</td>\n",
       "      <td>407</td>\n",
       "      <td>https://www.twoinchbrush.com/images/painting40...</td>\n",
       "      <td>Evergreen Valley</td>\n",
       "      <td>31</td>\n",
       "      <td>9</td>\n",
       "      <td>14</td>\n",
       "      <td>https://www.youtube.com/embed/mEU0stNfkxI</td>\n",
       "      <td>['Alizarin Crimson', 'Bright Red', 'Cadmium Ye...</td>\n",
       "      <td>['#4E1500', '#DB0000', '#FFEC00', '#5F2E1F', '...</td>\n",
       "      <td>...</td>\n",
       "      <td>0</td>\n",
       "      <td>1</td>\n",
       "      <td>1</td>\n",
       "      <td>0</td>\n",
       "      <td>0</td>\n",
       "      <td>0</td>\n",
       "      <td>0</td>\n",
       "      <td>0</td>\n",
       "      <td>0</td>\n",
       "      <td>0</td>\n",
       "    </tr>\n",
       "    <tr>\n",
       "      <th>399</th>\n",
       "      <td>400</td>\n",
       "      <td>408</td>\n",
       "      <td>https://www.twoinchbrush.com/images/painting40...</td>\n",
       "      <td>Balmy Beach</td>\n",
       "      <td>31</td>\n",
       "      <td>10</td>\n",
       "      <td>13</td>\n",
       "      <td>https://www.youtube.com/embed/kMgd6r6c4vE</td>\n",
       "      <td>['Alizarin Crimson', 'Black Gesso', 'Bright Re...</td>\n",
       "      <td>['#4E1500', '#000000', '#DB0000', '#FFEC00', '...</td>\n",
       "      <td>...</td>\n",
       "      <td>0</td>\n",
       "      <td>0</td>\n",
       "      <td>0</td>\n",
       "      <td>0</td>\n",
       "      <td>0</td>\n",
       "      <td>1</td>\n",
       "      <td>0</td>\n",
       "      <td>0</td>\n",
       "      <td>0</td>\n",
       "      <td>0</td>\n",
       "    </tr>\n",
       "    <tr>\n",
       "      <th>400</th>\n",
       "      <td>401</td>\n",
       "      <td>409</td>\n",
       "      <td>https://www.twoinchbrush.com/images/painting40...</td>\n",
       "      <td>Lake at the Ridge</td>\n",
       "      <td>31</td>\n",
       "      <td>11</td>\n",
       "      <td>12</td>\n",
       "      <td>https://www.youtube.com/embed/8QWvzEQ69Kw</td>\n",
       "      <td>['Alizarin Crimson', 'Bright Red', 'Cadmium Ye...</td>\n",
       "      <td>['#4E1500', '#DB0000', '#FFEC00', '#5F2E1F', '...</td>\n",
       "      <td>...</td>\n",
       "      <td>0</td>\n",
       "      <td>1</td>\n",
       "      <td>1</td>\n",
       "      <td>0</td>\n",
       "      <td>0</td>\n",
       "      <td>0</td>\n",
       "      <td>0</td>\n",
       "      <td>0</td>\n",
       "      <td>0</td>\n",
       "      <td>0</td>\n",
       "    </tr>\n",
       "    <tr>\n",
       "      <th>401</th>\n",
       "      <td>402</td>\n",
       "      <td>410</td>\n",
       "      <td>https://www.twoinchbrush.com/images/painting41...</td>\n",
       "      <td>In the Midst of Winter</td>\n",
       "      <td>31</td>\n",
       "      <td>12</td>\n",
       "      <td>7</td>\n",
       "      <td>https://www.youtube.com/embed/qx2IsmrCs3c</td>\n",
       "      <td>['Alizarin Crimson', 'Dark Sienna', 'Midnight ...</td>\n",
       "      <td>['#4E1500', '#5F2E1F', '#000000', '#0C0040', '...</td>\n",
       "      <td>...</td>\n",
       "      <td>0</td>\n",
       "      <td>1</td>\n",
       "      <td>1</td>\n",
       "      <td>0</td>\n",
       "      <td>0</td>\n",
       "      <td>0</td>\n",
       "      <td>0</td>\n",
       "      <td>0</td>\n",
       "      <td>1</td>\n",
       "      <td>0</td>\n",
       "    </tr>\n",
       "    <tr>\n",
       "      <th>402</th>\n",
       "      <td>403</td>\n",
       "      <td>411</td>\n",
       "      <td>https://www.twoinchbrush.com/images/painting41...</td>\n",
       "      <td>Wilderness Day</td>\n",
       "      <td>31</td>\n",
       "      <td>13</td>\n",
       "      <td>12</td>\n",
       "      <td>https://www.youtube.com/embed/nJGCVFn57U8</td>\n",
       "      <td>['Alizarin Crimson', 'Black Gesso', 'Bright Re...</td>\n",
       "      <td>['#4E1500', '#000000', '#DB0000', '#FFEC00', '...</td>\n",
       "      <td>...</td>\n",
       "      <td>0</td>\n",
       "      <td>1</td>\n",
       "      <td>1</td>\n",
       "      <td>0</td>\n",
       "      <td>0</td>\n",
       "      <td>0</td>\n",
       "      <td>0</td>\n",
       "      <td>0</td>\n",
       "      <td>0</td>\n",
       "      <td>0</td>\n",
       "    </tr>\n",
       "  </tbody>\n",
       "</table>\n",
       "<p>403 rows × 97 columns</p>\n",
       "</div>"
      ],
      "text/plain": [
       "     Unnamed: 0  painting_index  \\\n",
       "0             1             282   \n",
       "1             2             283   \n",
       "2             3             284   \n",
       "3             4             285   \n",
       "4             5             286   \n",
       "..          ...             ...   \n",
       "398         399             407   \n",
       "399         400             408   \n",
       "400         401             409   \n",
       "401         402             410   \n",
       "402         403             411   \n",
       "\n",
       "                                               img_src  \\\n",
       "0    https://www.twoinchbrush.com/images/painting28...   \n",
       "1    https://www.twoinchbrush.com/images/painting28...   \n",
       "2    https://www.twoinchbrush.com/images/painting28...   \n",
       "3    https://www.twoinchbrush.com/images/painting28...   \n",
       "4    https://www.twoinchbrush.com/images/painting28...   \n",
       "..                                                 ...   \n",
       "398  https://www.twoinchbrush.com/images/painting40...   \n",
       "399  https://www.twoinchbrush.com/images/painting40...   \n",
       "400  https://www.twoinchbrush.com/images/painting40...   \n",
       "401  https://www.twoinchbrush.com/images/painting41...   \n",
       "402  https://www.twoinchbrush.com/images/painting41...   \n",
       "\n",
       "             painting_title  season  episode  num_colors  \\\n",
       "0       A Walk in the Woods       1        1           8   \n",
       "1              Mt. McKinley       1        2           8   \n",
       "2              Ebony Sunset       1        3           9   \n",
       "3               Winter Mist       1        4           3   \n",
       "4              Quiet Stream       1        5           8   \n",
       "..                      ...     ...      ...         ...   \n",
       "398        Evergreen Valley      31        9          14   \n",
       "399             Balmy Beach      31       10          13   \n",
       "400       Lake at the Ridge      31       11          12   \n",
       "401  In the Midst of Winter      31       12           7   \n",
       "402          Wilderness Day      31       13          12   \n",
       "\n",
       "                                   youtube_src  \\\n",
       "0    https://www.youtube.com/embed/oh5p5f5_-7A   \n",
       "1    https://www.youtube.com/embed/RInDWhYceLU   \n",
       "2    https://www.youtube.com/embed/UOziR7PoVco   \n",
       "3    https://www.youtube.com/embed/0pwoixRikn4   \n",
       "4    https://www.youtube.com/embed/DFSIQNjKRfk   \n",
       "..                                         ...   \n",
       "398  https://www.youtube.com/embed/mEU0stNfkxI   \n",
       "399  https://www.youtube.com/embed/kMgd6r6c4vE   \n",
       "400  https://www.youtube.com/embed/8QWvzEQ69Kw   \n",
       "401  https://www.youtube.com/embed/qx2IsmrCs3c   \n",
       "402  https://www.youtube.com/embed/nJGCVFn57U8   \n",
       "\n",
       "                                                colors  \\\n",
       "0    ['Alizarin Crimson', 'Bright Red', 'Cadmium Ye...   \n",
       "1    ['Alizarin Crimson', 'Bright Red', 'Cadmium Ye...   \n",
       "2    ['Alizarin Crimson', 'Black Gesso', 'Bright Re...   \n",
       "3    ['Prussian Blue', 'Titanium White', 'Van Dyke ...   \n",
       "4    ['Alizarin Crimson', 'Bright Red', 'Cadmium Ye...   \n",
       "..                                                 ...   \n",
       "398  ['Alizarin Crimson', 'Bright Red', 'Cadmium Ye...   \n",
       "399  ['Alizarin Crimson', 'Black Gesso', 'Bright Re...   \n",
       "400  ['Alizarin Crimson', 'Bright Red', 'Cadmium Ye...   \n",
       "401  ['Alizarin Crimson', 'Dark Sienna', 'Midnight ...   \n",
       "402  ['Alizarin Crimson', 'Black Gesso', 'Bright Re...   \n",
       "\n",
       "                                             color_hex  ...  TOMB_FRAME  TREE  \\\n",
       "0    ['#4E1500', '#DB0000', '#FFEC00', '#102E3C', '...  ...           0     1   \n",
       "1    ['#4E1500', '#DB0000', '#FFEC00', '#102E3C', '...  ...           0     1   \n",
       "2    ['#4E1500', '#000000', '#DB0000', '#FFEC00', '...  ...           0     1   \n",
       "3                    ['#021E44', '#FFFFFF', '#221B15']  ...           0     1   \n",
       "4    ['#4E1500', '#DB0000', '#FFEC00', '#102E3C', '...  ...           0     1   \n",
       "..                                                 ...  ...         ...   ...   \n",
       "398  ['#4E1500', '#DB0000', '#FFEC00', '#5F2E1F', '...  ...           0     1   \n",
       "399  ['#4E1500', '#000000', '#DB0000', '#FFEC00', '...  ...           0     0   \n",
       "400  ['#4E1500', '#DB0000', '#FFEC00', '#5F2E1F', '...  ...           0     1   \n",
       "401  ['#4E1500', '#5F2E1F', '#000000', '#0C0040', '...  ...           0     1   \n",
       "402  ['#4E1500', '#000000', '#DB0000', '#FFEC00', '...  ...           0     1   \n",
       "\n",
       "     TREES  TRIPLE_FRAME  WATERFALL  WAVES  WINDMILL  WINDOW_FRAME  WINTER  \\\n",
       "0        1             0          0      0         0             0       0   \n",
       "1        1             0          0      0         0             0       1   \n",
       "2        1             0          0      0         0             0       1   \n",
       "3        1             0          0      0         0             0       0   \n",
       "4        1             0          0      0         0             0       0   \n",
       "..     ...           ...        ...    ...       ...           ...     ...   \n",
       "398      1             0          0      0         0             0       0   \n",
       "399      0             0          0      1         0             0       0   \n",
       "400      1             0          0      0         0             0       0   \n",
       "401      1             0          0      0         0             0       1   \n",
       "402      1             0          0      0         0             0       0   \n",
       "\n",
       "     WOOD_FRAMED  \n",
       "0              0  \n",
       "1              0  \n",
       "2              0  \n",
       "3              0  \n",
       "4              0  \n",
       "..           ...  \n",
       "398            0  \n",
       "399            0  \n",
       "400            0  \n",
       "401            0  \n",
       "402            0  \n",
       "\n",
       "[403 rows x 97 columns]"
      ]
     },
     "execution_count": 3,
     "metadata": {},
     "output_type": "execute_result"
    }
   ],
=======
   "execution_count": null,
   "id": "9f08f4e7",
   "metadata": {},
   "outputs": [],
>>>>>>> e5be8a2d4ce62d3b254f9d7662908386d4b1154d
   "source": [
    "paint_colors = pd.read_csv(\"https://raw.githubusercontent.com/jwilber/Bob_Ross_Paintings/master/data/bob_ross_paintings.csv\")\n",
    "objects = pd.read_csv(\"https://raw.githubusercontent.com/rfordatascience/tidytuesday/master/data/2019/2019-08-06/bob-ross.csv\")\n",
    "objects['season'] = objects['EPISODE'].str[1:3]\n",
    "objects['season'] = objects['season'].astype(int)\n",
    "objects['episode'] = objects['EPISODE'].str[4:]\n",
    "objects['episode'] = objects['episode'].astype(int)\n",
<<<<<<< HEAD
    "df = paint_colors.merge(objects, on = ['episode', 'season'])\n",
    "df"
   ]
  },
  {
   "cell_type": "code",
   "execution_count": 13,
   "id": "4899beec-866a-4c92-85d7-83f3317e7374",
   "metadata": {},
   "outputs": [
    {
     "data": {
      "text/plain": [
       "Unnamed: 0         int64\n",
       "painting_index     int64\n",
       "img_src           object\n",
       "painting_title    object\n",
       "season             int64\n",
       "                   ...  \n",
       "WAVES              int64\n",
       "WINDMILL           int64\n",
       "WINDOW_FRAME       int64\n",
       "WINTER             int64\n",
       "WOOD_FRAMED        int64\n",
       "Length: 97, dtype: object"
      ]
     },
     "execution_count": 13,
     "metadata": {},
     "output_type": "execute_result"
    }
   ],
   "source": [
    "df.dtypes"
=======
    "df = paint_colors.merge(objects, on = ['episode', 'season'])"
>>>>>>> e5be8a2d4ce62d3b254f9d7662908386d4b1154d
   ]
  },
  {
   "cell_type": "markdown",
   "id": "4b63c7f2",
   "metadata": {},
   "source": [
    "## 1. Summarize the Paintings [0.5 points]\n",
    "\n",
    "Generate numerical summaries for the number of colors variable for this data."
   ]
  },
  {
   "cell_type": "code",
<<<<<<< HEAD
   "execution_count": 5,
   "id": "0099ea26",
   "metadata": {},
   "outputs": [
    {
     "data": {
      "text/plain": [
       "10.605459057071961"
      ]
     },
     "execution_count": 5,
     "metadata": {},
     "output_type": "execute_result"
    }
   ],
   "source": [
    "df['num_colors'].mean()"
   ]
  },
  {
   "cell_type": "code",
   "execution_count": 28,
   "id": "790a3748-506f-4bdb-aa17-d2da83681496",
   "metadata": {},
   "outputs": [
    {
     "data": {
      "text/plain": [
       "11.0"
      ]
     },
     "execution_count": 28,
     "metadata": {},
     "output_type": "execute_result"
    }
   ],
   "source": [
    "df['num_colors'].median()"
   ]
  },
  {
   "cell_type": "code",
   "execution_count": 8,
   "id": "672fffde-36da-40f3-a53e-2544227a64fa",
   "metadata": {},
   "outputs": [
    {
     "data": {
      "text/plain": [
       "214    15\n",
       "Name: num_colors, dtype: int64"
      ]
     },
     "execution_count": 8,
     "metadata": {},
     "output_type": "execute_result"
    }
   ],
   "source": [
    "df['num_colors'].nlargest(1)"
   ]
  },
  {
   "cell_type": "code",
   "execution_count": 9,
   "id": "be180d9b-f7d3-4031-9d73-08c6bf426d61",
   "metadata": {},
   "outputs": [
    {
     "data": {
      "text/plain": [
       "200    1\n",
       "Name: num_colors, dtype: int64"
      ]
     },
     "execution_count": 9,
     "metadata": {},
     "output_type": "execute_result"
    }
   ],
   "source": [
    "df['num_colors'].nsmallest(1)"
   ]
  },
  {
   "cell_type": "code",
   "execution_count": 27,
   "id": "415e0700-c7f9-47a0-a0d8-078d4714bdae",
   "metadata": {},
   "outputs": [
    {
     "data": {
      "text/plain": [
       "2.378525396098742"
      ]
     },
     "execution_count": 27,
     "metadata": {},
     "output_type": "execute_result"
    }
   ],
   "source": [
    "df['num_colors'].std()"
   ]
  },
  {
   "cell_type": "code",
   "execution_count": 80,
   "id": "2c8b0f34-65ac-4143-945a-55098b649925",
   "metadata": {},
   "outputs": [
    {
     "data": {
      "text/plain": [
       "count    403.000000\n",
       "mean      10.605459\n",
       "std        2.378525\n",
       "min        1.000000\n",
       "25%        9.000000\n",
       "50%       11.000000\n",
       "75%       12.000000\n",
       "max       15.000000\n",
       "Name: num_colors, dtype: float64"
      ]
     },
     "execution_count": 80,
     "metadata": {},
     "output_type": "execute_result"
    }
   ],
   "source": [
    "df['num_colors'].describe()"
   ]
=======
   "execution_count": null,
   "id": "0099ea26",
   "metadata": {},
   "outputs": [],
   "source": []
>>>>>>> e5be8a2d4ce62d3b254f9d7662908386d4b1154d
  },
  {
   "cell_type": "markdown",
   "id": "1e80439f",
   "metadata": {},
   "source": [
    "## 2. Locating One Painting [1 point]\n",
    "\n",
    "Locate the painting from Season 31, Episode 10.  \n",
    "\n",
    "Tip: We can use the **`&`** (\"and\") operator to indicate that we want **both** conditions on either side of the operator to be met.  We can use the **`|`** (\"or\") operator to indicate that we want **at least one** of the conditions to be met.  We can also chain these operators together if we need to represent more complex operations.\n",
    "\n",
    "Determine the number of colors used in our painting of interest."
   ]
  },
  {
   "cell_type": "code",
<<<<<<< HEAD
   "execution_count": 12,
   "id": "71941b71",
   "metadata": {},
   "outputs": [
    {
     "data": {
      "text/plain": [
       "399    13\n",
       "Name: num_colors, dtype: int64"
      ]
     },
     "execution_count": 12,
     "metadata": {},
     "output_type": "execute_result"
    }
   ],
   "source": [
    "df[(df.season == 31) & (df.episode == 10)].num_colors"
   ]
  },
  {
   "cell_type": "code",
   "execution_count": 45,
   "id": "006dc54d-18ea-4c49-93f3-fde5fb75a32a",
   "metadata": {},
   "outputs": [
    {
     "data": {
      "text/plain": [
       "76"
      ]
     },
     "execution_count": 45,
     "metadata": {},
     "output_type": "execute_result"
    }
   ],
   "source": [
    "len(df[df.num_colors >= 13])"
   ]
  },
  {
   "cell_type": "code",
   "execution_count": 46,
   "id": "77d33bb4-f9e1-46c6-9bea-fb844b148869",
   "metadata": {},
   "outputs": [
    {
     "data": {
      "text/plain": [
       "403"
      ]
     },
     "execution_count": 46,
     "metadata": {},
     "output_type": "execute_result"
    }
   ],
   "source": [
    "len(df)"
   ]
  },
  {
   "cell_type": "code",
   "execution_count": 49,
   "id": "6cc3637b-74de-4c31-b955-45141688580d",
   "metadata": {},
   "outputs": [
    {
     "data": {
      "text/plain": [
       "4"
      ]
     },
     "execution_count": 49,
     "metadata": {},
     "output_type": "execute_result"
    }
   ],
   "source": [
    "len(df[(df.season == 31) & (df.num_colors >=13)])"
   ]
  },
  {
   "cell_type": "code",
   "execution_count": 54,
   "id": "d630de6a-8a48-416d-b1bc-ab45fbc4ea43",
   "metadata": {},
   "outputs": [
    {
     "data": {
      "text/plain": [
       "13"
      ]
     },
     "execution_count": 54,
     "metadata": {},
     "output_type": "execute_result"
    }
   ],
   "source": [
    "len(df[df.season == 31])"
   ]
  },
  {
   "cell_type": "code",
   "execution_count": 62,
   "id": "01745f0c-9ca8-44ff-bc08-8036c785ad23",
   "metadata": {},
   "outputs": [
    {
     "data": {
      "text/plain": [
       "5"
      ]
     },
     "execution_count": 62,
     "metadata": {},
     "output_type": "execute_result"
    }
   ],
   "source": [
    "len(df[(df.OCEAN == 1) & (df.num_colors >= 13)])"
   ]
=======
   "execution_count": null,
   "id": "71941b71",
   "metadata": {},
   "outputs": [],
   "source": []
>>>>>>> e5be8a2d4ce62d3b254f9d7662908386d4b1154d
  },
  {
   "cell_type": "markdown",
   "id": "b80ce253",
   "metadata": {},
   "source": [
    "## 3. Palm Tree Paintings [0.5 points]\n",
    "\n",
    "Let's now look at the paintings that include palm trees.  Calculate the mean number of colors used in the paintings that have palm trees."
   ]
  },
  {
   "cell_type": "code",
<<<<<<< HEAD
   "execution_count": 63,
   "id": "04be5672-3351-43bf-9039-96ee94672e63",
   "metadata": {},
   "outputs": [
    {
     "data": {
      "text/plain": [
       "PALM_TREES\n",
       "0    394\n",
       "1      9\n",
       "Name: count, dtype: int64"
      ]
     },
     "execution_count": 63,
     "metadata": {},
     "output_type": "execute_result"
    }
   ],
   "source": [
    "df.PALM_TREES.value_counts()"
   ]
  },
  {
   "cell_type": "code",
   "execution_count": 65,
   "id": "3b494759",
   "metadata": {},
   "outputs": [
    {
     "data": {
      "text/html": [
       "<div>\n",
       "<style scoped>\n",
       "    .dataframe tbody tr th:only-of-type {\n",
       "        vertical-align: middle;\n",
       "    }\n",
       "\n",
       "    .dataframe tbody tr th {\n",
       "        vertical-align: top;\n",
       "    }\n",
       "\n",
       "    .dataframe thead th {\n",
       "        text-align: right;\n",
       "    }\n",
       "</style>\n",
       "<table border=\"1\" class=\"dataframe\">\n",
       "  <thead>\n",
       "    <tr style=\"text-align: right;\">\n",
       "      <th></th>\n",
       "      <th>Unnamed: 0</th>\n",
       "      <th>painting_index</th>\n",
       "      <th>img_src</th>\n",
       "      <th>painting_title</th>\n",
       "      <th>season</th>\n",
       "      <th>episode</th>\n",
       "      <th>num_colors</th>\n",
       "      <th>youtube_src</th>\n",
       "      <th>colors</th>\n",
       "      <th>color_hex</th>\n",
       "      <th>...</th>\n",
       "      <th>TOMB_FRAME</th>\n",
       "      <th>TREE</th>\n",
       "      <th>TREES</th>\n",
       "      <th>TRIPLE_FRAME</th>\n",
       "      <th>WATERFALL</th>\n",
       "      <th>WAVES</th>\n",
       "      <th>WINDMILL</th>\n",
       "      <th>WINDOW_FRAME</th>\n",
       "      <th>WINTER</th>\n",
       "      <th>WOOD_FRAMED</th>\n",
       "    </tr>\n",
       "  </thead>\n",
       "  <tbody>\n",
       "    <tr>\n",
       "      <th>27</th>\n",
       "      <td>28</td>\n",
       "      <td>257</td>\n",
       "      <td>https://www.twoinchbrush.com/images/painting25...</td>\n",
       "      <td>Blue Moon</td>\n",
       "      <td>3</td>\n",
       "      <td>2</td>\n",
       "      <td>12</td>\n",
       "      <td>https://www.youtube.com/embed/loit61vLUMc</td>\n",
       "      <td>['Alizarin Crimson', 'Bright Red', 'Burnt Umbe...</td>\n",
       "      <td>['#4E1500', '#DB0000', '#8A3324', '#FFEC00', '...</td>\n",
       "      <td>...</td>\n",
       "      <td>0</td>\n",
       "      <td>1</td>\n",
       "      <td>1</td>\n",
       "      <td>0</td>\n",
       "      <td>0</td>\n",
       "      <td>1</td>\n",
       "      <td>0</td>\n",
       "      <td>0</td>\n",
       "      <td>0</td>\n",
       "      <td>0</td>\n",
       "    </tr>\n",
       "    <tr>\n",
       "      <th>151</th>\n",
       "      <td>152</td>\n",
       "      <td>145</td>\n",
       "      <td>https://www.twoinchbrush.com/images/painting14...</td>\n",
       "      <td>Tropical Seascape</td>\n",
       "      <td>12</td>\n",
       "      <td>9</td>\n",
       "      <td>12</td>\n",
       "      <td>https://www.youtube.com/embed/RrBsbqO9aqI</td>\n",
       "      <td>['Alizarin Crimson', 'Bright Red', 'Cadmium Ye...</td>\n",
       "      <td>['#4E1500', '#DB0000', '#FFEC00', '#5F2E1F', '...</td>\n",
       "      <td>...</td>\n",
       "      <td>0</td>\n",
       "      <td>0</td>\n",
       "      <td>0</td>\n",
       "      <td>0</td>\n",
       "      <td>0</td>\n",
       "      <td>1</td>\n",
       "      <td>0</td>\n",
       "      <td>0</td>\n",
       "      <td>0</td>\n",
       "      <td>0</td>\n",
       "    </tr>\n",
       "    <tr>\n",
       "      <th>175</th>\n",
       "      <td>176</td>\n",
       "      <td>117</td>\n",
       "      <td>https://www.twoinchbrush.com/images/painting11...</td>\n",
       "      <td>Windy Waves</td>\n",
       "      <td>14</td>\n",
       "      <td>7</td>\n",
       "      <td>14</td>\n",
       "      <td>https://www.youtube.com/embed/y6GVVjG4HMg</td>\n",
       "      <td>['Alizarin Crimson', 'Bright Red', 'Cadmium Ye...</td>\n",
       "      <td>['#4E1500', '#DB0000', '#FFEC00', '#5F2E1F', '...</td>\n",
       "      <td>...</td>\n",
       "      <td>0</td>\n",
       "      <td>0</td>\n",
       "      <td>0</td>\n",
       "      <td>0</td>\n",
       "      <td>0</td>\n",
       "      <td>1</td>\n",
       "      <td>0</td>\n",
       "      <td>0</td>\n",
       "      <td>0</td>\n",
       "      <td>0</td>\n",
       "    </tr>\n",
       "    <tr>\n",
       "      <th>202</th>\n",
       "      <td>203</td>\n",
       "      <td>91</td>\n",
       "      <td>https://www.twoinchbrush.com/images/painting91...</td>\n",
       "      <td>High Tide</td>\n",
       "      <td>16</td>\n",
       "      <td>8</td>\n",
       "      <td>12</td>\n",
       "      <td>https://www.youtube.com/embed/_IREQ4SIcX8</td>\n",
       "      <td>['Alizarin Crimson', 'Black Gesso', 'Bright Re...</td>\n",
       "      <td>['#4E1500', '#000000', '#DB0000', '#FFEC00', '...</td>\n",
       "      <td>...</td>\n",
       "      <td>0</td>\n",
       "      <td>0</td>\n",
       "      <td>0</td>\n",
       "      <td>0</td>\n",
       "      <td>0</td>\n",
       "      <td>1</td>\n",
       "      <td>0</td>\n",
       "      <td>0</td>\n",
       "      <td>0</td>\n",
       "      <td>0</td>\n",
       "    </tr>\n",
       "    <tr>\n",
       "      <th>272</th>\n",
       "      <td>273</td>\n",
       "      <td>30</td>\n",
       "      <td>https://www.twoinchbrush.com/images/painting30...</td>\n",
       "      <td>Florida's Glory</td>\n",
       "      <td>21</td>\n",
       "      <td>13</td>\n",
       "      <td>11</td>\n",
       "      <td>https://www.youtube.com/embed/HQC5sPN9Xhc</td>\n",
       "      <td>['Alizarin Crimson', 'Cadmium Yellow', 'Dark S...</td>\n",
       "      <td>['#4E1500', '#FFEC00', '#5F2E1F', '#FFFFFF', '...</td>\n",
       "      <td>...</td>\n",
       "      <td>0</td>\n",
       "      <td>0</td>\n",
       "      <td>0</td>\n",
       "      <td>0</td>\n",
       "      <td>0</td>\n",
       "      <td>1</td>\n",
       "      <td>0</td>\n",
       "      <td>0</td>\n",
       "      <td>0</td>\n",
       "      <td>0</td>\n",
       "    </tr>\n",
       "    <tr>\n",
       "      <th>321</th>\n",
       "      <td>322</td>\n",
       "      <td>330</td>\n",
       "      <td>https://www.twoinchbrush.com/images/painting33...</td>\n",
       "      <td>Just Before the Storm</td>\n",
       "      <td>25</td>\n",
       "      <td>10</td>\n",
       "      <td>8</td>\n",
       "      <td>https://www.youtube.com/embed/Rh-jKrMrmOA</td>\n",
       "      <td>['Alizarin Crimson', 'Cadmium Yellow', 'Dark S...</td>\n",
       "      <td>['#4E1500', '#FFEC00', '#5F2E1F', '#000000', '...</td>\n",
       "      <td>...</td>\n",
       "      <td>0</td>\n",
       "      <td>0</td>\n",
       "      <td>0</td>\n",
       "      <td>0</td>\n",
       "      <td>0</td>\n",
       "      <td>1</td>\n",
       "      <td>0</td>\n",
       "      <td>0</td>\n",
       "      <td>0</td>\n",
       "      <td>0</td>\n",
       "    </tr>\n",
       "    <tr>\n",
       "      <th>346</th>\n",
       "      <td>347</td>\n",
       "      <td>355</td>\n",
       "      <td>https://www.twoinchbrush.com/images/painting35...</td>\n",
       "      <td>Island Paradise</td>\n",
       "      <td>27</td>\n",
       "      <td>9</td>\n",
       "      <td>12</td>\n",
       "      <td>https://www.youtube.com/embed/Cg3XAVhAas0</td>\n",
       "      <td>['Alizarin Crimson', 'Bright Red', 'Cadmium Ye...</td>\n",
       "      <td>['#4E1500', '#DB0000', '#FFEC00', '#5F2E1F', '...</td>\n",
       "      <td>...</td>\n",
       "      <td>0</td>\n",
       "      <td>0</td>\n",
       "      <td>0</td>\n",
       "      <td>0</td>\n",
       "      <td>0</td>\n",
       "      <td>1</td>\n",
       "      <td>0</td>\n",
       "      <td>0</td>\n",
       "      <td>0</td>\n",
       "      <td>0</td>\n",
       "    </tr>\n",
       "    <tr>\n",
       "      <th>372</th>\n",
       "      <td>373</td>\n",
       "      <td>381</td>\n",
       "      <td>https://www.twoinchbrush.com/images/painting38...</td>\n",
       "      <td>Storm on the Horizon</td>\n",
       "      <td>29</td>\n",
       "      <td>9</td>\n",
       "      <td>9</td>\n",
       "      <td>https://www.youtube.com/embed/pA_2paUhBAQ</td>\n",
       "      <td>['Alizarin Crimson', 'Bright Red', 'Dark Sienn...</td>\n",
       "      <td>['#4E1500', '#DB0000', '#5F2E1F', '#000000', '...</td>\n",
       "      <td>...</td>\n",
       "      <td>0</td>\n",
       "      <td>0</td>\n",
       "      <td>0</td>\n",
       "      <td>0</td>\n",
       "      <td>0</td>\n",
       "      <td>1</td>\n",
       "      <td>0</td>\n",
       "      <td>0</td>\n",
       "      <td>0</td>\n",
       "      <td>0</td>\n",
       "    </tr>\n",
       "    <tr>\n",
       "      <th>399</th>\n",
       "      <td>400</td>\n",
       "      <td>408</td>\n",
       "      <td>https://www.twoinchbrush.com/images/painting40...</td>\n",
       "      <td>Balmy Beach</td>\n",
       "      <td>31</td>\n",
       "      <td>10</td>\n",
       "      <td>13</td>\n",
       "      <td>https://www.youtube.com/embed/kMgd6r6c4vE</td>\n",
       "      <td>['Alizarin Crimson', 'Black Gesso', 'Bright Re...</td>\n",
       "      <td>['#4E1500', '#000000', '#DB0000', '#FFEC00', '...</td>\n",
       "      <td>...</td>\n",
       "      <td>0</td>\n",
       "      <td>0</td>\n",
       "      <td>0</td>\n",
       "      <td>0</td>\n",
       "      <td>0</td>\n",
       "      <td>1</td>\n",
       "      <td>0</td>\n",
       "      <td>0</td>\n",
       "      <td>0</td>\n",
       "      <td>0</td>\n",
       "    </tr>\n",
       "  </tbody>\n",
       "</table>\n",
       "<p>9 rows × 97 columns</p>\n",
       "</div>"
      ],
      "text/plain": [
       "     Unnamed: 0  painting_index  \\\n",
       "27           28             257   \n",
       "151         152             145   \n",
       "175         176             117   \n",
       "202         203              91   \n",
       "272         273              30   \n",
       "321         322             330   \n",
       "346         347             355   \n",
       "372         373             381   \n",
       "399         400             408   \n",
       "\n",
       "                                               img_src         painting_title  \\\n",
       "27   https://www.twoinchbrush.com/images/painting25...              Blue Moon   \n",
       "151  https://www.twoinchbrush.com/images/painting14...      Tropical Seascape   \n",
       "175  https://www.twoinchbrush.com/images/painting11...            Windy Waves   \n",
       "202  https://www.twoinchbrush.com/images/painting91...              High Tide   \n",
       "272  https://www.twoinchbrush.com/images/painting30...        Florida's Glory   \n",
       "321  https://www.twoinchbrush.com/images/painting33...  Just Before the Storm   \n",
       "346  https://www.twoinchbrush.com/images/painting35...        Island Paradise   \n",
       "372  https://www.twoinchbrush.com/images/painting38...   Storm on the Horizon   \n",
       "399  https://www.twoinchbrush.com/images/painting40...            Balmy Beach   \n",
       "\n",
       "     season  episode  num_colors                                youtube_src  \\\n",
       "27        3        2          12  https://www.youtube.com/embed/loit61vLUMc   \n",
       "151      12        9          12  https://www.youtube.com/embed/RrBsbqO9aqI   \n",
       "175      14        7          14  https://www.youtube.com/embed/y6GVVjG4HMg   \n",
       "202      16        8          12  https://www.youtube.com/embed/_IREQ4SIcX8   \n",
       "272      21       13          11  https://www.youtube.com/embed/HQC5sPN9Xhc   \n",
       "321      25       10           8  https://www.youtube.com/embed/Rh-jKrMrmOA   \n",
       "346      27        9          12  https://www.youtube.com/embed/Cg3XAVhAas0   \n",
       "372      29        9           9  https://www.youtube.com/embed/pA_2paUhBAQ   \n",
       "399      31       10          13  https://www.youtube.com/embed/kMgd6r6c4vE   \n",
       "\n",
       "                                                colors  \\\n",
       "27   ['Alizarin Crimson', 'Bright Red', 'Burnt Umbe...   \n",
       "151  ['Alizarin Crimson', 'Bright Red', 'Cadmium Ye...   \n",
       "175  ['Alizarin Crimson', 'Bright Red', 'Cadmium Ye...   \n",
       "202  ['Alizarin Crimson', 'Black Gesso', 'Bright Re...   \n",
       "272  ['Alizarin Crimson', 'Cadmium Yellow', 'Dark S...   \n",
       "321  ['Alizarin Crimson', 'Cadmium Yellow', 'Dark S...   \n",
       "346  ['Alizarin Crimson', 'Bright Red', 'Cadmium Ye...   \n",
       "372  ['Alizarin Crimson', 'Bright Red', 'Dark Sienn...   \n",
       "399  ['Alizarin Crimson', 'Black Gesso', 'Bright Re...   \n",
       "\n",
       "                                             color_hex  ...  TOMB_FRAME  TREE  \\\n",
       "27   ['#4E1500', '#DB0000', '#8A3324', '#FFEC00', '...  ...           0     1   \n",
       "151  ['#4E1500', '#DB0000', '#FFEC00', '#5F2E1F', '...  ...           0     0   \n",
       "175  ['#4E1500', '#DB0000', '#FFEC00', '#5F2E1F', '...  ...           0     0   \n",
       "202  ['#4E1500', '#000000', '#DB0000', '#FFEC00', '...  ...           0     0   \n",
       "272  ['#4E1500', '#FFEC00', '#5F2E1F', '#FFFFFF', '...  ...           0     0   \n",
       "321  ['#4E1500', '#FFEC00', '#5F2E1F', '#000000', '...  ...           0     0   \n",
       "346  ['#4E1500', '#DB0000', '#FFEC00', '#5F2E1F', '...  ...           0     0   \n",
       "372  ['#4E1500', '#DB0000', '#5F2E1F', '#000000', '...  ...           0     0   \n",
       "399  ['#4E1500', '#000000', '#DB0000', '#FFEC00', '...  ...           0     0   \n",
       "\n",
       "     TREES  TRIPLE_FRAME  WATERFALL  WAVES  WINDMILL  WINDOW_FRAME  WINTER  \\\n",
       "27       1             0          0      1         0             0       0   \n",
       "151      0             0          0      1         0             0       0   \n",
       "175      0             0          0      1         0             0       0   \n",
       "202      0             0          0      1         0             0       0   \n",
       "272      0             0          0      1         0             0       0   \n",
       "321      0             0          0      1         0             0       0   \n",
       "346      0             0          0      1         0             0       0   \n",
       "372      0             0          0      1         0             0       0   \n",
       "399      0             0          0      1         0             0       0   \n",
       "\n",
       "     WOOD_FRAMED  \n",
       "27             0  \n",
       "151            0  \n",
       "175            0  \n",
       "202            0  \n",
       "272            0  \n",
       "321            0  \n",
       "346            0  \n",
       "372            0  \n",
       "399            0  \n",
       "\n",
       "[9 rows x 97 columns]"
      ]
     },
     "execution_count": 65,
     "metadata": {},
     "output_type": "execute_result"
    }
   ],
   "source": [
    "dfpalm = df[df.PALM_TREES == 1]\n",
    "dfpalm"
   ]
  },
  {
   "cell_type": "code",
   "execution_count": 26,
   "id": "fc76afd1-4f6a-4f09-98c3-1c2ec43533df",
   "metadata": {},
   "outputs": [
    {
     "data": {
      "text/plain": [
       "11.444444444444445"
      ]
     },
     "execution_count": 26,
     "metadata": {},
     "output_type": "execute_result"
    }
   ],
   "source": [
    "dfpalm['num_colors'].mean()"
   ]
  },
  {
   "cell_type": "code",
   "execution_count": 38,
   "id": "776609ef-30b3-4493-aafe-ec5bf0782e5c",
   "metadata": {},
   "outputs": [
    {
     "data": {
      "text/plain": [
       "9"
      ]
     },
     "execution_count": 38,
     "metadata": {},
     "output_type": "execute_result"
    }
   ],
   "source": [
    "(df['PALM_TREES'] > 0).sum()"
   ]
  },
  {
   "cell_type": "code",
   "execution_count": 39,
   "id": "40a67657-b15a-4d02-8f0c-7dbedb87b1bf",
   "metadata": {},
   "outputs": [
    {
     "data": {
      "text/plain": [
       "9"
      ]
     },
     "execution_count": 39,
     "metadata": {},
     "output_type": "execute_result"
    }
   ],
   "source": [
    "df1 = df[df['PALM_TREES'] > 0]\n",
    "meancolors = df1['num_colors'].count()\n",
    "meancolors"
   ]
=======
   "execution_count": null,
   "id": "3b494759",
   "metadata": {},
   "outputs": [],
   "source": []
>>>>>>> e5be8a2d4ce62d3b254f9d7662908386d4b1154d
  },
  {
   "cell_type": "markdown",
   "id": "2e0dd729",
   "metadata": {},
   "source": [
    "## 4. Sampling Distribution for Number of Colors [2 points]\n",
    "\n",
    "For this question, you'll need to generate a sampling distribution with 5000 repeated random samples.  Calculate the mean number of colors used in a painting.  Be sure that you include the number of paintings so that your sampling distribution is consistent with the set of paintings with palm trees from Question 3."
   ]
  },
  {
   "cell_type": "code",
<<<<<<< HEAD
   "execution_count": 34,
   "id": "8ae05dc5",
   "metadata": {},
   "outputs": [
    {
     "data": {
      "text/plain": [
       "<Axes: >"
      ]
     },
     "execution_count": 34,
     "metadata": {},
     "output_type": "execute_result"
    },
    {
     "data": {
      "image/png": "iVBORw0KGgoAAAANSUhEUgAAAjMAAAGgCAYAAABfSOayAAAAOXRFWHRTb2Z0d2FyZQBNYXRwbG90bGliIHZlcnNpb24zLjguMCwgaHR0cHM6Ly9tYXRwbG90bGliLm9yZy81sbWrAAAACXBIWXMAAA9hAAAPYQGoP6dpAAAxXUlEQVR4nO3dfXSU5Z3/8c/MhMkDcXjIkgRhgTQtJ8aVoGbW7K4RGqXdI3r2ZNPt1jUUQSLWNVSUBDXsElYoeogNiRKXQhCO1U2w4VDWh1Mj7a49LcUkrbIaoouLqTwk4SAmBJIMM5PfH/wydUyUZBgyc03er3M8Sa7ruofvfJlbP973NRlLf39/vwAAAAxlDXUBAAAAl4MwAwAAjEaYAQAARiPMAAAAoxFmAACA0QgzAADAaIQZAABgNMIMAAAwWlSoCxgN/f398nr53YDDYbVa6FUA6Ftg6Ftg6Ftg6FtgQtU3q9Uii8UyrLVjIsx4vf369NNzoS4j7EVFWTVp0nh1dZ2X2+0NdTnGoG+BoW+BoW+BoW+BCWXfJk8eL5tteGHmsm4zVVVVadGiRX5jHR0devjhh5WZmambbrpJjzzyiD799FPfvNfrVWVlpbKzs5WRkaGlS5eqtbXV7zEOHz6s/Px8zZ07V/Pnz1d1dfXllAkAACJYwGFm586dqqys9BtzuVxaunSpPvnkEz3//PPaunWrmpubtXr1at+aqqoq1dTUaP369aqtrZXFYlFBQYFcLpck6cyZM1qyZIlmzZqluro6FRYWqqKiQnV1dYGWCgAAItiIbzO1t7erpKRETU1NSklJ8Zt75ZVXdPz4cdXX1+vP/uzPJEmPP/641q1bp+7ubtntdu3YsUNFRUWaN2+eJKm8vFzZ2dmqr6/XwoULtXv3btntdpWWlioqKkqpqalqbW3Vtm3blJeXF4SnDAAAIsmIw8z777+vCRMmaN++fdqyZYuOHz/um/v1r3+trKwsX5CRpOzsbL355puSpEOHDuncuXPKysryzTscDqWnp6uhoUELFy5UY2OjnE6noqL+VFpWVpa2bt2q06dPKyEhIbAnGsUbty7FZrP6fcXw0LfA0LfA0LfA0LfAmNK3EYeZnJwc5eTkDDn38ccfKzMzU1u2bNHevXvldrt18803q6ioSA6HQ21tbZKkqVOn+h2XmJiokydPSpLa2to0e/bsQfOSdOLEiYDCjNVq0aRJ40d83FjlcMSGugQj0bfA0LfA0LfA0LfAhHvfgvpupu7ubu3du1d/9Vd/paefflqdnZ3auHGjHnjgAb3wwgvq6emRJNntdr/joqOj1dnZKUnq7e0dcl6S+vr6AqrL6+1XV9f5gI4dS2w2qxyOWHV19cjjYbf/cNG3wNC3wNC3wNC3wISybw5H7LCvCAU1zIwbN05xcXF6+umnNW7cOEnShAkT9A//8A/6n//5H8XExEi6uFF44HvpYkiJjb2Y+mJiYnybgT8/L0lxcXEB18Zb8YbP4/HSrwDQt8DQt8DQt8DQt8CEe9+CehMsOTlZKSkpviAjSd/4xjckSceOHfPdXuro6PA7rqOjQ8nJyb7HGGpekpKSkoJZLgAAiABBDTOZmZlqaWlRb2+vb+zDDz+UJM2cOVNpaWmKj4/XwYMHffNdXV1qbm5WZmamJMnpdKqpqUkej8e35sCBA0pJSQl48y8AAIhcQQ0z3/ve92Sz2fTII4/oww8/VFNTk9asWaObbrpJ1157rex2u/Lz81VWVqb9+/erpaVFK1euVHJyshYsWCBJysvLU3d3t0pKSnTkyBHt2bNHu3bt0vLly4NZKgAAiBBB3TMzefJkvfjii9q4caO++93vym6367bbbtNjjz3mW7NixQq53W6tWbNGvb29cjqdqq6u9m36TUhI0Pbt27Vhwwbl5uZqypQpKi4uVm5ubjBLBQAAEcLS398f8Z+65fF4+WymYRj4DI4zZ86F9UavcEPfAkPfAkPfAkPfAhPKvl38bKbh3UAK79+CAwAAcAmEGQAAYDTCDAAAMFpQNwADwGizWi2yWi2hLmNEvN5+eb0Rv10RGDWEGQDGslotmjgxLuw/BO+LPB6vPvvsPIEGCBLCDABjWa0W2WxWlb3YpGPtZ0NdzrBMT7pKq+6+UVarhTADBAlhBoDxjrWf1UfHO0NdBoAQMevaLAAAwBcQZgAAgNEIMwAAwGiEGQAAYDTCDAAAMBphBgAAGI0wAwAAjEaYAQAARiPMAAAAoxFmAACA0QgzAADAaIQZAABgNMIMAAAwGmEGAAAYjTADAACMRpgBAABGI8wAAACjEWYAAIDRCDMAAMBohBkAAGA0wgwAADAaYQYAABiNMAMAAIxGmAEAAEYjzAAAAKMRZgAAgNEuK8xUVVVp0aJFXzq/Zs0a5eTk+I15vV5VVlYqOztbGRkZWrp0qVpbW/3WHD58WPn5+Zo7d67mz5+v6urqyykTAABEsIDDzM6dO1VZWfml82+++aZefvnlQeNVVVWqqanR+vXrVVtbK4vFooKCArlcLknSmTNntGTJEs2aNUt1dXUqLCxURUWF6urqAi0VAABEsBGHmfb2di1btkwVFRVKSUkZck1HR4f+5V/+RX/5l3/pN+5yubRjxw4VFhZq3rx5SktLU3l5udrb21VfXy9J2r17t+x2u0pLS5Wamqq8vDzdc8892rZtWwBPDwAARLoRh5n3339fEyZM0L59+5SRkTFovr+/X48++qj+7u/+blCYaWlp0blz55SVleUbczgcSk9PV0NDgySpsbFRTqdTUVFRvjVZWVk6evSoTp8+PdJyAQBAhIu69BJ/OTk5g/bBfN7OnTt16tQp/fu//7u2bt3qN9fW1iZJmjp1qt94YmKiTp486Vsze/bsQfOSdOLECSUkJIy0ZElSVBR7nS/FZrP6fcXw0LfABKNvJvc80Np5vQWGvgXGlL6NOMx8lZaWFj377LN68cUXZbfbB8339PRI0qC56OhodXZ2SpJ6e3uHnJekvr6+gOqyWi2aNGl8QMeORQ5HbKhLMBJ9C8xY7dvlPu+x2rfLRd8CE+59C1qY6evr06pVq/SDH/xAaWlpQ66JiYmRdHHvzMD3A8fGxsb61gxsBv78vCTFxcUFVJvX26+urvMBHTuW2GxWORyx6urqkcfjDXU5xqBvgQlG3wYew0SBPm9eb4Ghb4EJZd8cjthhXxEKWph599139b//+7969tlntWXLFknShQsX5Ha7df3112vdunWaNWuWpIsbhGfMmOE7tqOjwxeAkpOT1dHR4ffYAz8nJSUFXJ/bzYt3uDweL/0KAH0LzFjt2+U+77Hat8tF3wIT7n0LWpiZM2eO3njjDb+xF154QW+88YZeeOEFJSQkyG63Kz4+XgcPHvSFma6uLjU3Nys/P1+S5HQ6VVNTI4/HI5vNJkk6cOCAUlJSAt4vAwAAIlfQwkxMTIxmzpzpNzZhwgRFRUX5jefn56usrEyTJ0/WtGnTtGnTJiUnJ2vBggWSpLy8PG3fvl0lJSVatmyZDh06pF27dmndunXBKhUAAESQoG4AHo4VK1bI7XZrzZo16u3tldPpVHV1tW/Tb0JCgrZv364NGzYoNzdXU6ZMUXFxsXJzc0e7VAAAYABLf39/f6iLuNI8Hq8+/fRcqMsIe1FRVk2aNF5nzpwL63uj4Ya+BSYYfRt4jId+/F/66HhnkCu8MlKnTdDmh+cH/Lx5vQWGvgUmlH2bPHn8sDcAh/cbxwEAAC6BMAMAAIxGmAEAAEYjzAAAAKMRZgAAgNEIMwAAwGiEGQAAYDTCDAAAMBphBgAAGI0wAwAAjEaYAQAARiPMAAAAoxFmAACA0QgzAADAaIQZAABgNMIMAAAwGmEGAAAYjTADAACMRpgBAABGI8wAAACjEWYAAIDRCDMAAMBohBkAAGA0wgwAADAaYQYAABiNMAMAAIxGmAEAAEYjzAAAAKMRZgAAgNGiQl0AAIxFNltg/y85cFygxwfK6+2X19s/qn8mMFyEGQAYRROvipbX2y+HI/ayHudyjx8pj8erzz47T6BBWCLMAMAoio8dJ6vVorIXm3Ss/WyoyxmW6UlXadXdN8pqtRBmEJYIMwAQAsfaz+qj452hLgOICGwABgAARrusMFNVVaVFixb5jf3yl79UXl6err/+euXk5Oipp55Sb2+vb97r9aqyslLZ2dnKyMjQ0qVL1dra6vcYhw8fVn5+vubOnav58+erurr6csoEAAARLOAws3PnTlVWVvqNNTY26sEHH9S3v/1t7d27V6WlpXr99de1bt0635qqqirV1NRo/fr1qq2tlcViUUFBgVwulyTpzJkzWrJkiWbNmqW6ujoVFhaqoqJCdXV1gZYKAAAi2IjDTHt7u5YtW6aKigqlpKT4zdXU1CgrK0v33XefZs6cqVtuuUUrV67Uvn375HK55HK5tGPHDhUWFmrevHlKS0tTeXm52tvbVV9fL0navXu37Ha7SktLlZqaqry8PN1zzz3atm1bcJ4xAACIKCPeAPz+++9rwoQJ2rdvn7Zs2aLjx4/75pYuXSqrdXA+crvd6u7u1rFjx3Tu3DllZWX55hwOh9LT09XQ0KCFCxeqsbFRTqdTUVF/Ki0rK0tbt27V6dOnlZCQMNKSJUlRUWwPupRQ/f4K09G3wASjb/R8dJncb87TwJjStxGHmZycHOXk5Aw5l56e7vezy+XS888/r2uvvVaTJ09WY2OjJGnq1Kl+6xITE3Xy5ElJUltbm2bPnj1oXpJOnDgRUJixWi2aNGn8iI8bq0b791dECvoWGPpmjkj4u4qE5xAK4d63K/bWbLfbreLiYh05ckQvvviiJKmnp0eSZLfb/dZGR0ers/PiWxR7e3uHnJekvr6+gGrxevvV1XU+oGPHEpvNKocjVl1dPfJ4vKEuxxj0LTDB6NvAY2B0mPwa5zwNTCj75nDEDvuK0BUJM93d3XrooYd08OBBVVZWKiMjQ5IUExMj6eIVm4HvpYshJTY21rdmYDPw5+clKS4uLuCa3G5evMPl8XjpVwDoW2Domzki4e8qEp5DKIR734J+E6yjo0N33323/vCHP2jbtm1+t6QGbi91dHQMOiY5OVmSlJycPOS8JCUlJQW7XAAAYLighpnOzk4tXrxYn376qV566SW/jb6SlJaWpvj4eB08eNA31tXVpebmZmVmZkqSnE6nmpqa5PF4fGsOHDiglJSUgDf/AgCAyBXUMLNx40Z98skn2rRpkyZPnqxTp075/vF4PLLb7crPz1dZWZn279+vlpYWrVy5UsnJyVqwYIEkKS8vT93d3SopKdGRI0e0Z88e7dq1S8uXLw9mqQAAIEIEbc+M1+vVa6+9pgsXLmjx4sWD5vfv36/p06drxYoVcrvdWrNmjXp7e+V0OlVdXe3b9JuQkKDt27drw4YNys3N1ZQpU1RcXKzc3NxglQoAACLIZYWZJ5980ve91WrVoUOHLnmMzWZTUVGRioqKvnTNnDlzVFtbezmlAQCAMSK8fwsOAADAJRBmAACA0QgzAADAaIQZAABgNMIMAAAwGmEGAAAYjTADAACMRpgBAABGI8wAAACjEWYAAIDRCDMAAMBohBkAAGA0wgwAADAaYQYAABiNMAMAAIxGmAEAAEYjzAAAAKMRZgAAgNEIMwAAwGiEGQAAYDTCDAAAMBphBgAAGI0wAwAAjEaYAQAARiPMAAAAoxFmAACA0QgzAADAaIQZAABgNMIMAAAwGmEGAAAYjTADAACMRpgBAABGI8wAAACjXVaYqaqq0qJFi/zGDh8+rPz8fM2dO1fz589XdXW137zX61VlZaWys7OVkZGhpUuXqrW1dUSPAQAAMCDgMLNz505VVlb6jZ05c0ZLlizRrFmzVFdXp8LCQlVUVKiurs63pqqqSjU1NVq/fr1qa2tlsVhUUFAgl8s17McAAAAYEDXSA9rb21VSUqKmpialpKT4ze3evVt2u12lpaWKiopSamqqWltbtW3bNuXl5cnlcmnHjh0qKirSvHnzJEnl5eXKzs5WfX29Fi5ceMnHAAAA+LwRX5l5//33NWHCBO3bt08ZGRl+c42NjXI6nYqK+lNGysrK0tGjR3X69Gm1tLTo3LlzysrK8s07HA6lp6eroaFhWI8BAADweSO+MpOTk6OcnJwh59ra2jR79my/scTEREnSiRMn1NbWJkmaOnXqoDUnT54c1mMkJCSMtGRJUlQUe50vxWaz+n3F8NC3wASjb/R8dJncb87TwJjStxGHma/S29sru93uNxYdHS1J6uvrU09PjyQNuaazs3NYjxEIq9WiSZPGB3TsWORwxIa6BCPRt8DQN3NEwt9VJDyHUAj3vgU1zMTExPg28g4YCCBxcXGKiYmRJLlcLt/3A2tiY2OH9RiB8Hr71dV1PqBjxxKbzSqHI1ZdXT3yeLyhLscY9C0wwejbwGNgdJj8Guc8DUwo++ZwxA77ilBQw0xycrI6Ojr8xgZ+TkpKktvt9o3NmDHDb01aWtqwHiNQbjcv3uHyeLz0KwD0LTD0zRyR8HcVCc8hFMK9b0G9CeZ0OtXU1CSPx+MbO3DggFJSUpSQkKC0tDTFx8fr4MGDvvmuri41NzcrMzNzWI8BAADweUENM3l5eeru7lZJSYmOHDmiPXv2aNeuXVq+fLmki3tl8vPzVVZWpv3796ulpUUrV65UcnKyFixYMKzHAAAA+Lyg3mZKSEjQ9u3btWHDBuXm5mrKlCkqLi5Wbm6ub82KFSvkdru1Zs0a9fb2yul0qrq62rfpdziPAQAAMOCywsyTTz45aGzOnDmqra390mNsNpuKiopUVFT0pWsu9RgAAAADwvuN4wAAAJdAmAEAAEYjzAAAAKMRZgAAgNEIMwAAwGiEGQAAYDTCDAAAMBphBgAAGI0wAwAAjEaYAQAARiPMAAAAoxFmAACA0QgzAADAaIQZAABgNMIMAAAwGmEGAAAYjTADAACMRpgBAABGI8wAAACjEWYAAIDRCDMAAMBohBkAAGA0wgwAADAaYQYAABiNMAMAAIxGmAEAAEYjzAAAAKMRZgAAgNEIMwAAwGiEGQAAYLSoUBcAIHxYrRZZrZZR+bNsNqvf18t5DABjG2EGgKSLQWbixLhRDwgOR+yo/nkAIg9hBoCki2HGZrOq7MUmHWs/G+pyhuWGtER9//b0UJcBIMSCHmYuXLigZ599Vj//+c/V2dmpa665RqtWrdINN9wgSTp8+LA2bNig9957TxMnTtSiRYt07733+o73er169tln9fLLL6urq0s33nij1q5dq5kzZwa7VABDONZ+Vh8d7wx1GcMyPTE+1CUACANBv5783HPPqa6uTuvXr9fevXv1ta99TQUFBWpvb9eZM2e0ZMkSzZo1S3V1dSosLFRFRYXq6up8x1dVVammpkbr169XbW2tLBaLCgoK5HK5gl0qAACIAEEPM/v379cdd9yhm2++WTNnztSjjz6q7u5uvfPOO9q9e7fsdrtKS0uVmpqqvLw83XPPPdq2bZskyeVyaceOHSosLNS8efOUlpam8vJytbe3q76+PtilAgCACBD0MDNx4kT96le/0rFjx+TxeFRbWyu73a5rrrlGjY2Ncjqdior6092trKwsHT16VKdPn1ZLS4vOnTunrKws37zD4VB6eroaGhqCXSoAAIgAQd8zU1JSopUrV+rWW2+VzWaT1WpVRUWFZsyYoba2Ns2ePdtvfWJioiTpxIkTamtrkyRNnTp10JqTJ09eVl1RUbyF81KC8VbZsShS+mZ6/bjyTH6NRMp5OtpM6VvQw8xHH30kh8OhLVu2KCkpSS+//LJWr16tn/70p+rt7ZXdbvdbHx0dLUnq6+tTT0+PJA25prMz8A2JVqtFkyaND/j4sYa3ygaGviHSRcJrPBKeQyiEe9+CGmaOHz+uoqIi7dy5U5mZmZKk6667TkeOHNEzzzyjmJiYQRt5+/r6JElxcXGKiYmRdHHvzMD3A2tiYwNvpNfbr66u8wEfP1bYbFY5HLHq6uqRx+MNdTnGiJS+DTwP4MuY/BqPlPN0tIWybw5H7LCvCAU1zBw6dEgXLlzQdddd5zeekZGht956S1dffbU6Ojr85gZ+TkpKktvt9o3NmDHDb01aWtpl1eZ28+IdLo/HS78CQN8Q6SLhNR4JzyEUwr1vQb0JNrDX5YMPPvAb//DDDzVz5kw5nU41NTXJ4/H45g4cOKCUlBQlJCQoLS1N8fHxOnjwoG++q6tLzc3Nvis9AAAAnxfUMDNnzhxlZmZq9erV+t3vfqePP/5Ymzdv1oEDB3TfffcpLy9P3d3dKikp0ZEjR7Rnzx7t2rVLy5cvl3Rxr0x+fr7Kysq0f/9+tbS0aOXKlUpOTtaCBQuCWSoAAIgQQb3NZLVaVVVVpc2bN+uxxx5TZ2enZs+erZ07d2ru3LmSpO3bt2vDhg3Kzc3VlClTVFxcrNzcXN9jrFixQm63W2vWrFFvb6+cTqeqq6sHbQoGAACQrsC7mSZMmKC1a9dq7dq1Q87PmTNHtbW1X3q8zWZTUVGRioqKgl0aAACIQOH9xnEAAIBLIMwAAACjEWYAAIDRCDMAAMBohBkAAGA0wgwAADAaYQYAABiNMAMAAIxGmAEAAEYjzAAAAKMRZgAAgNEIMwAAwGiEGQAAYDTCDAAAMBphBgAAGI0wAwAAjEaYAQAARiPMAAAAoxFmAACA0QgzAADAaIQZAABgNMIMAAAwWlSoCwAAmMFmM+v/f73efnm9/aEuA6OAMAMA+EoTr4qW19svhyM21KWMiMfj1WefnSfQjAGEGQDAV4qPHSer1aKyF5t0rP1sqMsZlulJV2nV3TfKarUQZsYAwgwAYFiOtZ/VR8c7Q10GMIhZN0ABAAC+gDADAACMRpgBAABGI8wAAACjEWYAAIDRCDMAAMBohBkAAGA0wgwAADDaFQkze/fu1e23367rrrtOCxcu1Ouvv+6bO3z4sPLz8zV37lzNnz9f1dXVfsd6vV5VVlYqOztbGRkZWrp0qVpbW69EmQAAIAIEPcz8/Oc/1+OPP65//Md/1CuvvKLbb79dDz/8sP7whz/ozJkzWrJkiWbNmqW6ujoVFhaqoqJCdXV1vuOrqqpUU1Oj9evXq7a2VhaLRQUFBXK5XMEuFQAARICgfpxBf3+/KioqtHjxYi1evFiS9M///M/6/e9/r7fffltvv/227Ha7SktLFRUVpdTUVLW2tmrbtm3Ky8uTy+XSjh07VFRUpHnz5kmSysvLlZ2drfr6ei1cuDCY5QIAgAgQ1Csz//d//6fjx4/rzjvv9Buvrq7W8uXL1djYKKfTqaioP2WorKwsHT16VKdPn1ZLS4vOnTunrKws37zD4VB6eroaGhqCWSoAAIgQQb0y8/HHH0uSzp8/r3vvvVfNzc2aPn26fvCDHygnJ0dtbW2aPXu23zGJiYmSpBMnTqitrU2SNHXq1EFrTp48eVm1RUWx1/lSbDar31cMT6T0zfT6gaF88fzkdT4ypvQtqGGmu7tbkrR69Wo9+OCDWrVqlX7xi1/ogQce0PPPP6/e3l7Z7Xa/Y6KjoyVJfX196unpkaQh13R2Bv5JrVarRZMmjQ/4+LHG4YgNdQlGom9A+Pniecl5Gphw71tQw8y4ceMkSffee69yc3MlSddcc42am5v1/PPPKyYmZtBG3r6+PklSXFycYmJiJEkul8v3/cCa2NjAG+n19qur63zAx48VNptVDkesurp65PF4Q12OMSKlbwPPA4gkA+dlpJynoy2UfXM4Yod9RSioYSY5OVmSBt1K+vrXv67/+q//0rRp09TR0eE3N/BzUlKS3G63b2zGjBl+a9LS0i6rNrebF+9weTxe+hUA+gaEny+el5yngQn3vgX1Jlh6errGjx+vd99912/8ww8/1IwZM+R0OtXU1CSPx+ObO3DggFJSUpSQkKC0tDTFx8fr4MGDvvmuri41NzcrMzMzmKUCAIAIEdQrMzExMVq2bJm2bNmipKQkzZkzR6+++qp+85vfaOfOnfr617+u7du3q6SkRMuWLdOhQ4e0a9curVu3TtLFvTL5+fkqKyvT5MmTNW3aNG3atEnJyclasGBBMEsFAAARIqhhRpIeeOABxcbGqry8XO3t7UpNTdUzzzyjm266SZK0fft2bdiwQbm5uZoyZYqKi4t9+2skacWKFXK73VqzZo16e3vldDpVXV09aFMwAACAdAXCjCQtWbJES5YsGXJuzpw5qq2t/dJjbTabioqKVFRUdCVKAwAAESa83zgOAABwCYQZAABgNMIMAAAwGmEGAAAYjTADAACMRpgBAABGI8wAAACjEWYAAIDRCDMAAMBohBkAAGA0wgwAADAaYQYAABiNMAMAAIxGmAEAAEYjzAAAAKMRZgAAgNEIMwAAwGiEGQAAYDTCDAAAMBphBgAAGI0wAwAAjEaYAQAARiPMAAAAoxFmAACA0QgzAADAaIQZAABgNMIMAAAwGmEGAAAYjTADAACMRpgBAABGI8wAAACjEWYAAIDRCDMAAMBoVzTMHD16VNdff7327NnjGzt8+LDy8/M1d+5czZ8/X9XV1X7HeL1eVVZWKjs7WxkZGVq6dKlaW1uvZJkAAMBgVyzMXLhwQatWrdL58+d9Y2fOnNGSJUs0a9Ys1dXVqbCwUBUVFaqrq/OtqaqqUk1NjdavX6/a2lpZLBYVFBTI5XJdqVIBAIDBrliYeeaZZzR+/Hi/sd27d8tut6u0tFSpqanKy8vTPffco23btkmSXC6XduzYocLCQs2bN09paWkqLy9Xe3u76uvrr1SpAADAYFckzDQ0NKi2tlZPPfWU33hjY6OcTqeioqJ8Y1lZWTp69KhOnz6tlpYWnTt3TllZWb55h8Oh9PR0NTQ0XIlSAQCA4aIuvWRkurq6VFxcrDVr1mjq1Kl+c21tbZo9e7bfWGJioiTpxIkTamtrk6RBxyUmJurkyZOXVVdUFHudL8Vms/p9xfBESt9Mrx8YyhfPT17nI2NK34IeZkpLSzV37lzdeeedg+Z6e3tlt9v9xqKjoyVJfX196unpkaQh13R2dgZck9Vq0aRJ4y+9EJIkhyM21CUYib4B4eeL5yXnaWDCvW9BDTN79+5VY2Oj/vM//3PI+ZiYmEEbefv6+iRJcXFxiomJkXRx78zA9wNrYmMDb6TX26+urvOXXjjG2WxWORyx6urqkcfjDXU5xoiUvg08DyCSDJyXkXKejrZQ9s3hiB32FaGghpm6ujqdPn1a8+fP9xtfu3atqqurdfXVV6ujo8NvbuDnpKQkud1u39iMGTP81qSlpV1WbW43L97h8ni89CsA9A0IP188LzlPAxPufQtqmCkrK1Nvb6/f2Le+9S2tWLFCt99+u1599VXV1NTI4/HIZrNJkg4cOKCUlBQlJCToqquuUnx8vA4ePOgLM11dXWpublZ+fn4wSwUAABEiqGEmKSlpyPGEhARNmzZNeXl52r59u0pKSrRs2TIdOnRIu3bt0rp16yRd3CuTn5+vsrIyTZ48WdOmTdOmTZuUnJysBQsWBLNUAAAQIYK+AfirJCQkaPv27dqwYYNyc3M1ZcoUFRcXKzc317dmxYoVcrvdWrNmjXp7e+V0OlVdXT1oUzAQ7qxWi6xWS6jLGLZwf7cCAHyZKx5mPvjgA7+f58yZo9ra2i9db7PZVFRUpKKioitdGnDFWK0WTZwYR0AAgFEwqldmgLHCarXIZrOq7MUmHWs/G+pyhuWGtER9//b0UJcBACNGmAGuoGPtZ/XR8cB/R9Jomp4YH+oSACAgXAMHAABGI8wAAACjEWYAAIDRCDMAAMBohBkAAGA0wgwAADAaYQYAABiNMAMAAIxGmAEAAEYjzAAAAKMRZgAAgNEIMwAAwGiEGQAAYDTCDAAAMBphBgAAGI0wAwAAjEaYAQAARiPMAAAAoxFmAACA0QgzAADAaIQZAABgNMIMAAAwGmEGAAAYjTADAACMRpgBAABGI8wAAACjEWYAAIDRCDMAAMBohBkAAGA0wgwAADAaYQYAABiNMAMAAIwW9DDz2Wef6V//9V91yy236IYbbtBdd92lxsZG3/zhw4eVn5+vuXPnav78+aqurvY73uv1qrKyUtnZ2crIyNDSpUvV2toa7DIBAECECHqYefjhh/Xuu+/qxz/+sX72s5/p2muv1b333quPPvpIZ86c0ZIlSzRr1izV1dWpsLBQFRUVqqur8x1fVVWlmpoarV+/XrW1tbJYLCooKJDL5Qp2qQAAIAJEBfPBWltb9Zvf/Eb/8R//oRtuuEGSVFJSorfeekuvvPKKYmJiZLfbVVpaqqioKKWmpqq1tVXbtm1TXl6eXC6XduzYoaKiIs2bN0+SVF5eruzsbNXX12vhwoXBLBcAAESAoIaZSZMm6Sc/+Yn+4i/+wjdmsVjU39+vzs5Ovffee3I6nYqK+tMfm5WVpa1bt+r06dM6fvy4zp07p6ysLN+8w+FQenq6GhoaLivMREWxPehSbDar31cMz1B9o4dAePji+cm5OTKm9C2oYcbhcPiuqAx4/fXX9cc//lE333yzysvLNXv2bL/5xMRESdKJEyfU1tYmSZo6deqgNSdPngy4LqvVokmTxgd8/FjjcMSGugQj0Tcg/HzxvOQ8DUy49y2oYeaLmpqa9Pjjj+vWW29VTk6ONm7cKLvd7rcmOjpaktTX16eenh5JGnJNZ2dnwHV4vf3q6jof8PFjhc1mlcMRq66uHnk83lCXY4yh+jYwBiC0Bs5L/v0WmFD2zeGIHfYVoSsWZt58802tWrVKGRkZ+vGPfyxJiomJGbSRt6+vT5IUFxenmJgYSZLL5fJ9P7AmNvby/sPgdvPiHS6Px0u/AkDfgPDzxfOS8zQw4d63K3IT7Kc//akKCwt1yy23aNu2bb5gkpycrI6ODr+1Az8nJSX5bi8NtSY5OflKlAoAAAwX9DDz0ksv6YknntDdd9+tzZs3+90ycjqdampqksfj8Y0dOHBAKSkpSkhIUFpamuLj43Xw4EHffFdXl5qbm5WZmRnsUgEAQAQIapg5evSofvSjH2nBggVavny5Tp8+rVOnTunUqVM6e/as8vLy1N3drZKSEh05ckR79uzRrl27tHz5ckkX98rk5+errKxM+/fvV0tLi1auXKnk5GQtWLAgmKUCAIAIEdQ9M7/4xS904cIF1dfXq76+3m8uNzdXTz75pLZv364NGzYoNzdXU6ZMUXFxsXJzc33rVqxYIbfbrTVr1qi3t1dOp1PV1dWDNgUDAABIQQ4z999/v+6///6vXDNnzhzV1tZ+6bzNZlNRUZGKioqCWRoAAIhQ4f1bcAAAAC6BMAMAAIx2RX9pHgAAoWTixxl4vf3yevtDXYZRCDMAgIgz8apoeb39Rn6cgcfj1WefnSfQjABhBgAQceJjx8lqtajsxSYdaz8b6nKGbXrSVVp1942yWi2EmREgzAAAItax9rP66Hjgn+0HMxBmYASr1SKr1RLqMoY01L14E+7LA0CkIMwg7FmtFk2cGBf2AcGEe/EAEIkIMwh7VqtFNpvVqHvfN6Ql6vu3p4e6DAAYEwgzMIZJ976nJ8aHugQAGDPC+7o9AADAJRBmAACA0QgzAADAaIQZAABgNMIMAAAwGmEGAAAYjTADAACMRpgBAABGI8wAAACjEWYAAIDRCDMAAMBohBkAAGA0wgwAADAaYQYAABiNMAMAAIxGmAEAAEYjzAAAAKMRZgAAgNEIMwAAwGiEGQAAYDTCDAAAMFpUqAvA6LNaLbJaLYPGbTar39dwEW71AADCC2FmjLFaLZo4Me4rA4LDETuKFQEAcHnCMsx4vV49++yzevnll9XV1aUbb7xRa9eu1cyZM0NdmvGsVotsNqvKXmzSsfazoS5nWG5IS9T3b08PdRkAMGrC5Yr0cK/Ye7398nr7R6OkIYVlmKmqqlJNTY02btyopKQkbdq0SQUFBXrllVdkt9tDXV5EONZ+Vh8d7wx1GcMyPTE+1CUAwKiYeFW0vN7+sLtCfql6PB6vPvvsfMgCTdiFGZfLpR07dqioqEjz5s2TJJWXlys7O1v19fVauHBhiCv092X7T8JVuKR9AMBg8bHjZLVajLp6Pj3pKq26+0ZZrRbCzICWlhadO3dOWVlZvjGHw6H09HQ1NDSEVZgZzv4TAABGyqSr5+HA0t/fH7qbXEN44403VFhYqHfffVcxMTG+8R/+8Ifq7e3V1q1bR/yY/f1X5l6exSJZrVZ1n3fJE8J7hSMxLsqquJhx+uxsn9web6jLGZZou01Xxdmp+Qqj5tFBzaPDxJolM+uOsln//+0xr4KZKKxWiyyW4d35CLsrMz09PZI0aG9MdHS0OjsDS6kWi0U225W7FRQfZ94+nolXRYe6hBGj5tFBzaODmkeHiTVLZtZttYbuLkXY3R8ZuBrjcrn8xvv6+hQbG14bogAAQOiFXZiZOnWqJKmjo8NvvKOjQ8nJyaEoCQAAhLGwCzNpaWmKj4/XwYMHfWNdXV1qbm5WZmZmCCsDAADhKOz2zNjtduXn56usrEyTJ0/WtGnTtGnTJiUnJ2vBggWhLg8AAISZsAszkrRixQq53W6tWbNGvb29cjqdqq6u5hfmAQCAQcLurdkAAAAjEXZ7ZgAAAEaCMAMAAIxGmAEAAEYjzAAAAKMRZgAAgNEIMwAAwGiEGQAAYDTCDHThwgWVl5dr/vz5uv766/VP//RP+v3vfx/qssLeuXPn9MQTT2jevHm68cYb9cADD+iPf/xjqMsKa1VVVVq0aJHf2OHDh5Wfn6+5c+dq/vz5qq6uDlF14W2o3knS0aNHNXfuXB07diwEVYW3oXr2y1/+Unl5ebr++uuVk5Ojp556Sr29vSGqMDwN1bdXX31Vd955p+bMmaPbbrtNP/nJTxROv6aOMAM999xzqqur0/r167V371597WtfU0FBgdrb20NdWlh76KGHVF9fr9LSUu3evVsJCQm66667dObMmVCXFpZ27typyspKv7EzZ85oyZIlmjVrlurq6lRYWKiKigrV1dWFqMrwNFTvJOmDDz7QkiVL1NPTE4KqwttQPWtsbNSDDz6ob3/729q7d69KS0v1+uuva926dSGqMvwM1bf//u//VnFxsb73ve/p1VdfVXFxsZ577jnt2rUrRFUORpiB9u/frzvuuEM333yzZs6cqUcffVTd3d165513Ql1a2GppadFbb72lJ554Qt/85jeVmpqqdevWKT4+Xi+99FKoywsr7e3tWrZsmSoqKpSSkuI3t3v3btntdpWWlio1NVV5eXm65557tG3bthBVG16+qnfPPfecvvvd72ry5Mkhqi48fVXPampqlJWVpfvuu08zZ87ULbfcopUrV2rfvn1yuVwhqjg8fFXfTp06pYKCAt1999368z//c33rW9/SX//1X+u3v/1tiKodjDADTZw4Ub/61a907NgxeTwe1dbWym6365prrgl1aWHr6NGjkuT3Se5Wq1VpaWlqaGgIVVlh6f3339eECRO0b98+ZWRk+M01NjbK6XQqKupPHxOXlZWlo0eP6vTp06Ndatj5qt79+te/1qZNm7R69eoQVReevqpnS5cuVXFx8aBj3G63uru7R6vEsPRVffvOd76jhx56SJLk8Xj01ltv6e2339bf/M3fhKDSoYXlB01idJWUlGjlypW69dZbZbPZZLVaVVFRoRkzZoS6tLA1ZcoUSVJbW5tSU1N948ePH1dfX1+oygpLOTk5ysnJGXKura1Ns2fP9htLTEyUJJ04cUIJCQlXvL5w9lW9G7gCePDgwdEsKex9Vc/S09P9fna5XHr++ed17bXXjvkrXF/VtwEnTpzQbbfdJo/Ho5tvvll33XXXKFV3aVyZgT766CM5HA5t2bJFtbW1+vu//3utXr1aLS0toS4tbGVkZCg1NVVr167VyZMn5XK5tHPnTh0+fHjMX64eid7eXtntdr+x6OhoSSIU4opyu90qLi7WkSNHtHbt2lCXYwSHw6Gf/exnqqio0AcffDDkVa5QIcyMccePH1dRUZEeeeQR3Xbbbbruuuv0b//2b5o9e7aeeeaZUJcXtsaNG6ctW7bowoULvneBNTQ06Dvf+Y7i4+NDXZ4xYmJiBoW/gRATFxcXipIwBnR3d+v+++/X/v37VVlZOei2CoYWHx+v9PR0/e3f/q0ef/xxvf766zp+/Hioy5LEbaYx79ChQ7pw4YKuu+46v/GMjAy99dZbIarKDCkpKaqtrVVnZ6csFoscDod++MMfatasWaEuzRjJycnq6OjwGxv4OSkpKRQlIcJ1dHSooKBAx44d07Zt25SVlRXqksJeY2OjoqOj/f478Y1vfEPSxX5OmzYtVKX5cGVmjJs6daqki2/x/LwPP/xQM2fODEVJRuju7lZ+fr7ee+89TZgwQQ6HQ2fPntVvf/tbZWdnh7o8YzidTjU1Ncnj8fjGDhw4oJSUlDG/XwbB19nZqcWLF+vTTz/VSy+9RJAZph07dmjjxo1+Y++++66ioqLC5n/eCDNj3Jw5c5SZmanVq1frd7/7nT7++GNt3rxZBw4c0H333Rfq8sJWfHy8LBaLfvSjH+mDDz5QS0uL7r//fl199dW64447Ql2eMfLy8tTd3a2SkhIdOXJEe/bs0a5du7R8+fJQl4YItHHjRn3yySfatGmTJk+erFOnTvn++Xyghr+lS5fqnXfeUWVlpVpbW/Xaa69p06ZN+v73v69JkyaFujxJ3GYa86xWq6qqqrR582Y99thj6uzs1OzZs7Vz507NnTs31OWFtaefflrr169Xfn6+rFarvvnNb6q4uNjvbcb4agkJCdq+fbs2bNig3NxcTZkyRcXFxcrNzQ11aYgwXq9Xr732mi5cuKDFixcPmt+/f7+mT58egsrCX2ZmprZu3arNmzerurpakydP1tKlS1VQUBDq0nws/eH0+4gBAABGiNtMAADAaIQZAABgNMIMAAAwGmEGAAAYjTADAACMRpgBAABGI8wAAACjEWYAAIDRCDMAAMBohBkAAGA0wgwAADDa/wOhNkZvjy2RGgAAAABJRU5ErkJggg==",
      "text/plain": [
       "<Figure size 640x480 with 1 Axes>"
      ]
     },
     "metadata": {},
     "output_type": "display_data"
    }
   ],
   "source": [
    "skeptic_sampling_distr = []\n",
    "for i in range(5000):\n",
    "    new_data = df[\"num_colors\"].sample(9, replace = True)\n",
    "    skeptic_sampling_distr.append(new_data.mean())\n",
    "skeptic_sampling_distr = pd.DataFrame({'x': skeptic_sampling_distr})\n",
    "skeptic_sampling_distr['x'].hist()"
   ]
=======
   "execution_count": null,
   "id": "8ae05dc5",
   "metadata": {},
   "outputs": [],
   "source": []
>>>>>>> e5be8a2d4ce62d3b254f9d7662908386d4b1154d
  },
  {
   "cell_type": "markdown",
   "id": "fff97043",
   "metadata": {},
   "source": [
    "## 5. Comparing Paintings [0 points]\n",
    "\n",
    "You do not need to perform any analysis for this question on GitHub, although you may use the code cell below if you'd like."
   ]
  },
  {
   "cell_type": "code",
<<<<<<< HEAD
   "execution_count": 35,
   "id": "c56de554",
   "metadata": {},
   "outputs": [
    {
     "data": {
      "text/plain": [
       "10.614333333333335"
      ]
     },
     "execution_count": 35,
     "metadata": {},
     "output_type": "execute_result"
    }
   ],
   "source": [
    "skeptic_sampling_distr['x'].mean()"
   ]
  },
  {
   "cell_type": "code",
   "execution_count": 72,
   "id": "1e6686be-bed5-415e-95a0-34a4a0a11fef",
   "metadata": {},
   "outputs": [
    {
     "data": {
      "text/plain": [
       "0.7961592036767687"
      ]
     },
     "execution_count": 72,
     "metadata": {},
     "output_type": "execute_result"
    }
   ],
   "source": [
    "skeptic_sampling_distr['x'].std()"
   ]
  },
  {
   "cell_type": "code",
   "execution_count": 71,
   "id": "9ca2569a-2c37-47bc-ab5e-811ce75ff235",
   "metadata": {},
   "outputs": [
    {
     "data": {
      "text/plain": [
       "0.1678"
      ]
     },
     "execution_count": 71,
     "metadata": {},
     "output_type": "execute_result"
    }
   ],
   "source": [
    "(skeptic_sampling_distr['x'] >= 11.4444).mean()"
   ]
=======
   "execution_count": null,
   "id": "c56de554",
   "metadata": {},
   "outputs": [],
   "source": []
>>>>>>> e5be8a2d4ce62d3b254f9d7662908386d4b1154d
  },
  {
   "cell_type": "markdown",
   "id": "4f568b8d",
   "metadata": {},
   "source": [
    "## 6. Sampling Distributions for Midnight Black [2 points]\n",
    "\n",
    "You will need to generate two sampling distributions for this question.\n",
    "\n",
    "**a)** First, generate a sampling distribution with 5000 repetitions.  As your statistic of interest, use the proportion of paintings that have the color midnight black, and use 9 as the sample size."
   ]
  },
  {
   "cell_type": "code",
<<<<<<< HEAD
   "execution_count": 90,
   "id": "2581d3ca",
   "metadata": {},
   "outputs": [
    {
     "data": {
      "text/plain": [
       "<Axes: >"
      ]
     },
     "execution_count": 90,
     "metadata": {},
     "output_type": "execute_result"
    },
    {
     "data": {
      "image/png": "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",
      "text/plain": [
       "<Figure size 640x480 with 1 Axes>"
      ]
     },
     "metadata": {},
     "output_type": "display_data"
    }
   ],
   "source": [
    "skeptic_sampling_distr1 = []\n",
    "for i in range(5000):\n",
    "    new_data1 = df[\"Midnight_Black\"].sample(9, replace = True)\n",
    "    skeptic_sampling_distr1.append(new_data1.mean())\n",
    "skeptic_sampling_distr1 = pd.DataFrame({'x': skeptic_sampling_distr1})\n",
    "skeptic_sampling_distr1['x'].hist()"
   ]
  },
  {
   "cell_type": "code",
   "execution_count": 91,
   "id": "49f992dd-b37d-445c-bd43-9207891c696a",
   "metadata": {},
   "outputs": [
    {
     "data": {
      "text/plain": [
       "0.7873777777777777"
      ]
     },
     "execution_count": 91,
     "metadata": {},
     "output_type": "execute_result"
    }
   ],
   "source": [
    "skeptic_sampling_distr1['x'].mean()"
   ]
  },
  {
   "cell_type": "code",
   "execution_count": 92,
   "id": "00300203-a235-480a-8368-ef7eb4ae7389",
   "metadata": {},
   "outputs": [
    {
     "data": {
      "text/plain": [
       "0.1358118636415607"
      ]
     },
     "execution_count": 92,
     "metadata": {},
     "output_type": "execute_result"
    }
   ],
   "source": [
    "skeptic_sampling_distr1['x'].std()"
   ]
=======
   "execution_count": null,
   "id": "2581d3ca",
   "metadata": {},
   "outputs": [],
   "source": []
>>>>>>> e5be8a2d4ce62d3b254f9d7662908386d4b1154d
  },
  {
   "cell_type": "markdown",
   "id": "c24a3e85",
   "metadata": {},
   "source": [
    "**b)** Now, generate a second sampling distribution with 1000 repetitions.  As your statistic of interest, use the proportion of paintings that have the color midnight black, and use 45 as the sample size."
   ]
  },
  {
   "cell_type": "code",
<<<<<<< HEAD
   "execution_count": 93,
   "id": "65fb3a05",
   "metadata": {},
   "outputs": [
    {
     "data": {
      "text/plain": [
       "<Axes: >"
      ]
     },
     "execution_count": 93,
     "metadata": {},
     "output_type": "execute_result"
    },
    {
     "data": {
      "image/png": "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",
      "text/plain": [
       "<Figure size 640x480 with 1 Axes>"
      ]
     },
     "metadata": {},
     "output_type": "display_data"
    }
   ],
   "source": [
    "skeptic_sampling_distr2 = []\n",
    "for i in range(1000):\n",
    "    new_data2 = df[\"Midnight_Black\"].sample(45, replace = True)\n",
    "    skeptic_sampling_distr2.append(new_data2.mean())\n",
    "skeptic_sampling_distr2 = pd.DataFrame({'x': skeptic_sampling_distr2})\n",
    "skeptic_sampling_distr2['x'].hist()"
   ]
  },
  {
   "cell_type": "code",
   "execution_count": 94,
   "id": "b8728e76-be4a-4f26-94a1-7c565b3b40f4",
   "metadata": {},
   "outputs": [
    {
     "data": {
      "text/plain": [
       "0.7878888888888889"
      ]
     },
     "execution_count": 94,
     "metadata": {},
     "output_type": "execute_result"
    }
   ],
   "source": [
    "skeptic_sampling_distr2['x'].mean()"
   ]
  },
  {
   "cell_type": "code",
   "execution_count": 95,
   "id": "806db23b-8a50-41c8-9e56-759a09cb2e9f",
   "metadata": {},
   "outputs": [
    {
     "data": {
      "text/plain": [
       "0.061268792840133555"
      ]
     },
     "execution_count": 95,
     "metadata": {},
     "output_type": "execute_result"
    }
   ],
   "source": [
    "skeptic_sampling_distr2['x'].std()"
   ]
  },
  {
   "cell_type": "code",
   "execution_count": 102,
   "id": "334a5c78-0781-4a33-9f8a-c13d639f9a4e",
   "metadata": {},
   "outputs": [
    {
     "data": {
      "text/plain": [
       "0.2794"
      ]
     },
     "execution_count": 102,
     "metadata": {},
     "output_type": "execute_result"
    }
   ],
   "source": [
    "(df[df['PALM_TREES'] == 1]['Midnight_Black']==1).mean()\n",
    "(skeptic_sampling_distr1['x'] == .8888888888888888).mean()"
   ]
  },
  {
   "cell_type": "code",
   "execution_count": 103,
   "id": "c15dca71-9723-4731-acdf-3d8bcf279025",
   "metadata": {},
   "outputs": [
    {
     "data": {
      "text/plain": [
       "0.8848"
      ]
     },
     "execution_count": 103,
     "metadata": {},
     "output_type": "execute_result"
    }
   ],
   "source": [
    "(df[df['PALM_TREES'] == 1]['Midnight_Black']==1).mean()\n",
    "(skeptic_sampling_distr1['x'] <= .8888888888888888).mean()"
   ]
=======
   "execution_count": null,
   "id": "65fb3a05",
   "metadata": {},
   "outputs": [],
   "source": []
>>>>>>> e5be8a2d4ce62d3b254f9d7662908386d4b1154d
  },
  {
   "cell_type": "markdown",
   "id": "61b81beb",
   "metadata": {},
   "source": [
    "Remember to keep all your cells and hit the save icon above periodically to checkpoint (save) your results on your local computer. Once you are satisified with your results restart the kernel and run all (Kernel -> Restart & Run All). **Make sure nothing has changed**. Checkpoint and exit (File -> Save and Checkpoint + File -> Close and Halt). Follow the instructions on the Homework 5 Canvas Assignment to submit your notebook to GitHub.  Be sure to also complete the Gradescope component of this assignment."
   ]
  }
 ],
 "metadata": {
  "kernelspec": {
   "display_name": "Python 3 (ipykernel)",
   "language": "python",
   "name": "python3"
  },
  "language_info": {
   "codemirror_mode": {
    "name": "ipython",
    "version": 3
   },
   "file_extension": ".py",
   "mimetype": "text/x-python",
   "name": "python",
   "nbconvert_exporter": "python",
   "pygments_lexer": "ipython3",
<<<<<<< HEAD
   "version": "3.11.5"
=======
   "version": "3.8.11"
>>>>>>> e5be8a2d4ce62d3b254f9d7662908386d4b1154d
  }
 },
 "nbformat": 4,
 "nbformat_minor": 5
}
