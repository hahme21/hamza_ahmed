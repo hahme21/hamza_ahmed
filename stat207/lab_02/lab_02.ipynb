{
 "cells": [
  {
   "cell_type": "markdown",
   "metadata": {},
   "source": [
    "# STAT 207 Group Lab Assignment 2 - [10 total points]\n",
    "\n",
    "## Finding Missing Data and Answering Questions"
   ]
  },
  {
   "cell_type": "markdown",
   "metadata": {},
   "source": [
    "<hr>"
   ]
  },
  {
   "cell_type": "markdown",
   "metadata": {},
   "source": [
    "## <u>Purpose</u>:\n",
    "You should work in groups of 2-3 on this report (not working in groups without permission will result in a point deduction). The purpose of this group lab assignment is to understand and wrangle data, so that it would be ready and prepared for future analysis.\n",
    "<hr>"
   ]
  },
  {
   "cell_type": "markdown",
   "metadata": {},
   "source": [
    "## <u>Assignment Instructions</u>:\n",
    "\n",
    "### Contribution Report\n",
    "These contribution reports should be included in all group lab assignments. In this contribution report below you should list of the following:\n",
    "1. The netID for the lab submission to be graded.  (Some groups have each member create their own version of the document, but only one needs to be submitted for grading.  Other groups have only one member compose and submit the lab.)\n",
    "2. Names and netIDs of each team member.\n",
    "3. Contributions of each team member to report.\n",
    "4. **For this assignment, add in whether each of you use the gaming hub Steam.  If you do, include your favorite game through Steam.  If not, indicate whether you play any online games (and if so, which one).**\n",
    "\n",
    "*For example:*\n",
    "\n",
    "*<u>Teammates:</u>*\n",
    "\n",
    "*doe105 should be graded.  John Smith (smith92) & Jane Doe (doe105) worked together on all parts of this lab assignment.  Both use Steam.  Favorite games are Jackbox Games for John and Grand Theft Auto for Jane.*, \n",
    "\n",
    "OR\n",
    "\n",
    "*doe105 should be graded*\n",
    "\n",
    "*1. John Smith (smith92): did number 1,2 and 3; Jackbox Games through Steam*\n",
    "\n",
    "*2. Jane Doe (doe105): did number 4, and 5; Grade Theft Auto through Steam*\n",
    "\n",
    "junhao4 should be graded, kieranc3 also worked with us \n"
   ]
  },
  {
   "cell_type": "markdown",
   "metadata": {},
   "source": [
    "### Group Roles\n",
    "\n",
    "You are expected to work in groups of 2-3 on this report.  Since you are working in groups, you may find it helpful to have specified roles.  These roles will likely be helpful in later labs.  Below, I provide roles that can be used for groups of 2 and for groups of 3.  I encourage you to switch roles within this lab report, as possible.  I also encourage you to switch roles for each subsequent lab, as possible, based on your group membership.  \n",
    "\n",
    "#### Groups of 2\n",
    "\n",
    "* **Driver**: This student will type the report.  While typing the report, you may be the one who is selecting the functions to apply to the data.\n",
    "* **Navigator**: This student will guide the process of answering the question.  Specific ways to help may include: outlining the general steps needed to solve a question (providing the overview), locating examples within the course notes, and reviewing each line of code as it is typed.\n",
    "\n",
    "#### Groups of 3\n",
    "\n",
    "* **Driver**: This student will type the report.  They may also be the one to select the functions to apply to the data.\n",
    "* **Navigator**: This student will guide the process of answering the question.  They may select the general approach to answering the question and/or a few steps to be completed along the way. \n",
    "* **Communicator**: This student will review the report (as it is typed) to ensure that it is clear and concise.  This student may also locate relevant examples within the course notes that may help complete the assignment.\n",
    "\n",
    "<hr>\n",
    "\n",
    "### Imports"
   ]
  },
  {
   "cell_type": "code",
   "execution_count": 31,
   "metadata": {},
   "outputs": [],
   "source": [
    "#Run this\n",
    "import pandas as pd                    # imports pandas and calls the imported version 'pd'\n",
    "import matplotlib.pyplot as plt        # imports the package and calls it 'plt'\n",
    "import seaborn as sns                  # imports the seaborn package with the imported name 'sns'\n",
    "sns.set()  "
   ]
  },
  {
   "cell_type": "markdown",
   "metadata": {},
   "source": [
    "## Steam Data\n",
    "\n",
    "Steam is the world's most popular PC Gaming hub. They have a massive catalog of games, with everything from AAA blockbusters to small indie titles.  \n",
    "\n",
    "You are a team of data scientists working for Steam, and you are responsible for completing analysis for a report that will go to the executives of Valve (the parent company for Steam).  \n",
    "\n",
    "Unfortunately, the data were collected with a less than optimal structure.  The dataset is comprised of transactions within the Steam platform for a random sample of 500 steam users along with their purchase and game play behaviors.  It has the following columns:\n",
    "* user_id,\n",
    "* game_name,\n",
    "* activity:\n",
    "    - purchase: indicating that the user has *purchased* the corresponding game\n",
    "    - play: indicating that the user has *played* the corresponding game (for at least some amount of time.) \n",
    "* hours_played_if_play:\n",
    "    - if the row corresponds to a 'play' activity, this number represents the number of hours the user has played the game\n",
    "    - if the row corresponds to a 'purchase' activity, this number is always a 1 (and means nothing... it's a placeholder).\n",
    "\n",
    "Note that for each user-game combo, there will either be one row (if the game has only been purchased but not played) or two rows (if the game has been both purchased and played).  For example, if I bought Portal, a row would be added to the data representing the purchase of that game by me.  When I open the game and start playing it, a second row would be added to the data representing that I have played the game along with recording my play time for that specific game.\n",
    "\n",
    "### 1. [1 point] Reading in the Data\n",
    "\n",
    "First, read the steam_sample.csv file into a dataframe.  Display the first five rows and the number of observations in the data.\n",
    "\n",
    "Be sure to note the structure of the data (especially how the first two rows relate to each other) when observing the data."
   ]
  },
  {
   "cell_type": "code",
   "execution_count": 32,
   "metadata": {},
   "outputs": [],
   "source": [
    "df = pd.read_csv(\"steam_sample.csv\")"
   ]
  },
  {
   "cell_type": "code",
   "execution_count": 33,
   "metadata": {},
   "outputs": [
    {
     "data": {
      "text/html": [
       "<div>\n",
       "<style scoped>\n",
       "    .dataframe tbody tr th:only-of-type {\n",
       "        vertical-align: middle;\n",
       "    }\n",
       "\n",
       "    .dataframe tbody tr th {\n",
       "        vertical-align: top;\n",
       "    }\n",
       "\n",
       "    .dataframe thead th {\n",
       "        text-align: right;\n",
       "    }\n",
       "</style>\n",
       "<table border=\"1\" class=\"dataframe\">\n",
       "  <thead>\n",
       "    <tr style=\"text-align: right;\">\n",
       "      <th></th>\n",
       "      <th>user_id</th>\n",
       "      <th>game_name</th>\n",
       "      <th>activity</th>\n",
       "      <th>hours_played_if_play</th>\n",
       "    </tr>\n",
       "  </thead>\n",
       "  <tbody>\n",
       "    <tr>\n",
       "      <th>0</th>\n",
       "      <td>308653033</td>\n",
       "      <td>Unturned</td>\n",
       "      <td>purchase</td>\n",
       "      <td>1</td>\n",
       "    </tr>\n",
       "    <tr>\n",
       "      <th>1</th>\n",
       "      <td>308653033</td>\n",
       "      <td>Unturned</td>\n",
       "      <td>play</td>\n",
       "      <td>0.6</td>\n",
       "    </tr>\n",
       "    <tr>\n",
       "      <th>2</th>\n",
       "      <td>308653033</td>\n",
       "      <td>theHunter</td>\n",
       "      <td>purchase</td>\n",
       "      <td>1</td>\n",
       "    </tr>\n",
       "    <tr>\n",
       "      <th>3</th>\n",
       "      <td>144004384</td>\n",
       "      <td>Dota 2</td>\n",
       "      <td>purchase</td>\n",
       "      <td>1</td>\n",
       "    </tr>\n",
       "    <tr>\n",
       "      <th>4</th>\n",
       "      <td>144004384</td>\n",
       "      <td>Dota 2</td>\n",
       "      <td>play</td>\n",
       "      <td>22</td>\n",
       "    </tr>\n",
       "  </tbody>\n",
       "</table>\n",
       "</div>"
      ],
      "text/plain": [
       "     user_id  game_name  activity hours_played_if_play\n",
       "0  308653033   Unturned  purchase                    1\n",
       "1  308653033   Unturned      play                  0.6\n",
       "2  308653033  theHunter  purchase                    1\n",
       "3  144004384     Dota 2  purchase                    1\n",
       "4  144004384     Dota 2      play                   22"
      ]
     },
     "execution_count": 33,
     "metadata": {},
     "output_type": "execute_result"
    }
   ],
   "source": [
    "df.head()"
   ]
  },
  {
   "cell_type": "markdown",
   "metadata": {},
   "source": [
    "### 2. [3 points] Preparing the Data\n",
    "\n",
    "In order to prepare the data effectively, perform the following steps:\n",
    "\n",
    "1. Identify any values (if any) that have been encoded in the csv to represent a **missing value**.  \n",
    "2. Make sure that Python reads these missing values correctly.  \n",
    "3. Report the number of rows that have missing values and the proportion of rows with missing values.\n",
    "4. Drop any observations with missing values."
   ]
  },
  {
   "cell_type": "code",
   "execution_count": 34,
   "metadata": {},
   "outputs": [
    {
     "data": {
      "text/plain": [
       "user_id                 0\n",
       "game_name               0\n",
       "activity                0\n",
       "hours_played_if_play    0\n",
       "dtype: int64"
      ]
     },
     "execution_count": 34,
     "metadata": {},
     "output_type": "execute_result"
    }
   ],
   "source": [
    "df.isna().sum()"
   ]
  },
  {
   "cell_type": "code",
   "execution_count": 35,
   "metadata": {},
   "outputs": [
    {
     "data": {
      "text/plain": [
       "user_id                  int64\n",
       "game_name               object\n",
       "activity                object\n",
       "hours_played_if_play    object\n",
       "dtype: object"
      ]
     },
     "execution_count": 35,
     "metadata": {},
     "output_type": "execute_result"
    }
   ],
   "source": [
    "df.dtypes"
   ]
  },
  {
   "cell_type": "code",
   "execution_count": 36,
   "metadata": {},
   "outputs": [
    {
     "data": {
      "text/plain": [
       "array(['1', '0.6', '22', '1028', '1008', '148', '108', '72', '36', '35',\n",
       "       '32', '21', '16', '15.8', '8.6', '7.8', '7.3', '3.1', '1.9', '1.7',\n",
       "       '1.1', '0.4', '153', '63', '26', '1.4', '639', '479', '70', '65',\n",
       "       '33', '30', '19.8', '16.2', '11.3', '4.2', '3.9', '2.3', '0.8',\n",
       "       '0.7', '0.5', '0.3', '396', '227', '13.4', '12.6', '11.2', '10.1',\n",
       "       '2.4', '210', '1.2', '0.2', '13.2', '48', '110', '0.1', '67',\n",
       "       '429', '5.5', '61', '1.6', '18.3', '9.9', '4.7', '1714', '441',\n",
       "       '197', '147', '117', '86', '73', '49', '46', '31', '24', '20',\n",
       "       '19.7', '18.2', '14.2', '11.6', '9.8', '9.7', '8.4', '6.5', '4.8',\n",
       "       '4.1', '3.7', '2.9', '2.7', '2.1', '222', 'unknown', '14.9',\n",
       "       '14.1', '83', '11.1', '3.2', '6.9', '395', '251', '9.3', '7.4',\n",
       "       '54', '34', '1.8', '99', '98', '96', '29', '27', '23', '19.1',\n",
       "       '18.7', '17.5', '17', '16.6', '14.7', '13.3', '10.7', '10.2', '10',\n",
       "       '9.6', '9.5', '8', '7.9', '7.6', '7', '6.6', '6', '5.8', '5.6',\n",
       "       '5.3', '4.4', '4.3', '3.3', '3', '2.6', '2.5', '0.9', '6.2',\n",
       "       '18.9', '2.8', '4814', '4', '494', '1.3', '184', '13.8', '11.4',\n",
       "       '8.9', '6.7', '496', '1086', '525', '370', '270', '151', '85',\n",
       "       '66', '56', '15.3', '15.1', '11.5', '7.2', '3.8', '19.6', '2',\n",
       "       '274', '7.1', '4.9', '4.6', '3.6', '12.1', '103', '13.1', '60',\n",
       "       '3309', '524', '431', '428', '262', '250', '180', '154', '137',\n",
       "       '106', '100', '80', '68', '62', '50', '47', '44', '38', '37',\n",
       "       '13.5', '12', '11.9', '11', '9', '8.2', '8.1', '7.5', '6.8', '5.1',\n",
       "       '5', '2.2', '1.5', '57', '964', '41', '12.5', '10.4', '361', '88',\n",
       "       '82', '17.6', '17.1', '16.3', '15.2', '14.6', '11.7', '8.8', '8.3',\n",
       "       '5.9', '717', '303', '13.9', '10.6', '2179', '526', '28', '14.5',\n",
       "       '12.4', '149', '10.8', '15', '19.9', '113', '76', '646', '25',\n",
       "       '14', '546', '11.8', '381', '16.1', '215', '81', '19.5', '248',\n",
       "       '59', '42', '13.7', '3626', '997', '665', '622', '522', '344',\n",
       "       '224', '213', '208', '186', '95', '79', '78', '40', '18.1', '18',\n",
       "       '17.8', '17.4', '15.9', '15.5', '14.8', '12.3', '3.5', '3.4',\n",
       "       '116', '6.1', '393', '332', '238', '307', '157', '550', '52',\n",
       "       '9.2', '1343', '13.6', '8.5', '15.7', '202', '530', '43', '6.3',\n",
       "       '518', '232', '175', '58', '90', '15.4', '14.4', '193', '173',\n",
       "       '12.2', '1339', '190', '121', '7.7', '4.5', '249', '77', '399',\n",
       "       '278', '91', '6.4', '162', '89', '17.2', '9.1', '652', '517',\n",
       "       '125', '105', '75', '55', '17.9', '10.9', '8.7', '10.3', '5.7',\n",
       "       '5.4', '10.5', '118', '9.4', '284', '71', '19.3', '209', '5.2',\n",
       "       '1605', '1540', '710', '617', '312', '644', '189', '191', '176',\n",
       "       '136', '115', '39', '19', '69', '1912', '777', '686', '15.6',\n",
       "       '18.4', '539', '1760', '165', '17.3', '112', '386', '720', '466',\n",
       "       '124', '109', '87', '14.3', '676', '449', '236', '119', '53', '45',\n",
       "       '3178', '1302', '795', '174', '123', '104', '101', '64', '51',\n",
       "       '16.9', '16.8', '16.5', '1030', '145', '214', '11754', '144',\n",
       "       '579', '263', '241', '160', '141', '120', '92', '13', '289',\n",
       "       '1337', '17.7', '2258', '217', '135', '389', '228', '187', '111',\n",
       "       '357', '923', '172', '1369', '1049', '488', '130', '126', '93',\n",
       "       '18.8', '1064', '18.5', '12.9', '458', '418', '194', '272', '16.4',\n",
       "       '419', '107', '290', '1499', '891', '693', '302', '273', '264',\n",
       "       '158', '133', '1301', '485', '1754', '231', '12.8', '132', '733',\n",
       "       '230', '127', '627', '994', '387', '487', '528', '138', '809',\n",
       "       '511', '2055', '402', '451', '170', '527', '206', '164', '207',\n",
       "       '196', '143', '1295', '520', '364', '1704'], dtype=object)"
      ]
     },
     "execution_count": 36,
     "metadata": {},
     "output_type": "execute_result"
    }
   ],
   "source": [
    "df[\"hours_played_if_play\"].unique()"
   ]
  },
  {
   "cell_type": "code",
   "execution_count": 37,
   "metadata": {},
   "outputs": [],
   "source": [
    "df_copy = df.copy()"
   ]
  },
  {
   "cell_type": "code",
   "execution_count": 38,
   "metadata": {},
   "outputs": [
    {
     "name": "stderr",
     "output_type": "stream",
     "text": [
      "/var/folders/23/lvhz3dl52_74kk5l0dwbp1cm0000gn/T/ipykernel_857/3422351647.py:1: SettingWithCopyWarning: \n",
      "A value is trying to be set on a copy of a slice from a DataFrame\n",
      "\n",
      "See the caveats in the documentation: https://pandas.pydata.org/pandas-docs/stable/user_guide/indexing.html#returning-a-view-versus-a-copy\n",
      "  df_copy[\"hours_played_if_play\"][df_copy[\"hours_played_if_play\"] == \"unknown\"] = None\n"
     ]
    }
   ],
   "source": [
    "df_copy[\"hours_played_if_play\"][df_copy[\"hours_played_if_play\"] == \"unknown\"] = None"
   ]
  },
  {
   "cell_type": "code",
   "execution_count": 39,
   "metadata": {},
   "outputs": [
    {
     "data": {
      "text/plain": [
       "array(['1', '0.6', '22', '1028', '1008', '148', '108', '72', '36', '35',\n",
       "       '32', '21', '16', '15.8', '8.6', '7.8', '7.3', '3.1', '1.9', '1.7',\n",
       "       '1.1', '0.4', '153', '63', '26', '1.4', '639', '479', '70', '65',\n",
       "       '33', '30', '19.8', '16.2', '11.3', '4.2', '3.9', '2.3', '0.8',\n",
       "       '0.7', '0.5', '0.3', '396', '227', '13.4', '12.6', '11.2', '10.1',\n",
       "       '2.4', '210', '1.2', '0.2', '13.2', '48', '110', '0.1', '67',\n",
       "       '429', '5.5', '61', '1.6', '18.3', '9.9', '4.7', '1714', '441',\n",
       "       '197', '147', '117', '86', '73', '49', '46', '31', '24', '20',\n",
       "       '19.7', '18.2', '14.2', '11.6', '9.8', '9.7', '8.4', '6.5', '4.8',\n",
       "       '4.1', '3.7', '2.9', '2.7', '2.1', '222', None, '14.9', '14.1',\n",
       "       '83', '11.1', '3.2', '6.9', '395', '251', '9.3', '7.4', '54', '34',\n",
       "       '1.8', '99', '98', '96', '29', '27', '23', '19.1', '18.7', '17.5',\n",
       "       '17', '16.6', '14.7', '13.3', '10.7', '10.2', '10', '9.6', '9.5',\n",
       "       '8', '7.9', '7.6', '7', '6.6', '6', '5.8', '5.6', '5.3', '4.4',\n",
       "       '4.3', '3.3', '3', '2.6', '2.5', '0.9', '6.2', '18.9', '2.8',\n",
       "       '4814', '4', '494', '1.3', '184', '13.8', '11.4', '8.9', '6.7',\n",
       "       '496', '1086', '525', '370', '270', '151', '85', '66', '56',\n",
       "       '15.3', '15.1', '11.5', '7.2', '3.8', '19.6', '2', '274', '7.1',\n",
       "       '4.9', '4.6', '3.6', '12.1', '103', '13.1', '60', '3309', '524',\n",
       "       '431', '428', '262', '250', '180', '154', '137', '106', '100',\n",
       "       '80', '68', '62', '50', '47', '44', '38', '37', '13.5', '12',\n",
       "       '11.9', '11', '9', '8.2', '8.1', '7.5', '6.8', '5.1', '5', '2.2',\n",
       "       '1.5', '57', '964', '41', '12.5', '10.4', '361', '88', '82',\n",
       "       '17.6', '17.1', '16.3', '15.2', '14.6', '11.7', '8.8', '8.3',\n",
       "       '5.9', '717', '303', '13.9', '10.6', '2179', '526', '28', '14.5',\n",
       "       '12.4', '149', '10.8', '15', '19.9', '113', '76', '646', '25',\n",
       "       '14', '546', '11.8', '381', '16.1', '215', '81', '19.5', '248',\n",
       "       '59', '42', '13.7', '3626', '997', '665', '622', '522', '344',\n",
       "       '224', '213', '208', '186', '95', '79', '78', '40', '18.1', '18',\n",
       "       '17.8', '17.4', '15.9', '15.5', '14.8', '12.3', '3.5', '3.4',\n",
       "       '116', '6.1', '393', '332', '238', '307', '157', '550', '52',\n",
       "       '9.2', '1343', '13.6', '8.5', '15.7', '202', '530', '43', '6.3',\n",
       "       '518', '232', '175', '58', '90', '15.4', '14.4', '193', '173',\n",
       "       '12.2', '1339', '190', '121', '7.7', '4.5', '249', '77', '399',\n",
       "       '278', '91', '6.4', '162', '89', '17.2', '9.1', '652', '517',\n",
       "       '125', '105', '75', '55', '17.9', '10.9', '8.7', '10.3', '5.7',\n",
       "       '5.4', '10.5', '118', '9.4', '284', '71', '19.3', '209', '5.2',\n",
       "       '1605', '1540', '710', '617', '312', '644', '189', '191', '176',\n",
       "       '136', '115', '39', '19', '69', '1912', '777', '686', '15.6',\n",
       "       '18.4', '539', '1760', '165', '17.3', '112', '386', '720', '466',\n",
       "       '124', '109', '87', '14.3', '676', '449', '236', '119', '53', '45',\n",
       "       '3178', '1302', '795', '174', '123', '104', '101', '64', '51',\n",
       "       '16.9', '16.8', '16.5', '1030', '145', '214', '11754', '144',\n",
       "       '579', '263', '241', '160', '141', '120', '92', '13', '289',\n",
       "       '1337', '17.7', '2258', '217', '135', '389', '228', '187', '111',\n",
       "       '357', '923', '172', '1369', '1049', '488', '130', '126', '93',\n",
       "       '18.8', '1064', '18.5', '12.9', '458', '418', '194', '272', '16.4',\n",
       "       '419', '107', '290', '1499', '891', '693', '302', '273', '264',\n",
       "       '158', '133', '1301', '485', '1754', '231', '12.8', '132', '733',\n",
       "       '230', '127', '627', '994', '387', '487', '528', '138', '809',\n",
       "       '511', '2055', '402', '451', '170', '527', '206', '164', '207',\n",
       "       '196', '143', '1295', '520', '364', '1704'], dtype=object)"
      ]
     },
     "execution_count": 39,
     "metadata": {},
     "output_type": "execute_result"
    }
   ],
   "source": [
    "df_copy[\"hours_played_if_play\"].unique()"
   ]
  },
  {
   "cell_type": "code",
   "execution_count": 40,
   "metadata": {},
   "outputs": [],
   "source": [
    "df = pd.read_csv(\"steam_sample.csv\", na_values = [\"unknown\"])"
   ]
  },
  {
   "cell_type": "code",
   "execution_count": 41,
   "metadata": {},
   "outputs": [
    {
     "data": {
      "text/html": [
       "<div>\n",
       "<style scoped>\n",
       "    .dataframe tbody tr th:only-of-type {\n",
       "        vertical-align: middle;\n",
       "    }\n",
       "\n",
       "    .dataframe tbody tr th {\n",
       "        vertical-align: top;\n",
       "    }\n",
       "\n",
       "    .dataframe thead th {\n",
       "        text-align: right;\n",
       "    }\n",
       "</style>\n",
       "<table border=\"1\" class=\"dataframe\">\n",
       "  <thead>\n",
       "    <tr style=\"text-align: right;\">\n",
       "      <th></th>\n",
       "      <th>user_id</th>\n",
       "      <th>game_name</th>\n",
       "      <th>activity</th>\n",
       "      <th>hours_played_if_play</th>\n",
       "    </tr>\n",
       "  </thead>\n",
       "  <tbody>\n",
       "    <tr>\n",
       "      <th>0</th>\n",
       "      <td>308653033</td>\n",
       "      <td>Unturned</td>\n",
       "      <td>purchase</td>\n",
       "      <td>1.0</td>\n",
       "    </tr>\n",
       "    <tr>\n",
       "      <th>1</th>\n",
       "      <td>308653033</td>\n",
       "      <td>Unturned</td>\n",
       "      <td>play</td>\n",
       "      <td>0.6</td>\n",
       "    </tr>\n",
       "    <tr>\n",
       "      <th>2</th>\n",
       "      <td>308653033</td>\n",
       "      <td>theHunter</td>\n",
       "      <td>purchase</td>\n",
       "      <td>1.0</td>\n",
       "    </tr>\n",
       "    <tr>\n",
       "      <th>3</th>\n",
       "      <td>144004384</td>\n",
       "      <td>Dota 2</td>\n",
       "      <td>purchase</td>\n",
       "      <td>1.0</td>\n",
       "    </tr>\n",
       "    <tr>\n",
       "      <th>4</th>\n",
       "      <td>144004384</td>\n",
       "      <td>Dota 2</td>\n",
       "      <td>play</td>\n",
       "      <td>22.0</td>\n",
       "    </tr>\n",
       "    <tr>\n",
       "      <th>...</th>\n",
       "      <td>...</td>\n",
       "      <td>...</td>\n",
       "      <td>...</td>\n",
       "      <td>...</td>\n",
       "    </tr>\n",
       "    <tr>\n",
       "      <th>7801</th>\n",
       "      <td>99096740</td>\n",
       "      <td>SimCity 4 Deluxe</td>\n",
       "      <td>play</td>\n",
       "      <td>0.2</td>\n",
       "    </tr>\n",
       "    <tr>\n",
       "      <th>7802</th>\n",
       "      <td>99096740</td>\n",
       "      <td>BioShock Infinite Burial at Sea - Episode 2</td>\n",
       "      <td>purchase</td>\n",
       "      <td>1.0</td>\n",
       "    </tr>\n",
       "    <tr>\n",
       "      <th>7803</th>\n",
       "      <td>99096740</td>\n",
       "      <td>The Elder Scrolls V Skyrim - Dawnguard</td>\n",
       "      <td>purchase</td>\n",
       "      <td>1.0</td>\n",
       "    </tr>\n",
       "    <tr>\n",
       "      <th>7804</th>\n",
       "      <td>99096740</td>\n",
       "      <td>The Elder Scrolls V Skyrim - Dragonborn</td>\n",
       "      <td>purchase</td>\n",
       "      <td>1.0</td>\n",
       "    </tr>\n",
       "    <tr>\n",
       "      <th>7805</th>\n",
       "      <td>99096740</td>\n",
       "      <td>The Elder Scrolls V Skyrim - Hearthfire</td>\n",
       "      <td>purchase</td>\n",
       "      <td>1.0</td>\n",
       "    </tr>\n",
       "  </tbody>\n",
       "</table>\n",
       "<p>7800 rows × 4 columns</p>\n",
       "</div>"
      ],
      "text/plain": [
       "        user_id                                    game_name  activity  \\\n",
       "0     308653033                                     Unturned  purchase   \n",
       "1     308653033                                     Unturned      play   \n",
       "2     308653033                                    theHunter  purchase   \n",
       "3     144004384                                       Dota 2  purchase   \n",
       "4     144004384                                       Dota 2      play   \n",
       "...         ...                                          ...       ...   \n",
       "7801   99096740                             SimCity 4 Deluxe      play   \n",
       "7802   99096740  BioShock Infinite Burial at Sea - Episode 2  purchase   \n",
       "7803   99096740       The Elder Scrolls V Skyrim - Dawnguard  purchase   \n",
       "7804   99096740      The Elder Scrolls V Skyrim - Dragonborn  purchase   \n",
       "7805   99096740      The Elder Scrolls V Skyrim - Hearthfire  purchase   \n",
       "\n",
       "      hours_played_if_play  \n",
       "0                      1.0  \n",
       "1                      0.6  \n",
       "2                      1.0  \n",
       "3                      1.0  \n",
       "4                     22.0  \n",
       "...                    ...  \n",
       "7801                   0.2  \n",
       "7802                   1.0  \n",
       "7803                   1.0  \n",
       "7804                   1.0  \n",
       "7805                   1.0  \n",
       "\n",
       "[7800 rows x 4 columns]"
      ]
     },
     "execution_count": 41,
     "metadata": {},
     "output_type": "execute_result"
    }
   ],
   "source": [
    "df.dropna()"
   ]
  },
  {
   "cell_type": "code",
   "execution_count": 42,
   "metadata": {},
   "outputs": [
    {
     "data": {
      "text/plain": [
       "array([1.0000e+00, 6.0000e-01, 2.2000e+01, 1.0280e+03, 1.0080e+03,\n",
       "       1.4800e+02, 1.0800e+02, 7.2000e+01, 3.6000e+01, 3.5000e+01,\n",
       "       3.2000e+01, 2.1000e+01, 1.6000e+01, 1.5800e+01, 8.6000e+00,\n",
       "       7.8000e+00, 7.3000e+00, 3.1000e+00, 1.9000e+00, 1.7000e+00,\n",
       "       1.1000e+00, 4.0000e-01, 1.5300e+02, 6.3000e+01, 2.6000e+01,\n",
       "       1.4000e+00, 6.3900e+02, 4.7900e+02, 7.0000e+01, 6.5000e+01,\n",
       "       3.3000e+01, 3.0000e+01, 1.9800e+01, 1.6200e+01, 1.1300e+01,\n",
       "       4.2000e+00, 3.9000e+00, 2.3000e+00, 8.0000e-01, 7.0000e-01,\n",
       "       5.0000e-01, 3.0000e-01, 3.9600e+02, 2.2700e+02, 1.3400e+01,\n",
       "       1.2600e+01, 1.1200e+01, 1.0100e+01, 2.4000e+00, 2.1000e+02,\n",
       "       1.2000e+00, 2.0000e-01, 1.3200e+01, 4.8000e+01, 1.1000e+02,\n",
       "       1.0000e-01, 6.7000e+01, 4.2900e+02, 5.5000e+00, 6.1000e+01,\n",
       "       1.6000e+00, 1.8300e+01, 9.9000e+00, 4.7000e+00, 1.7140e+03,\n",
       "       4.4100e+02, 1.9700e+02, 1.4700e+02, 1.1700e+02, 8.6000e+01,\n",
       "       7.3000e+01, 4.9000e+01, 4.6000e+01, 3.1000e+01, 2.4000e+01,\n",
       "       2.0000e+01, 1.9700e+01, 1.8200e+01, 1.4200e+01, 1.1600e+01,\n",
       "       9.8000e+00, 9.7000e+00, 8.4000e+00, 6.5000e+00, 4.8000e+00,\n",
       "       4.1000e+00, 3.7000e+00, 2.9000e+00, 2.7000e+00, 2.1000e+00,\n",
       "       2.2200e+02,        nan, 1.4900e+01, 1.4100e+01, 8.3000e+01,\n",
       "       1.1100e+01, 3.2000e+00, 6.9000e+00, 3.9500e+02, 2.5100e+02,\n",
       "       9.3000e+00, 7.4000e+00, 5.4000e+01, 3.4000e+01, 1.8000e+00,\n",
       "       9.9000e+01, 9.8000e+01, 9.6000e+01, 2.9000e+01, 2.7000e+01,\n",
       "       2.3000e+01, 1.9100e+01, 1.8700e+01, 1.7500e+01, 1.7000e+01,\n",
       "       1.6600e+01, 1.4700e+01, 1.3300e+01, 1.0700e+01, 1.0200e+01,\n",
       "       1.0000e+01, 9.6000e+00, 9.5000e+00, 8.0000e+00, 7.9000e+00,\n",
       "       7.6000e+00, 7.0000e+00, 6.6000e+00, 6.0000e+00, 5.8000e+00,\n",
       "       5.6000e+00, 5.3000e+00, 4.4000e+00, 4.3000e+00, 3.3000e+00,\n",
       "       3.0000e+00, 2.6000e+00, 2.5000e+00, 9.0000e-01, 6.2000e+00,\n",
       "       1.8900e+01, 2.8000e+00, 4.8140e+03, 4.0000e+00, 4.9400e+02,\n",
       "       1.3000e+00, 1.8400e+02, 1.3800e+01, 1.1400e+01, 8.9000e+00,\n",
       "       6.7000e+00, 4.9600e+02, 1.0860e+03, 5.2500e+02, 3.7000e+02,\n",
       "       2.7000e+02, 1.5100e+02, 8.5000e+01, 6.6000e+01, 5.6000e+01,\n",
       "       1.5300e+01, 1.5100e+01, 1.1500e+01, 7.2000e+00, 3.8000e+00,\n",
       "       1.9600e+01, 2.0000e+00, 2.7400e+02, 7.1000e+00, 4.9000e+00,\n",
       "       4.6000e+00, 3.6000e+00, 1.2100e+01, 1.0300e+02, 1.3100e+01,\n",
       "       6.0000e+01, 3.3090e+03, 5.2400e+02, 4.3100e+02, 4.2800e+02,\n",
       "       2.6200e+02, 2.5000e+02, 1.8000e+02, 1.5400e+02, 1.3700e+02,\n",
       "       1.0600e+02, 1.0000e+02, 8.0000e+01, 6.8000e+01, 6.2000e+01,\n",
       "       5.0000e+01, 4.7000e+01, 4.4000e+01, 3.8000e+01, 3.7000e+01,\n",
       "       1.3500e+01, 1.2000e+01, 1.1900e+01, 1.1000e+01, 9.0000e+00,\n",
       "       8.2000e+00, 8.1000e+00, 7.5000e+00, 6.8000e+00, 5.1000e+00,\n",
       "       5.0000e+00, 2.2000e+00, 1.5000e+00, 5.7000e+01, 9.6400e+02,\n",
       "       4.1000e+01, 1.2500e+01, 1.0400e+01, 3.6100e+02, 8.8000e+01,\n",
       "       8.2000e+01, 1.7600e+01, 1.7100e+01, 1.6300e+01, 1.5200e+01,\n",
       "       1.4600e+01, 1.1700e+01, 8.8000e+00, 8.3000e+00, 5.9000e+00,\n",
       "       7.1700e+02, 3.0300e+02, 1.3900e+01, 1.0600e+01, 2.1790e+03,\n",
       "       5.2600e+02, 2.8000e+01, 1.4500e+01, 1.2400e+01, 1.4900e+02,\n",
       "       1.0800e+01, 1.5000e+01, 1.9900e+01, 1.1300e+02, 7.6000e+01,\n",
       "       6.4600e+02, 2.5000e+01, 1.4000e+01, 5.4600e+02, 1.1800e+01,\n",
       "       3.8100e+02, 1.6100e+01, 2.1500e+02, 8.1000e+01, 1.9500e+01,\n",
       "       2.4800e+02, 5.9000e+01, 4.2000e+01, 1.3700e+01, 3.6260e+03,\n",
       "       9.9700e+02, 6.6500e+02, 6.2200e+02, 5.2200e+02, 3.4400e+02,\n",
       "       2.2400e+02, 2.1300e+02, 2.0800e+02, 1.8600e+02, 9.5000e+01,\n",
       "       7.9000e+01, 7.8000e+01, 4.0000e+01, 1.8100e+01, 1.8000e+01,\n",
       "       1.7800e+01, 1.7400e+01, 1.5900e+01, 1.5500e+01, 1.4800e+01,\n",
       "       1.2300e+01, 3.5000e+00, 3.4000e+00, 1.1600e+02, 6.1000e+00,\n",
       "       3.9300e+02, 3.3200e+02, 2.3800e+02, 3.0700e+02, 1.5700e+02,\n",
       "       5.5000e+02, 5.2000e+01, 9.2000e+00, 1.3430e+03, 1.3600e+01,\n",
       "       8.5000e+00, 1.5700e+01, 2.0200e+02, 5.3000e+02, 4.3000e+01,\n",
       "       6.3000e+00, 5.1800e+02, 2.3200e+02, 1.7500e+02, 5.8000e+01,\n",
       "       9.0000e+01, 1.5400e+01, 1.4400e+01, 1.9300e+02, 1.7300e+02,\n",
       "       1.2200e+01, 1.3390e+03, 1.9000e+02, 1.2100e+02, 7.7000e+00,\n",
       "       4.5000e+00, 2.4900e+02, 7.7000e+01, 3.9900e+02, 2.7800e+02,\n",
       "       9.1000e+01, 6.4000e+00, 1.6200e+02, 8.9000e+01, 1.7200e+01,\n",
       "       9.1000e+00, 6.5200e+02, 5.1700e+02, 1.2500e+02, 1.0500e+02,\n",
       "       7.5000e+01, 5.5000e+01, 1.7900e+01, 1.0900e+01, 8.7000e+00,\n",
       "       1.0300e+01, 5.7000e+00, 5.4000e+00, 1.0500e+01, 1.1800e+02,\n",
       "       9.4000e+00, 2.8400e+02, 7.1000e+01, 1.9300e+01, 2.0900e+02,\n",
       "       5.2000e+00, 1.6050e+03, 1.5400e+03, 7.1000e+02, 6.1700e+02,\n",
       "       3.1200e+02, 6.4400e+02, 1.8900e+02, 1.9100e+02, 1.7600e+02,\n",
       "       1.3600e+02, 1.1500e+02, 3.9000e+01, 1.9000e+01, 6.9000e+01,\n",
       "       1.9120e+03, 7.7700e+02, 6.8600e+02, 1.5600e+01, 1.8400e+01,\n",
       "       5.3900e+02, 1.7600e+03, 1.6500e+02, 1.7300e+01, 1.1200e+02,\n",
       "       3.8600e+02, 7.2000e+02, 4.6600e+02, 1.2400e+02, 1.0900e+02,\n",
       "       8.7000e+01, 1.4300e+01, 6.7600e+02, 4.4900e+02, 2.3600e+02,\n",
       "       1.1900e+02, 5.3000e+01, 4.5000e+01, 3.1780e+03, 1.3020e+03,\n",
       "       7.9500e+02, 1.7400e+02, 1.2300e+02, 1.0400e+02, 1.0100e+02,\n",
       "       6.4000e+01, 5.1000e+01, 1.6900e+01, 1.6800e+01, 1.6500e+01,\n",
       "       1.0300e+03, 1.4500e+02, 2.1400e+02, 1.1754e+04, 1.4400e+02,\n",
       "       5.7900e+02, 2.6300e+02, 2.4100e+02, 1.6000e+02, 1.4100e+02,\n",
       "       1.2000e+02, 9.2000e+01, 1.3000e+01, 2.8900e+02, 1.3370e+03,\n",
       "       1.7700e+01, 2.2580e+03, 2.1700e+02, 1.3500e+02, 3.8900e+02,\n",
       "       2.2800e+02, 1.8700e+02, 1.1100e+02, 3.5700e+02, 9.2300e+02,\n",
       "       1.7200e+02, 1.3690e+03, 1.0490e+03, 4.8800e+02, 1.3000e+02,\n",
       "       1.2600e+02, 9.3000e+01, 1.8800e+01, 1.0640e+03, 1.8500e+01,\n",
       "       1.2900e+01, 4.5800e+02, 4.1800e+02, 1.9400e+02, 2.7200e+02,\n",
       "       1.6400e+01, 4.1900e+02, 1.0700e+02, 2.9000e+02, 1.4990e+03,\n",
       "       8.9100e+02, 6.9300e+02, 3.0200e+02, 2.7300e+02, 2.6400e+02,\n",
       "       1.5800e+02, 1.3300e+02, 1.3010e+03, 4.8500e+02, 1.7540e+03,\n",
       "       2.3100e+02, 1.2800e+01, 1.3200e+02, 7.3300e+02, 2.3000e+02,\n",
       "       1.2700e+02, 6.2700e+02, 9.9400e+02, 3.8700e+02, 4.8700e+02,\n",
       "       5.2800e+02, 1.3800e+02, 8.0900e+02, 5.1100e+02, 2.0550e+03,\n",
       "       4.0200e+02, 4.5100e+02, 1.7000e+02, 5.2700e+02, 2.0600e+02,\n",
       "       1.6400e+02, 2.0700e+02, 1.9600e+02, 1.4300e+02, 1.2950e+03,\n",
       "       5.2000e+02, 3.6400e+02, 1.7040e+03])"
      ]
     },
     "execution_count": 42,
     "metadata": {},
     "output_type": "execute_result"
    }
   ],
   "source": [
    "df[\"hours_played_if_play\"].unique()"
   ]
  },
  {
   "cell_type": "code",
   "execution_count": 43,
   "metadata": {},
   "outputs": [
    {
     "data": {
      "text/plain": [
       "user_id                   int64\n",
       "game_name                object\n",
       "activity                 object\n",
       "hours_played_if_play    float64\n",
       "dtype: object"
      ]
     },
     "execution_count": 43,
     "metadata": {},
     "output_type": "execute_result"
    }
   ],
   "source": [
    "df.dtypes"
   ]
  },
  {
   "cell_type": "markdown",
   "metadata": {},
   "source": [
    "### 3. [1 point] Interpreting Missing Data\n",
    "\n",
    "We dropped observations above that had any missing values.  Are you concerned that the decision to drop observations as the way to handle missing data may not have been best?  Briefly explain."
   ]
  },
  {
   "cell_type": "markdown",
   "metadata": {},
   "source": [
    "Yes, because we are missing people who purchased the a particular game but haven't opened/played it yet. So the data may be inaccurate."
   ]
  },
  {
   "cell_type": "markdown",
   "metadata": {},
   "source": [
    "### 4. [1 point] Separate the Data\n",
    "\n",
    "In this analysis, we would like to answer questions based on purchases and based on play time.  Create two new dataframes:\n",
    "\n",
    "- one that is comprised of the purchase rows for the games that were purchased\n",
    "- one that is comprised of the play rows for the games that were played"
   ]
  },
  {
   "cell_type": "code",
   "execution_count": 44,
   "metadata": {},
   "outputs": [
    {
     "data": {
      "text/html": [
       "<div>\n",
       "<style scoped>\n",
       "    .dataframe tbody tr th:only-of-type {\n",
       "        vertical-align: middle;\n",
       "    }\n",
       "\n",
       "    .dataframe tbody tr th {\n",
       "        vertical-align: top;\n",
       "    }\n",
       "\n",
       "    .dataframe thead th {\n",
       "        text-align: right;\n",
       "    }\n",
       "</style>\n",
       "<table border=\"1\" class=\"dataframe\">\n",
       "  <thead>\n",
       "    <tr style=\"text-align: right;\">\n",
       "      <th></th>\n",
       "      <th>user_id</th>\n",
       "      <th>game_name</th>\n",
       "      <th>activity</th>\n",
       "      <th>hours_played_if_play</th>\n",
       "    </tr>\n",
       "  </thead>\n",
       "  <tbody>\n",
       "    <tr>\n",
       "      <th>0</th>\n",
       "      <td>308653033</td>\n",
       "      <td>Unturned</td>\n",
       "      <td>purchase</td>\n",
       "      <td>1.0</td>\n",
       "    </tr>\n",
       "    <tr>\n",
       "      <th>2</th>\n",
       "      <td>308653033</td>\n",
       "      <td>theHunter</td>\n",
       "      <td>purchase</td>\n",
       "      <td>1.0</td>\n",
       "    </tr>\n",
       "    <tr>\n",
       "      <th>3</th>\n",
       "      <td>144004384</td>\n",
       "      <td>Dota 2</td>\n",
       "      <td>purchase</td>\n",
       "      <td>1.0</td>\n",
       "    </tr>\n",
       "    <tr>\n",
       "      <th>5</th>\n",
       "      <td>54103616</td>\n",
       "      <td>Counter-Strike Global Offensive</td>\n",
       "      <td>purchase</td>\n",
       "      <td>1.0</td>\n",
       "    </tr>\n",
       "    <tr>\n",
       "      <th>7</th>\n",
       "      <td>54103616</td>\n",
       "      <td>Counter-Strike</td>\n",
       "      <td>purchase</td>\n",
       "      <td>1.0</td>\n",
       "    </tr>\n",
       "    <tr>\n",
       "      <th>...</th>\n",
       "      <td>...</td>\n",
       "      <td>...</td>\n",
       "      <td>...</td>\n",
       "      <td>...</td>\n",
       "    </tr>\n",
       "    <tr>\n",
       "      <th>7800</th>\n",
       "      <td>99096740</td>\n",
       "      <td>SimCity 4 Deluxe</td>\n",
       "      <td>purchase</td>\n",
       "      <td>1.0</td>\n",
       "    </tr>\n",
       "    <tr>\n",
       "      <th>7802</th>\n",
       "      <td>99096740</td>\n",
       "      <td>BioShock Infinite Burial at Sea - Episode 2</td>\n",
       "      <td>purchase</td>\n",
       "      <td>1.0</td>\n",
       "    </tr>\n",
       "    <tr>\n",
       "      <th>7803</th>\n",
       "      <td>99096740</td>\n",
       "      <td>The Elder Scrolls V Skyrim - Dawnguard</td>\n",
       "      <td>purchase</td>\n",
       "      <td>1.0</td>\n",
       "    </tr>\n",
       "    <tr>\n",
       "      <th>7804</th>\n",
       "      <td>99096740</td>\n",
       "      <td>The Elder Scrolls V Skyrim - Dragonborn</td>\n",
       "      <td>purchase</td>\n",
       "      <td>1.0</td>\n",
       "    </tr>\n",
       "    <tr>\n",
       "      <th>7805</th>\n",
       "      <td>99096740</td>\n",
       "      <td>The Elder Scrolls V Skyrim - Hearthfire</td>\n",
       "      <td>purchase</td>\n",
       "      <td>1.0</td>\n",
       "    </tr>\n",
       "  </tbody>\n",
       "</table>\n",
       "<p>4931 rows × 4 columns</p>\n",
       "</div>"
      ],
      "text/plain": [
       "        user_id                                    game_name  activity  \\\n",
       "0     308653033                                     Unturned  purchase   \n",
       "2     308653033                                    theHunter  purchase   \n",
       "3     144004384                                       Dota 2  purchase   \n",
       "5      54103616              Counter-Strike Global Offensive  purchase   \n",
       "7      54103616                               Counter-Strike  purchase   \n",
       "...         ...                                          ...       ...   \n",
       "7800   99096740                             SimCity 4 Deluxe  purchase   \n",
       "7802   99096740  BioShock Infinite Burial at Sea - Episode 2  purchase   \n",
       "7803   99096740       The Elder Scrolls V Skyrim - Dawnguard  purchase   \n",
       "7804   99096740      The Elder Scrolls V Skyrim - Dragonborn  purchase   \n",
       "7805   99096740      The Elder Scrolls V Skyrim - Hearthfire  purchase   \n",
       "\n",
       "      hours_played_if_play  \n",
       "0                      1.0  \n",
       "2                      1.0  \n",
       "3                      1.0  \n",
       "5                      1.0  \n",
       "7                      1.0  \n",
       "...                    ...  \n",
       "7800                   1.0  \n",
       "7802                   1.0  \n",
       "7803                   1.0  \n",
       "7804                   1.0  \n",
       "7805                   1.0  \n",
       "\n",
       "[4931 rows x 4 columns]"
      ]
     },
     "execution_count": 44,
     "metadata": {},
     "output_type": "execute_result"
    }
   ],
   "source": [
    "df_purchase = df[df.activity == \"purchase\"]\n",
    "df_purchase"
   ]
  },
  {
   "cell_type": "code",
   "execution_count": 45,
   "metadata": {},
   "outputs": [
    {
     "data": {
      "text/html": [
       "<div>\n",
       "<style scoped>\n",
       "    .dataframe tbody tr th:only-of-type {\n",
       "        vertical-align: middle;\n",
       "    }\n",
       "\n",
       "    .dataframe tbody tr th {\n",
       "        vertical-align: top;\n",
       "    }\n",
       "\n",
       "    .dataframe thead th {\n",
       "        text-align: right;\n",
       "    }\n",
       "</style>\n",
       "<table border=\"1\" class=\"dataframe\">\n",
       "  <thead>\n",
       "    <tr style=\"text-align: right;\">\n",
       "      <th></th>\n",
       "      <th>user_id</th>\n",
       "      <th>game_name</th>\n",
       "      <th>activity</th>\n",
       "      <th>hours_played_if_play</th>\n",
       "    </tr>\n",
       "  </thead>\n",
       "  <tbody>\n",
       "    <tr>\n",
       "      <th>1</th>\n",
       "      <td>308653033</td>\n",
       "      <td>Unturned</td>\n",
       "      <td>play</td>\n",
       "      <td>0.6</td>\n",
       "    </tr>\n",
       "    <tr>\n",
       "      <th>4</th>\n",
       "      <td>144004384</td>\n",
       "      <td>Dota 2</td>\n",
       "      <td>play</td>\n",
       "      <td>22.0</td>\n",
       "    </tr>\n",
       "    <tr>\n",
       "      <th>6</th>\n",
       "      <td>54103616</td>\n",
       "      <td>Counter-Strike Global Offensive</td>\n",
       "      <td>play</td>\n",
       "      <td>1028.0</td>\n",
       "    </tr>\n",
       "    <tr>\n",
       "      <th>8</th>\n",
       "      <td>54103616</td>\n",
       "      <td>Counter-Strike</td>\n",
       "      <td>play</td>\n",
       "      <td>1008.0</td>\n",
       "    </tr>\n",
       "    <tr>\n",
       "      <th>10</th>\n",
       "      <td>54103616</td>\n",
       "      <td>Left 4 Dead</td>\n",
       "      <td>play</td>\n",
       "      <td>148.0</td>\n",
       "    </tr>\n",
       "    <tr>\n",
       "      <th>...</th>\n",
       "      <td>...</td>\n",
       "      <td>...</td>\n",
       "      <td>...</td>\n",
       "      <td>...</td>\n",
       "    </tr>\n",
       "    <tr>\n",
       "      <th>7793</th>\n",
       "      <td>99096740</td>\n",
       "      <td>Crysis</td>\n",
       "      <td>play</td>\n",
       "      <td>5.3</td>\n",
       "    </tr>\n",
       "    <tr>\n",
       "      <th>7795</th>\n",
       "      <td>99096740</td>\n",
       "      <td>Assassin's Creed II</td>\n",
       "      <td>play</td>\n",
       "      <td>2.7</td>\n",
       "    </tr>\n",
       "    <tr>\n",
       "      <th>7797</th>\n",
       "      <td>99096740</td>\n",
       "      <td>Hitman Blood Money</td>\n",
       "      <td>play</td>\n",
       "      <td>1.3</td>\n",
       "    </tr>\n",
       "    <tr>\n",
       "      <th>7799</th>\n",
       "      <td>99096740</td>\n",
       "      <td>The Binding of Isaac Rebirth</td>\n",
       "      <td>play</td>\n",
       "      <td>0.7</td>\n",
       "    </tr>\n",
       "    <tr>\n",
       "      <th>7801</th>\n",
       "      <td>99096740</td>\n",
       "      <td>SimCity 4 Deluxe</td>\n",
       "      <td>play</td>\n",
       "      <td>0.2</td>\n",
       "    </tr>\n",
       "  </tbody>\n",
       "</table>\n",
       "<p>2875 rows × 4 columns</p>\n",
       "</div>"
      ],
      "text/plain": [
       "        user_id                        game_name activity  \\\n",
       "1     308653033                         Unturned     play   \n",
       "4     144004384                           Dota 2     play   \n",
       "6      54103616  Counter-Strike Global Offensive     play   \n",
       "8      54103616                   Counter-Strike     play   \n",
       "10     54103616                      Left 4 Dead     play   \n",
       "...         ...                              ...      ...   \n",
       "7793   99096740                           Crysis     play   \n",
       "7795   99096740              Assassin's Creed II     play   \n",
       "7797   99096740               Hitman Blood Money     play   \n",
       "7799   99096740     The Binding of Isaac Rebirth     play   \n",
       "7801   99096740                 SimCity 4 Deluxe     play   \n",
       "\n",
       "      hours_played_if_play  \n",
       "1                      0.6  \n",
       "4                     22.0  \n",
       "6                   1028.0  \n",
       "8                   1008.0  \n",
       "10                   148.0  \n",
       "...                    ...  \n",
       "7793                   5.3  \n",
       "7795                   2.7  \n",
       "7797                   1.3  \n",
       "7799                   0.7  \n",
       "7801                   0.2  \n",
       "\n",
       "[2875 rows x 4 columns]"
      ]
     },
     "execution_count": 45,
     "metadata": {},
     "output_type": "execute_result"
    }
   ],
   "source": [
    "df_play = df[df.activity == \"play\"]\n",
    "df_play"
   ]
  },
  {
   "cell_type": "markdown",
   "metadata": {},
   "source": [
    "### 5. [2 points] Game Play Time Question\n",
    "\n",
    "Review the amount of time played for each row (user-game combination); you can choose your favorite method to review these amounts.  Are there any of these values that you suspect may not be accurate?  Explain.  \n",
    "\n",
    "Do you have any questions about the game play time variable?"
   ]
  },
  {
   "cell_type": "code",
   "execution_count": 46,
   "metadata": {},
   "outputs": [
    {
     "data": {
      "text/plain": [
       "1.0"
      ]
     },
     "execution_count": 46,
     "metadata": {},
     "output_type": "execute_result"
    }
   ],
   "source": [
    "purchase_mean = df_purchase[\"hours_played_if_play\"].mean()\n",
    "purchase_mean"
   ]
  },
  {
   "cell_type": "code",
   "execution_count": 47,
   "metadata": {},
   "outputs": [
    {
     "data": {
      "text/plain": [
       "56.7249651810585"
      ]
     },
     "execution_count": 47,
     "metadata": {},
     "output_type": "execute_result"
    }
   ],
   "source": [
    "play_mean = df_play[\"hours_played_if_play\"].mean()\n",
    "play_mean"
   ]
  },
  {
   "cell_type": "markdown",
   "metadata": {},
   "source": [
    "We think it is not accurate because the numbers is not reasonable range with people who purchased or played the game on steam. It makes no sense to have 1.0 hours for someone who just got the game because they haven't started compared to a number of 0.6 hours for someone who already played."
   ]
  },
  {
   "cell_type": "markdown",
   "metadata": {},
   "source": [
    "### 6. [2 points] Purchasing to Playing?\n",
    "\n",
    "Overall, of all of the purchases represented in this data, what proportion have been played?  Of all the purchases in the data, what proportion remain \"unopened\", that is, unplayed?\n",
    "\n",
    "What factors do you anticipate might affect whether a given game is played or not after being purchased?"
   ]
  },
  {
   "cell_type": "code",
   "execution_count": 48,
   "metadata": {},
   "outputs": [
    {
     "data": {
      "text/plain": [
       "36.83064309505509"
      ]
     },
     "execution_count": 48,
     "metadata": {},
     "output_type": "execute_result"
    }
   ],
   "source": [
    "len(df_play) / len(df) * 100"
   ]
  },
  {
   "cell_type": "code",
   "execution_count": 49,
   "metadata": {},
   "outputs": [
    {
     "data": {
      "text/plain": [
       "63.16935690494492"
      ]
     },
     "execution_count": 49,
     "metadata": {},
     "output_type": "execute_result"
    }
   ],
   "source": [
    "len(df_purchase) / len(df) * 100"
   ]
  },
  {
   "cell_type": "markdown",
   "metadata": {},
   "source": [
    "A game can be on sale and it could be a very good price for someone. So they get it beforehand to make sure they have the game at a good price and can play whenever they want. "
   ]
  }
 ],
 "metadata": {
  "kernelspec": {
   "display_name": "Python 3 (ipykernel)",
   "language": "python",
   "name": "python3"
  },
  "language_info": {
   "codemirror_mode": {
    "name": "ipython",
    "version": 3
   },
   "file_extension": ".py",
   "mimetype": "text/x-python",
   "name": "python",
   "nbconvert_exporter": "python",
   "pygments_lexer": "ipython3",
   "version": "3.11.5"
  }
 },
 "nbformat": 4,
 "nbformat_minor": 4
}
