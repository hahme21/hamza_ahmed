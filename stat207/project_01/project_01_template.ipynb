{
 "cells": [
  {
   "cell_type": "markdown",
   "metadata": {},
   "source": [
<<<<<<< HEAD
    "# STAT 207 Project 01 - Market Data from Superstores\n",
    "\n",
    "Hamza Ahmed, Kieran Cassidy, John Zhu"
=======
    "# STAT 207 Project 01 - INSERT TITLE HERE\n",
    "\n",
    "YOUR NAMES"
>>>>>>> e5be8a2d4ce62d3b254f9d7662908386d4b1154d
   ]
  },
  {
   "cell_type": "markdown",
   "metadata": {},
   "source": [
    "## 1. Introduction"
   ]
  },
  {
   "cell_type": "markdown",
   "metadata": {},
<<<<<<< HEAD
   "source": [
    "This data conists of 13 months worth of transactions from various superstore around the globe. Each record is a specific sale that have their invoice number, stock code, product description, quantity, invoice data, unit price, sutomer ID, and the country where the customer is from.\n",
    "\n",
    "This dataset can beneficial to different superstore owners who would like to explore which product sales at the highest amount, the retail prices for those items, and compare these numbers with their competitors.\n",
    "\n",
    "Question: What is the relationship between specific items and the country in which the customer is from?\n",
    "This question could help store owners to decide where to open new stores based on where speicfic itmes sells the most/highest profit."
=======
   "source": []
  },
  {
   "cell_type": "code",
   "execution_count": null,
   "metadata": {},
   "outputs": [],
   "source": [
    "#Imports here\n"
>>>>>>> e5be8a2d4ce62d3b254f9d7662908386d4b1154d
   ]
  },
  {
   "cell_type": "code",
<<<<<<< HEAD
   "execution_count": 3,
   "metadata": {},
   "outputs": [],
   "source": [
    "#Imports here\n",
    "import pandas as pd                    # imports pandas and calls the imported version 'pd'\n",
    "import matplotlib.pyplot as plt        # imports the package and calls it 'plt'\n",
    "import seaborn as sns                  # imports the seaborn package with the imported name 'sns'\n",
    "sns.set() "
   ]
=======
   "execution_count": null,
   "metadata": {},
   "outputs": [],
   "source": []
  },
  {
   "cell_type": "code",
   "execution_count": null,
   "metadata": {},
   "outputs": [],
   "source": []
  },
  {
   "cell_type": "code",
   "execution_count": null,
   "metadata": {},
   "outputs": [],
   "source": []
  },
  {
   "cell_type": "code",
   "execution_count": null,
   "metadata": {},
   "outputs": [],
   "source": []
>>>>>>> e5be8a2d4ce62d3b254f9d7662908386d4b1154d
  },
  {
   "cell_type": "markdown",
   "metadata": {},
   "source": [
    "## 2. Dataset Discussion"
   ]
  },
  {
<<<<<<< HEAD
   "cell_type": "code",
   "execution_count": 4,
   "metadata": {},
   "outputs": [
    {
     "data": {
      "text/html": [
       "<div>\n",
       "<style scoped>\n",
       "    .dataframe tbody tr th:only-of-type {\n",
       "        vertical-align: middle;\n",
       "    }\n",
       "\n",
       "    .dataframe tbody tr th {\n",
       "        vertical-align: top;\n",
       "    }\n",
       "\n",
       "    .dataframe thead th {\n",
       "        text-align: right;\n",
       "    }\n",
       "</style>\n",
       "<table border=\"1\" class=\"dataframe\">\n",
       "  <thead>\n",
       "    <tr style=\"text-align: right;\">\n",
       "      <th></th>\n",
       "      <th>InvoiceNo</th>\n",
       "      <th>StockCode</th>\n",
       "      <th>Description</th>\n",
       "      <th>Quantity</th>\n",
       "      <th>InvoiceDate</th>\n",
       "      <th>UnitPrice</th>\n",
       "      <th>CustomerID</th>\n",
       "      <th>Country</th>\n",
       "      <th>Sales</th>\n",
       "    </tr>\n",
       "  </thead>\n",
       "  <tbody>\n",
       "    <tr>\n",
       "      <th>0</th>\n",
       "      <td>536365</td>\n",
       "      <td>85123A</td>\n",
       "      <td>WHITE HANGING HEART T-LIGHT HOLDER</td>\n",
       "      <td>6</td>\n",
       "      <td>12/1/2010 8:26</td>\n",
       "      <td>2.55</td>\n",
       "      <td>17850.0</td>\n",
       "      <td>United Kingdom</td>\n",
       "      <td>15.30</td>\n",
       "    </tr>\n",
       "    <tr>\n",
       "      <th>1</th>\n",
       "      <td>536365</td>\n",
       "      <td>71053</td>\n",
       "      <td>WHITE METAL LANTERN</td>\n",
       "      <td>6</td>\n",
       "      <td>12/1/2010 8:26</td>\n",
       "      <td>3.39</td>\n",
       "      <td>17850.0</td>\n",
       "      <td>United Kingdom</td>\n",
       "      <td>20.34</td>\n",
       "    </tr>\n",
       "    <tr>\n",
       "      <th>2</th>\n",
       "      <td>536365</td>\n",
       "      <td>84406B</td>\n",
       "      <td>CREAM CUPID HEARTS COAT HANGER</td>\n",
       "      <td>8</td>\n",
       "      <td>12/1/2010 8:26</td>\n",
       "      <td>2.75</td>\n",
       "      <td>17850.0</td>\n",
       "      <td>United Kingdom</td>\n",
       "      <td>22.00</td>\n",
       "    </tr>\n",
       "    <tr>\n",
       "      <th>3</th>\n",
       "      <td>536365</td>\n",
       "      <td>84029G</td>\n",
       "      <td>KNITTED UNION FLAG HOT WATER BOTTLE</td>\n",
       "      <td>6</td>\n",
       "      <td>12/1/2010 8:26</td>\n",
       "      <td>3.39</td>\n",
       "      <td>17850.0</td>\n",
       "      <td>United Kingdom</td>\n",
       "      <td>20.34</td>\n",
       "    </tr>\n",
       "    <tr>\n",
       "      <th>4</th>\n",
       "      <td>536365</td>\n",
       "      <td>84029E</td>\n",
       "      <td>RED WOOLLY HOTTIE WHITE HEART.</td>\n",
       "      <td>6</td>\n",
       "      <td>12/1/2010 8:26</td>\n",
       "      <td>3.39</td>\n",
       "      <td>17850.0</td>\n",
       "      <td>United Kingdom</td>\n",
       "      <td>20.34</td>\n",
       "    </tr>\n",
       "    <tr>\n",
       "      <th>...</th>\n",
       "      <td>...</td>\n",
       "      <td>...</td>\n",
       "      <td>...</td>\n",
       "      <td>...</td>\n",
       "      <td>...</td>\n",
       "      <td>...</td>\n",
       "      <td>...</td>\n",
       "      <td>...</td>\n",
       "      <td>...</td>\n",
       "    </tr>\n",
       "    <tr>\n",
       "      <th>541904</th>\n",
       "      <td>581587</td>\n",
       "      <td>22613</td>\n",
       "      <td>PACK OF 20 SPACEBOY NAPKINS</td>\n",
       "      <td>12</td>\n",
       "      <td>12/9/2011 12:50</td>\n",
       "      <td>0.85</td>\n",
       "      <td>12680.0</td>\n",
       "      <td>France</td>\n",
       "      <td>10.20</td>\n",
       "    </tr>\n",
       "    <tr>\n",
       "      <th>541905</th>\n",
       "      <td>581587</td>\n",
       "      <td>22899</td>\n",
       "      <td>CHILDREN'S APRON DOLLY GIRL</td>\n",
       "      <td>6</td>\n",
       "      <td>12/9/2011 12:50</td>\n",
       "      <td>2.10</td>\n",
       "      <td>12680.0</td>\n",
       "      <td>France</td>\n",
       "      <td>12.60</td>\n",
       "    </tr>\n",
       "    <tr>\n",
       "      <th>541906</th>\n",
       "      <td>581587</td>\n",
       "      <td>23254</td>\n",
       "      <td>CHILDRENS CUTLERY DOLLY GIRL</td>\n",
       "      <td>4</td>\n",
       "      <td>12/9/2011 12:50</td>\n",
       "      <td>4.15</td>\n",
       "      <td>12680.0</td>\n",
       "      <td>France</td>\n",
       "      <td>16.60</td>\n",
       "    </tr>\n",
       "    <tr>\n",
       "      <th>541907</th>\n",
       "      <td>581587</td>\n",
       "      <td>23255</td>\n",
       "      <td>CHILDRENS CUTLERY CIRCUS PARADE</td>\n",
       "      <td>4</td>\n",
       "      <td>12/9/2011 12:50</td>\n",
       "      <td>4.15</td>\n",
       "      <td>12680.0</td>\n",
       "      <td>France</td>\n",
       "      <td>16.60</td>\n",
       "    </tr>\n",
       "    <tr>\n",
       "      <th>541908</th>\n",
       "      <td>581587</td>\n",
       "      <td>22138</td>\n",
       "      <td>BAKING SET 9 PIECE RETROSPOT</td>\n",
       "      <td>3</td>\n",
       "      <td>12/9/2011 12:50</td>\n",
       "      <td>4.95</td>\n",
       "      <td>12680.0</td>\n",
       "      <td>France</td>\n",
       "      <td>14.85</td>\n",
       "    </tr>\n",
       "  </tbody>\n",
       "</table>\n",
       "<p>541909 rows × 9 columns</p>\n",
       "</div>"
      ],
      "text/plain": [
       "       InvoiceNo StockCode                          Description  Quantity  \\\n",
       "0         536365    85123A   WHITE HANGING HEART T-LIGHT HOLDER         6   \n",
       "1         536365     71053                  WHITE METAL LANTERN         6   \n",
       "2         536365    84406B       CREAM CUPID HEARTS COAT HANGER         8   \n",
       "3         536365    84029G  KNITTED UNION FLAG HOT WATER BOTTLE         6   \n",
       "4         536365    84029E       RED WOOLLY HOTTIE WHITE HEART.         6   \n",
       "...          ...       ...                                  ...       ...   \n",
       "541904    581587     22613          PACK OF 20 SPACEBOY NAPKINS        12   \n",
       "541905    581587     22899         CHILDREN'S APRON DOLLY GIRL          6   \n",
       "541906    581587     23254        CHILDRENS CUTLERY DOLLY GIRL          4   \n",
       "541907    581587     23255      CHILDRENS CUTLERY CIRCUS PARADE         4   \n",
       "541908    581587     22138        BAKING SET 9 PIECE RETROSPOT          3   \n",
       "\n",
       "            InvoiceDate  UnitPrice  CustomerID         Country  Sales  \n",
       "0        12/1/2010 8:26       2.55     17850.0  United Kingdom  15.30  \n",
       "1        12/1/2010 8:26       3.39     17850.0  United Kingdom  20.34  \n",
       "2        12/1/2010 8:26       2.75     17850.0  United Kingdom  22.00  \n",
       "3        12/1/2010 8:26       3.39     17850.0  United Kingdom  20.34  \n",
       "4        12/1/2010 8:26       3.39     17850.0  United Kingdom  20.34  \n",
       "...                 ...        ...         ...             ...    ...  \n",
       "541904  12/9/2011 12:50       0.85     12680.0          France  10.20  \n",
       "541905  12/9/2011 12:50       2.10     12680.0          France  12.60  \n",
       "541906  12/9/2011 12:50       4.15     12680.0          France  16.60  \n",
       "541907  12/9/2011 12:50       4.15     12680.0          France  16.60  \n",
       "541908  12/9/2011 12:50       4.95     12680.0          France  14.85  \n",
       "\n",
       "[541909 rows x 9 columns]"
      ]
     },
     "execution_count": 4,
     "metadata": {},
     "output_type": "execute_result"
    }
   ],
   "source": [
    "df = pd.read_csv('superstoredata.csv')\n",
    "df"
   ]
  },
  {
   "cell_type": "code",
   "execution_count": 5,
   "metadata": {},
   "outputs": [
    {
     "data": {
      "text/plain": [
       "array(['United Kingdom', 'France', 'Australia', 'Netherlands', 'Germany',\n",
       "       'Norway', 'EIRE', 'Switzerland', 'Spain', 'Poland', 'Portugal',\n",
       "       'Italy', 'Belgium', 'Lithuania', 'Japan', 'Iceland',\n",
       "       'Channel Islands', 'Denmark', 'Cyprus', 'Sweden', 'Austria',\n",
       "       'Israel', 'Finland', 'Bahrain', 'Greece', 'Hong Kong', 'Singapore',\n",
       "       'Lebanon', 'United Arab Emirates', 'Saudi Arabia',\n",
       "       'Czech Republic', 'Canada', 'Unspecified', 'Brazil', 'USA',\n",
       "       'European Community', 'Malta', 'RSA'], dtype=object)"
      ]
     },
     "execution_count": 5,
     "metadata": {},
     "output_type": "execute_result"
    }
   ],
   "source": [
    "df['Country'].unique()"
   ]
  },
  {
   "cell_type": "code",
   "execution_count": 6,
   "metadata": {},
   "outputs": [
    {
     "data": {
      "text/plain": [
       "InvoiceNo           0\n",
       "StockCode           0\n",
       "Description      1454\n",
       "Quantity            0\n",
       "InvoiceDate         0\n",
       "UnitPrice           0\n",
       "CustomerID     135080\n",
       "Country             0\n",
       "Sales               0\n",
       "dtype: int64"
      ]
     },
     "execution_count": 6,
     "metadata": {},
     "output_type": "execute_result"
    }
   ],
   "source": [
    "df.isna().sum()"
   ]
  },
  {
   "cell_type": "markdown",
   "metadata": {},
   "source": [
    "a. Some limitations in this datset are inclusion of missing or vague values. For example, in the 'country' column, there are values such as 'unspecified' and 'European Community', which is vague and store owners are unable to determine where the customer is located. In addition, there are many unkown customerID's which could be an issue as unidentified customers are shopping"
   ]
  },
  {
   "cell_type": "markdown",
   "metadata": {},
   "source": [
    "b. The dataset we used came from Kaggle (https://www.kaggle.com/datasets/adamgrey88/megastore-sales-data), and was curated by Adam Grey. We accessed and downloaded the data from the official Kaggle website on February 18th, and there is no codebook for the dataset."
   ]
  },
  {
   "cell_type": "code",
   "execution_count": 7,
   "metadata": {},
   "outputs": [
    {
     "data": {
      "text/html": [
       "<div>\n",
       "<style scoped>\n",
       "    .dataframe tbody tr th:only-of-type {\n",
       "        vertical-align: middle;\n",
       "    }\n",
       "\n",
       "    .dataframe tbody tr th {\n",
       "        vertical-align: top;\n",
       "    }\n",
       "\n",
       "    .dataframe thead th {\n",
       "        text-align: right;\n",
       "    }\n",
       "</style>\n",
       "<table border=\"1\" class=\"dataframe\">\n",
       "  <thead>\n",
       "    <tr style=\"text-align: right;\">\n",
       "      <th></th>\n",
       "      <th>InvoiceNo</th>\n",
       "      <th>StockCode</th>\n",
       "      <th>Description</th>\n",
       "      <th>Quantity</th>\n",
       "      <th>InvoiceDate</th>\n",
       "      <th>UnitPrice</th>\n",
       "      <th>CustomerID</th>\n",
       "      <th>Country</th>\n",
       "      <th>Sales</th>\n",
       "    </tr>\n",
       "  </thead>\n",
       "  <tbody>\n",
       "    <tr>\n",
       "      <th>0</th>\n",
       "      <td>536365</td>\n",
       "      <td>85123A</td>\n",
       "      <td>WHITE HANGING HEART T-LIGHT HOLDER</td>\n",
       "      <td>6</td>\n",
       "      <td>12/1/2010 8:26</td>\n",
       "      <td>2.55</td>\n",
       "      <td>17850.0</td>\n",
       "      <td>United Kingdom</td>\n",
       "      <td>15.30</td>\n",
       "    </tr>\n",
       "    <tr>\n",
       "      <th>1</th>\n",
       "      <td>536365</td>\n",
       "      <td>71053</td>\n",
       "      <td>WHITE METAL LANTERN</td>\n",
       "      <td>6</td>\n",
       "      <td>12/1/2010 8:26</td>\n",
       "      <td>3.39</td>\n",
       "      <td>17850.0</td>\n",
       "      <td>United Kingdom</td>\n",
       "      <td>20.34</td>\n",
       "    </tr>\n",
       "    <tr>\n",
       "      <th>2</th>\n",
       "      <td>536365</td>\n",
       "      <td>84406B</td>\n",
       "      <td>CREAM CUPID HEARTS COAT HANGER</td>\n",
       "      <td>8</td>\n",
       "      <td>12/1/2010 8:26</td>\n",
       "      <td>2.75</td>\n",
       "      <td>17850.0</td>\n",
       "      <td>United Kingdom</td>\n",
       "      <td>22.00</td>\n",
       "    </tr>\n",
       "    <tr>\n",
       "      <th>3</th>\n",
       "      <td>536365</td>\n",
       "      <td>84029G</td>\n",
       "      <td>KNITTED UNION FLAG HOT WATER BOTTLE</td>\n",
       "      <td>6</td>\n",
       "      <td>12/1/2010 8:26</td>\n",
       "      <td>3.39</td>\n",
       "      <td>17850.0</td>\n",
       "      <td>United Kingdom</td>\n",
       "      <td>20.34</td>\n",
       "    </tr>\n",
       "    <tr>\n",
       "      <th>4</th>\n",
       "      <td>536365</td>\n",
       "      <td>84029E</td>\n",
       "      <td>RED WOOLLY HOTTIE WHITE HEART.</td>\n",
       "      <td>6</td>\n",
       "      <td>12/1/2010 8:26</td>\n",
       "      <td>3.39</td>\n",
       "      <td>17850.0</td>\n",
       "      <td>United Kingdom</td>\n",
       "      <td>20.34</td>\n",
       "    </tr>\n",
       "    <tr>\n",
       "      <th>...</th>\n",
       "      <td>...</td>\n",
       "      <td>...</td>\n",
       "      <td>...</td>\n",
       "      <td>...</td>\n",
       "      <td>...</td>\n",
       "      <td>...</td>\n",
       "      <td>...</td>\n",
       "      <td>...</td>\n",
       "      <td>...</td>\n",
       "    </tr>\n",
       "    <tr>\n",
       "      <th>541904</th>\n",
       "      <td>581587</td>\n",
       "      <td>22613</td>\n",
       "      <td>PACK OF 20 SPACEBOY NAPKINS</td>\n",
       "      <td>12</td>\n",
       "      <td>12/9/2011 12:50</td>\n",
       "      <td>0.85</td>\n",
       "      <td>12680.0</td>\n",
       "      <td>France</td>\n",
       "      <td>10.20</td>\n",
       "    </tr>\n",
       "    <tr>\n",
       "      <th>541905</th>\n",
       "      <td>581587</td>\n",
       "      <td>22899</td>\n",
       "      <td>CHILDREN'S APRON DOLLY GIRL</td>\n",
       "      <td>6</td>\n",
       "      <td>12/9/2011 12:50</td>\n",
       "      <td>2.10</td>\n",
       "      <td>12680.0</td>\n",
       "      <td>France</td>\n",
       "      <td>12.60</td>\n",
       "    </tr>\n",
       "    <tr>\n",
       "      <th>541906</th>\n",
       "      <td>581587</td>\n",
       "      <td>23254</td>\n",
       "      <td>CHILDRENS CUTLERY DOLLY GIRL</td>\n",
       "      <td>4</td>\n",
       "      <td>12/9/2011 12:50</td>\n",
       "      <td>4.15</td>\n",
       "      <td>12680.0</td>\n",
       "      <td>France</td>\n",
       "      <td>16.60</td>\n",
       "    </tr>\n",
       "    <tr>\n",
       "      <th>541907</th>\n",
       "      <td>581587</td>\n",
       "      <td>23255</td>\n",
       "      <td>CHILDRENS CUTLERY CIRCUS PARADE</td>\n",
       "      <td>4</td>\n",
       "      <td>12/9/2011 12:50</td>\n",
       "      <td>4.15</td>\n",
       "      <td>12680.0</td>\n",
       "      <td>France</td>\n",
       "      <td>16.60</td>\n",
       "    </tr>\n",
       "    <tr>\n",
       "      <th>541908</th>\n",
       "      <td>581587</td>\n",
       "      <td>22138</td>\n",
       "      <td>BAKING SET 9 PIECE RETROSPOT</td>\n",
       "      <td>3</td>\n",
       "      <td>12/9/2011 12:50</td>\n",
       "      <td>4.95</td>\n",
       "      <td>12680.0</td>\n",
       "      <td>France</td>\n",
       "      <td>14.85</td>\n",
       "    </tr>\n",
       "  </tbody>\n",
       "</table>\n",
       "<p>541909 rows × 9 columns</p>\n",
       "</div>"
      ],
      "text/plain": [
       "       InvoiceNo StockCode                          Description  Quantity  \\\n",
       "0         536365    85123A   WHITE HANGING HEART T-LIGHT HOLDER         6   \n",
       "1         536365     71053                  WHITE METAL LANTERN         6   \n",
       "2         536365    84406B       CREAM CUPID HEARTS COAT HANGER         8   \n",
       "3         536365    84029G  KNITTED UNION FLAG HOT WATER BOTTLE         6   \n",
       "4         536365    84029E       RED WOOLLY HOTTIE WHITE HEART.         6   \n",
       "...          ...       ...                                  ...       ...   \n",
       "541904    581587     22613          PACK OF 20 SPACEBOY NAPKINS        12   \n",
       "541905    581587     22899         CHILDREN'S APRON DOLLY GIRL          6   \n",
       "541906    581587     23254        CHILDRENS CUTLERY DOLLY GIRL          4   \n",
       "541907    581587     23255      CHILDRENS CUTLERY CIRCUS PARADE         4   \n",
       "541908    581587     22138        BAKING SET 9 PIECE RETROSPOT          3   \n",
       "\n",
       "            InvoiceDate  UnitPrice  CustomerID         Country  Sales  \n",
       "0        12/1/2010 8:26       2.55     17850.0  United Kingdom  15.30  \n",
       "1        12/1/2010 8:26       3.39     17850.0  United Kingdom  20.34  \n",
       "2        12/1/2010 8:26       2.75     17850.0  United Kingdom  22.00  \n",
       "3        12/1/2010 8:26       3.39     17850.0  United Kingdom  20.34  \n",
       "4        12/1/2010 8:26       3.39     17850.0  United Kingdom  20.34  \n",
       "...                 ...        ...         ...             ...    ...  \n",
       "541904  12/9/2011 12:50       0.85     12680.0          France  10.20  \n",
       "541905  12/9/2011 12:50       2.10     12680.0          France  12.60  \n",
       "541906  12/9/2011 12:50       4.15     12680.0          France  16.60  \n",
       "541907  12/9/2011 12:50       4.15     12680.0          France  16.60  \n",
       "541908  12/9/2011 12:50       4.95     12680.0          France  14.85  \n",
       "\n",
       "[541909 rows x 9 columns]"
      ]
     },
     "execution_count": 7,
     "metadata": {},
     "output_type": "execute_result"
    }
   ],
   "source": [
    "df"
   ]
  },
  {
   "cell_type": "code",
   "execution_count": 8,
   "metadata": {},
   "outputs": [
    {
     "data": {
      "text/plain": [
       "(541909, 9)"
      ]
     },
     "execution_count": 8,
     "metadata": {},
     "output_type": "execute_result"
    }
   ],
   "source": [
    "df.shape"
   ]
  },
  {
   "cell_type": "markdown",
   "metadata": {},
   "source": [
    "This dataset has 541909 rows and 9 columns"
   ]
  },
  {
   "cell_type": "markdown",
   "metadata": {},
   "source": [
    "d. The unit of observation for our dataset is a single transaction/sale, which signifies a unique purchase from a superstore."
   ]
  },
  {
   "cell_type": "markdown",
   "metadata": {},
   "source": [
    "e. This dataset is a sample, since it only tracks purchases over 13 months and in select countries. It is not representative of the population of interest, which is product sales, and the sample is customers and their purchases."
   ]
  },
  {
   "cell_type": "markdown",
   "metadata": {},
   "source": [
    "f. Although we are unaware how the data was collected, it most likely comes from a system that records everything purchased at various superstores. This customer information collection system provides the item purchased, quantity purchased, date and type of purchase, customerID, and country of where the customer is from. "
   ]
  },
  {
   "cell_type": "markdown",
   "metadata": {},
   "source": [
    "g. We intend to explore 'Description', which is the name of the item being purchased. Additionally, we are using 'Country', which is the country in which the customer who purchased the item is located. Finally, we are exploring 'Sales' within our dataset, which is the cumulative price of the order that the customer bought (Unit Price * Quantity)."
   ]
=======
   "cell_type": "markdown",
   "metadata": {},
   "source": []
  },
  {
   "cell_type": "code",
   "execution_count": null,
   "metadata": {},
   "outputs": [],
   "source": []
  },
  {
   "cell_type": "code",
   "execution_count": null,
   "metadata": {},
   "outputs": [],
   "source": []
  },
  {
   "cell_type": "code",
   "execution_count": null,
   "metadata": {},
   "outputs": [],
   "source": []
  },
  {
   "cell_type": "code",
   "execution_count": null,
   "metadata": {},
   "outputs": [],
   "source": []
  },
  {
   "cell_type": "code",
   "execution_count": null,
   "metadata": {},
   "outputs": [],
   "source": []
  },
  {
   "cell_type": "code",
   "execution_count": null,
   "metadata": {},
   "outputs": [],
   "source": []
  },
  {
   "cell_type": "code",
   "execution_count": null,
   "metadata": {},
   "outputs": [],
   "source": []
  },
  {
   "cell_type": "code",
   "execution_count": null,
   "metadata": {},
   "outputs": [],
   "source": []
  },
  {
   "cell_type": "code",
   "execution_count": null,
   "metadata": {},
   "outputs": [],
   "source": []
>>>>>>> e5be8a2d4ce62d3b254f9d7662908386d4b1154d
  },
  {
   "cell_type": "markdown",
   "metadata": {},
   "source": [
    "## 3. Dataset Cleaning"
   ]
  },
  {
   "cell_type": "code",
<<<<<<< HEAD
   "execution_count": 9,
   "metadata": {},
   "outputs": [
    {
     "data": {
      "text/html": [
       "<div>\n",
       "<style scoped>\n",
       "    .dataframe tbody tr th:only-of-type {\n",
       "        vertical-align: middle;\n",
       "    }\n",
       "\n",
       "    .dataframe tbody tr th {\n",
       "        vertical-align: top;\n",
       "    }\n",
       "\n",
       "    .dataframe thead th {\n",
       "        text-align: right;\n",
       "    }\n",
       "</style>\n",
       "<table border=\"1\" class=\"dataframe\">\n",
       "  <thead>\n",
       "    <tr style=\"text-align: right;\">\n",
       "      <th></th>\n",
       "      <th>InvoiceNo</th>\n",
       "      <th>StockCode</th>\n",
       "      <th>Description</th>\n",
       "      <th>Quantity</th>\n",
       "      <th>InvoiceDate</th>\n",
       "      <th>UnitPrice</th>\n",
       "      <th>CustomerID</th>\n",
       "      <th>Country</th>\n",
       "      <th>Sales</th>\n",
       "    </tr>\n",
       "  </thead>\n",
       "  <tbody>\n",
       "    <tr>\n",
       "      <th>0</th>\n",
       "      <td>536365</td>\n",
       "      <td>85123A</td>\n",
       "      <td>WHITE HANGING HEART T-LIGHT HOLDER</td>\n",
       "      <td>6</td>\n",
       "      <td>12/1/2010 8:26</td>\n",
       "      <td>2.55</td>\n",
       "      <td>17850.0</td>\n",
       "      <td>United Kingdom</td>\n",
       "      <td>15.30</td>\n",
       "    </tr>\n",
       "    <tr>\n",
       "      <th>1</th>\n",
       "      <td>536365</td>\n",
       "      <td>71053</td>\n",
       "      <td>WHITE METAL LANTERN</td>\n",
       "      <td>6</td>\n",
       "      <td>12/1/2010 8:26</td>\n",
       "      <td>3.39</td>\n",
       "      <td>17850.0</td>\n",
       "      <td>United Kingdom</td>\n",
       "      <td>20.34</td>\n",
       "    </tr>\n",
       "    <tr>\n",
       "      <th>2</th>\n",
       "      <td>536365</td>\n",
       "      <td>84406B</td>\n",
       "      <td>CREAM CUPID HEARTS COAT HANGER</td>\n",
       "      <td>8</td>\n",
       "      <td>12/1/2010 8:26</td>\n",
       "      <td>2.75</td>\n",
       "      <td>17850.0</td>\n",
       "      <td>United Kingdom</td>\n",
       "      <td>22.00</td>\n",
       "    </tr>\n",
       "    <tr>\n",
       "      <th>3</th>\n",
       "      <td>536365</td>\n",
       "      <td>84029G</td>\n",
       "      <td>KNITTED UNION FLAG HOT WATER BOTTLE</td>\n",
       "      <td>6</td>\n",
       "      <td>12/1/2010 8:26</td>\n",
       "      <td>3.39</td>\n",
       "      <td>17850.0</td>\n",
       "      <td>United Kingdom</td>\n",
       "      <td>20.34</td>\n",
       "    </tr>\n",
       "    <tr>\n",
       "      <th>4</th>\n",
       "      <td>536365</td>\n",
       "      <td>84029E</td>\n",
       "      <td>RED WOOLLY HOTTIE WHITE HEART.</td>\n",
       "      <td>6</td>\n",
       "      <td>12/1/2010 8:26</td>\n",
       "      <td>3.39</td>\n",
       "      <td>17850.0</td>\n",
       "      <td>United Kingdom</td>\n",
       "      <td>20.34</td>\n",
       "    </tr>\n",
       "    <tr>\n",
       "      <th>...</th>\n",
       "      <td>...</td>\n",
       "      <td>...</td>\n",
       "      <td>...</td>\n",
       "      <td>...</td>\n",
       "      <td>...</td>\n",
       "      <td>...</td>\n",
       "      <td>...</td>\n",
       "      <td>...</td>\n",
       "      <td>...</td>\n",
       "    </tr>\n",
       "    <tr>\n",
       "      <th>541904</th>\n",
       "      <td>581587</td>\n",
       "      <td>22613</td>\n",
       "      <td>PACK OF 20 SPACEBOY NAPKINS</td>\n",
       "      <td>12</td>\n",
       "      <td>12/9/2011 12:50</td>\n",
       "      <td>0.85</td>\n",
       "      <td>12680.0</td>\n",
       "      <td>France</td>\n",
       "      <td>10.20</td>\n",
       "    </tr>\n",
       "    <tr>\n",
       "      <th>541905</th>\n",
       "      <td>581587</td>\n",
       "      <td>22899</td>\n",
       "      <td>CHILDREN'S APRON DOLLY GIRL</td>\n",
       "      <td>6</td>\n",
       "      <td>12/9/2011 12:50</td>\n",
       "      <td>2.10</td>\n",
       "      <td>12680.0</td>\n",
       "      <td>France</td>\n",
       "      <td>12.60</td>\n",
       "    </tr>\n",
       "    <tr>\n",
       "      <th>541906</th>\n",
       "      <td>581587</td>\n",
       "      <td>23254</td>\n",
       "      <td>CHILDRENS CUTLERY DOLLY GIRL</td>\n",
       "      <td>4</td>\n",
       "      <td>12/9/2011 12:50</td>\n",
       "      <td>4.15</td>\n",
       "      <td>12680.0</td>\n",
       "      <td>France</td>\n",
       "      <td>16.60</td>\n",
       "    </tr>\n",
       "    <tr>\n",
       "      <th>541907</th>\n",
       "      <td>581587</td>\n",
       "      <td>23255</td>\n",
       "      <td>CHILDRENS CUTLERY CIRCUS PARADE</td>\n",
       "      <td>4</td>\n",
       "      <td>12/9/2011 12:50</td>\n",
       "      <td>4.15</td>\n",
       "      <td>12680.0</td>\n",
       "      <td>France</td>\n",
       "      <td>16.60</td>\n",
       "    </tr>\n",
       "    <tr>\n",
       "      <th>541908</th>\n",
       "      <td>581587</td>\n",
       "      <td>22138</td>\n",
       "      <td>BAKING SET 9 PIECE RETROSPOT</td>\n",
       "      <td>3</td>\n",
       "      <td>12/9/2011 12:50</td>\n",
       "      <td>4.95</td>\n",
       "      <td>12680.0</td>\n",
       "      <td>France</td>\n",
       "      <td>14.85</td>\n",
       "    </tr>\n",
       "  </tbody>\n",
       "</table>\n",
       "<p>541909 rows × 9 columns</p>\n",
       "</div>"
      ],
      "text/plain": [
       "       InvoiceNo StockCode                          Description  Quantity  \\\n",
       "0         536365    85123A   WHITE HANGING HEART T-LIGHT HOLDER         6   \n",
       "1         536365     71053                  WHITE METAL LANTERN         6   \n",
       "2         536365    84406B       CREAM CUPID HEARTS COAT HANGER         8   \n",
       "3         536365    84029G  KNITTED UNION FLAG HOT WATER BOTTLE         6   \n",
       "4         536365    84029E       RED WOOLLY HOTTIE WHITE HEART.         6   \n",
       "...          ...       ...                                  ...       ...   \n",
       "541904    581587     22613          PACK OF 20 SPACEBOY NAPKINS        12   \n",
       "541905    581587     22899         CHILDREN'S APRON DOLLY GIRL          6   \n",
       "541906    581587     23254        CHILDRENS CUTLERY DOLLY GIRL          4   \n",
       "541907    581587     23255      CHILDRENS CUTLERY CIRCUS PARADE         4   \n",
       "541908    581587     22138        BAKING SET 9 PIECE RETROSPOT          3   \n",
       "\n",
       "            InvoiceDate  UnitPrice  CustomerID         Country  Sales  \n",
       "0        12/1/2010 8:26       2.55     17850.0  United Kingdom  15.30  \n",
       "1        12/1/2010 8:26       3.39     17850.0  United Kingdom  20.34  \n",
       "2        12/1/2010 8:26       2.75     17850.0  United Kingdom  22.00  \n",
       "3        12/1/2010 8:26       3.39     17850.0  United Kingdom  20.34  \n",
       "4        12/1/2010 8:26       3.39     17850.0  United Kingdom  20.34  \n",
       "...                 ...        ...         ...             ...    ...  \n",
       "541904  12/9/2011 12:50       0.85     12680.0          France  10.20  \n",
       "541905  12/9/2011 12:50       2.10     12680.0          France  12.60  \n",
       "541906  12/9/2011 12:50       4.15     12680.0          France  16.60  \n",
       "541907  12/9/2011 12:50       4.15     12680.0          France  16.60  \n",
       "541908  12/9/2011 12:50       4.95     12680.0          France  14.85  \n",
       "\n",
       "[541909 rows x 9 columns]"
      ]
     },
     "execution_count": 9,
     "metadata": {},
     "output_type": "execute_result"
    }
   ],
   "source": [
    "df"
   ]
  },
  {
   "cell_type": "code",
   "execution_count": 17,
   "metadata": {},
   "outputs": [
    {
     "data": {
      "image/png": "iVBORw0KGgoAAAANSUhEUgAAAlkAAAI7CAYAAADfxI4WAAAAOXRFWHRTb2Z0d2FyZQBNYXRwbG90bGliIHZlcnNpb24zLjguMCwgaHR0cHM6Ly9tYXRwbG90bGliLm9yZy81sbWrAAAACXBIWXMAAA9hAAAPYQGoP6dpAAC+qElEQVR4nOzdd1QT6fs28Cs0FbFi711sgK7u4tpQwYYd66qroth7rwgiooJiV0QQrNh7WctaVnQVdO2iiIhYEAsWUAkl7x+8mV9CJiGJZMX9Xp9z9px1MjN5EpLJPU+5b4lMJpOBiIiIiHKU0fduABEREdF/EYMsIiIiIgNgkEVERERkAAyyiIiIiAyAQRYRERGRATDIIiIiIjIABllEREREBsAgi4iIiMgAGGQRERERGYDJ927A/zKZTIaMDCbcJyIi+lEYGUkgkUi02pdB1neUkSHDu3fJ37sZREREpKWiRfPD2Fi7IIvDhUREREQGwCCLiIiIyAB+uCArJiYG9evXx759+4Rt9+/fR//+/WFrawt7e3sEBgYqHZORkYGVK1eiWbNmsLGxgYuLC2JjY5X2yYlzEBEREcn9UEFWamoqpkyZgs+fPwvbEhMTMXjwYFSqVAl79+7F2LFjsWLFCuzdu1fYZ+3atQgNDcWCBQuwc+dOSCQSuLq6QiqV5tg5iIiIiBT9UEHWqlWrkD9/fqVtu3btgpmZGdzd3VG1alU4Oztj0KBBCAgIAABIpVIEBQVh7NixaNGiBaysrODn54dXr17h1KlTOXYOIiIiIkU/TJAVHh6OnTt3YvHixUrbIyIi0KhRI5iY/N9CSTs7O8TExODt27eIjIxEcnIy7OzshMcLFiyI2rVrIzw8PMfOQURERKTohwiyPn78iGnTpmHOnDkoXbq00mPx8fEoVaqU0rYSJUoAAF68eIH4+HgAUDmuRIkSePnyZY6dg4iIiEjRD5Eny93dHba2tujUqZPKY1+/foWZmZnStjx58gAAUlJS8OXLFwAQ3efDhw85dg59mZj8EHEuERER6SjXB1kHDhxAREQEDh8+LPp43rx5VSafp6SkAADMzc2RN29eAJnzquT/L98nX758OXYOfRgZSVCkSP7sdyQiIqIfTq4Psvbu3Yu3b9/C3t5eafu8efMQGBiIMmXKICEhQekx+b9LliyJtLQ0YVuFChWU9rGysgIAlCpV6pvPoY+MDBk+fvyc/Y5ERESUKxQsmA/GxtqNQuX6IMvX1xdfv35V2tamTRuMGzcOHTp0wNGjRxEaGor09HQYGxsDAC5fvozKlSvD0tISBQoUgIWFBa5cuSIESB8/fsS9e/fQv39/AECjRo2++Rz6SkvL+KbjiYiIKHfK9ROCSpYsiYoVKyr9BwCWlpYoW7YsnJ2dkZSUhNmzZ+PRo0fYt28fQkJCMHz4cACZ86j69+8PX19fnDlzBpGRkZg4cSJKlSoFR0dHAMiRcxAREREpyvU9WdmxtLTExo0b4eXlhW7duqF48eKYNm0aunXrJuwzbtw4pKWlYc6cOfj69SsaNWqEwMBAYSJ7TpyDiIiISJFEJpPJvncj/lelp2fg3btk0ccyMjJgZJTrOxqJiIj+pxQtml/rOVn8Fc+F/P1XY+LEUfj69cv3bgoRERHpiUFWLnThwlm8efMa4eFXvndTiIiISE8MsnKx9PT0790EIiIi0hODLCIiIiIDYJBFREREZAAMsoiIiIgMgEEWERERkQEwyCIiIiIyAAZZRERERAbAIIuIiIjIABhkERERERkAgywiIiIiA2CQRURERGQADLKIiIiIDIBBFhEREZEBMMgiIiIiMgAGWUREREQGwCCLiIiIyAAYZBEREREZAIMsIiIiIgNgkEVERERkAAyyiIiIiAyAQRYRERGRATDIIiIiIjIABllEREREBsAgi4iIiMgAGGQRERERGQCDLCIiIiIDYJBFREREZAAMsoiIiIgMgEEWERERkQEwyCIiIiIyAAZZRERERAbAIIuIiIjIABhkERERERkAgywiIiIiA2CQRURERGQADLKIiIiIDIBBFhEREZEBMMgiIiIiMgAGWUREREQGwCCLiIiIyAAYZBEREREZAIMsIiIiIgNgkEVERERkAAyyiIiIiAyAQRYRERGRATDIIiIiIjIABllEREREBsAgi4iIiMgAGGQRERERGQCDLCIiIiIDYJBFREREZAAMsoiIiIgMgEEWERERkQEwyCIiIiIygB8iyHr79i2mTp0KOzs71K9fH8OGDcOjR4+Ex+/fv4/+/fvD1tYW9vb2CAwMVDo+IyMDK1euRLNmzWBjYwMXFxfExsYq7ZMT5yAiIiKS+yGCrJEjRyIuLg4BAQHYs2cP8ubNi0GDBuHLly9ITEzE4MGDUalSJezduxdjx47FihUrsHfvXuH4tWvXIjQ0FAsWLMDOnTshkUjg6uoKqVQKADlyDiIiIiJFuT7ISkxMRLly5eDp6Yl69eqhatWqGDVqFF6/fo2oqCjs2rULZmZmcHd3R9WqVeHs7IxBgwYhICAAACCVShEUFISxY8eiRYsWsLKygp+fH169eoVTp04BQI6cg4iIiEhRrg+yihQpgmXLlqF69eoAgDdv3iAwMBClSpVCtWrVEBERgUaNGsHExEQ4xs7ODjExMXj79i0iIyORnJwMOzs74fGCBQuidu3aCA8PB4AcOQcRERGRIpPsd8k95s6dK/Q6rVu3Dubm5oiPj0eNGjWU9itRogQA4MWLF4iPjwcAlC5dWmWfly9fAkCOnENfJibq41xjY4nGx4mIiCj3+qGCrIEDB6J3797YsWMHRo8eje3bt+Pr168wMzNT2i9PnjwAgJSUFHz58gUARPf58OEDAOTIOfRhZCRBkSL51T5ubp5H4+NERESUe/1QQVa1atUAAJ6enrhx4wa2bt2KvHnzqkw+T0lJAQCYm5sjb968ADLnVcn/X75Pvnz5ACBHzqGPjAwZPn78rPbxz59TkJiYrPf5iYiIKGcVLJgPxsbajTLl+iDr7du3uHz5Mtq3bw9jY2MAgJGREapWrYqEhASUKlUKCQkJSsfI/12yZEmkpaUJ2ypUqKC0j5WVFQDkyDn0lZaWofax9HSZxseJiIgo98r1E34SEhIwefJkXL16VdiWmpqKe/fuoWrVqmjUqBGuXbuG9PR04fHLly+jcuXKsLS0hJWVFSwsLHDlyhXh8Y8fP+LevXto2LAhAOTIOYiIiIgU5fogy8rKCk2bNoWHhwciIiLw8OFDTJ8+HR8/fsSgQYPg7OyMpKQkzJ49G48ePcK+ffsQEhKC4cOHA8icR9W/f3/4+vrizJkziIyMxMSJE1GqVCk4OjoCQI6cg4iIiEiRRCaTyb53I7Lz6dMnLF26FKdPn8anT5/QsGFDzJgxQ0jrcOvWLXh5eeHevXsoXrw4XFxc0L9/f+H49PR0LFu2DPv27cPXr1/RqFEjuLm5oVy5csI+OXEOXaWnZ+DdO9U5V/36OQMAXF1Hwd6+td7nJyIiopxVtGh+redk/RBB1n8VgywiIqIfiy5BVq4fLiQiIiL6ETHIIiIiIjIABllEREREBsAgi4iIiMgAGGQRERERGQCDLCIiIiIDYJBFREREZAAMsoiIiIgMgEEWERERkQEwyCIiIiIyAAZZRERERAbAIIuIiIjIABhkERERERkAgywiIiIiA2CQRURERGQADLKIiIiIDIBBFhEREZEBMMgiIiIiMgAGWUREREQGwCCLiIiIyAAYZBEREREZAIMsIiIiIgNgkEVERERkAAyyiIiIiAyAQRYRERGRATDIIiIiIjIABllEREREBsAgi4iIiMgAGGQRERERGQCDLCIiIiIDYJBFREREZAAMsoiIiIgMgEEWERERkQEwyCIiIiIyAAZZRERERAbAIIuIiIjIABhkERERERkAgywiIiIiA2CQRURERGQADLKIiIiIDIBBFhEREZEBMMgiIiIiMgAGWUREREQGwCCLiIiIyAAYZBEREREZAIMsIiIiIgNgkEVERERkAAyyiIiIiAyAQRYRERGRATDIIiIiIjIABllEREREBsAgi4iIiMgAGGQRERERGQCDLCIiIiIDYJBFREREZAA/RJD1/v17uLm5oXnz5mjQoAH69u2LiIgI4fH79++jf//+sLW1hb29PQIDA5WOz8jIwMqVK9GsWTPY2NjAxcUFsbGxSvvkxDmIiIiI5H6IIGvSpEm4efMmli1bhj179qBOnToYMmQIoqOjkZiYiMGDB6NSpUrYu3cvxo4dixUrVmDv3r3C8WvXrkVoaCgWLFiAnTt3QiKRwNXVFVKpFABy5BxEREREiky+dwOyExsbi7CwMOzYsQMNGjQAAMyePRsXLlzAkSNHkDdvXpiZmcHd3R0mJiaoWrUqYmNjERAQAGdnZ0ilUgQFBWHq1Klo0aIFAMDPzw/NmjXDqVOn4OTkhF27dn3zOYiIiIgU5fqerCJFimDDhg2oW7eusE0ikUAmk+HDhw+IiIhAo0aNYGLyf/GinZ0dYmJi8PbtW0RGRiI5ORl2dnbC4wULFkTt2rURHh4OADlyDiIiIiJFub4nq2DBgkLvkdzx48fx9OlTNG3aFH5+fqhRo4bS4yVKlAAAvHjxAvHx8QCA0qVLq+zz8uVLAEB8fPw3n0NfJibq41xjY4nGx4mIiCj3yvVBVlbXrl3DrFmz0Lp1a7Rq1Qre3t4wMzNT2idPnjwAgJSUFHz58gUARPf58OEDAODr16/ffA59GBlJUKRIfrWPm5vn0fg4ERER5V4/VJB1+vRpTJkyBTY2Nli2bBkAIG/evCqTz1NSUgAA5ubmyJs3LwBAKpUK/y/fJ1++fDl2Dn1kZMjw8eNntY9//pyCxMRkvc9PREREOatgwXwwNtZulOmHCbK2bt0KLy8vODo6wtfXV+hVKlWqFBISEpT2lf+7ZMmSSEtLE7ZVqFBBaR8rK6scO4e+0tIy1D6Wni7T+DgRERHlXj/EhJ/t27fD09MT/fr1w/Lly5WG7Ro1aoRr164hPT1d2Hb58mVUrlwZlpaWsLKygoWFBa5cuSI8/vHjR9y7dw8NGzbMsXMQERERKcr1QVZMTAwWLlwIR0dHDB8+HG/fvsXr16/x+vVrfPr0Cc7OzkhKSsLs2bPx6NEj7Nu3DyEhIRg+fDiAzHlU/fv3h6+vL86cOYPIyEhMnDgRpUqVgqOjIwDkyDmIiIiIFOX64cI//vgDqampOHXqFE6dOqX0WLdu3bBo0SJs3LgRXl5e6NatG4oXL45p06ahW7duwn7jxo1DWloa5syZg69fv6JRo0YIDAwUesQsLS2/+RxEREREiiQymUz2vRvxvyo9PQPv3qlObO/XzxkA4Oo6Cvb2rf/tZhEREZEaRYvm13rie64fLiQiIiL6ETHIIiIiIjIABllEREREBsAgi4iIiMgA9F5d+O7dOwQGBuLSpUt4/fo1Nm7ciNOnT8PKygoODg452UYiIiKiH45ePVlxcXHo3Lkzdu3ahZIlS+Lt27dIT09HTEwMxo0bh3PnzuVwM4mIiIh+LHr1ZC1evBiWlpbYsmULzM3NUbduXQDA0qVLkZKSgvXr18Pe3j4n20lERET0Q9GrJ+vy5csYNWoUChYsCIlEovRY7969ERUVlSONIyIiIvpR6T3x3djYWHS7VCpVCbyIiIiI/tfoFWQ1bNgQGzZswOfPn4VtEokEGRkZ2LFjBxo0aJBjDSQiIiL6Eek1J2vy5Mno27cv2rRpg19++QUSiQSBgYGIjo5GbGwstm/fntPtJCIiIvqh6NWTVaNGDezZswe//PILrly5AmNjY1y6dAkVKlRAaGgoatWqldPtJCIiIvqh6J0nq3Llyli0aBFMTU0BAJ8/f4ZUKkXhwoVzqm1EREREPyy9erKkUinmzJmDXr16Cdtu3LiBpk2bwsvLC+np6TnWQCIiIqIfkV5B1sqVK3Hs2DF07dpV2FanTh1Mnz4d+/fvR0BAQE61j4iIiOiHpNdw4dGjRzF9+nT07t1b2FaoUCEMGDAARkZGCA4OxogRI3KskUREREQ/Gr16shITE1GuXDnRxypXroxXr159U6OIiIiIfnR6BVlVq1bFH3/8IfrYqVOnULFixW9qFBEREdGPTq/hQhcXF0yePBnv37+Hg4MDLC0t8e7dO5w+fRonT56Et7d3TreTiIiI6IeiV5Dl5OSET58+YfXq1Th58qSwvUiRIpg7d67ShHgiIiKi/0V658nq06cPevfujZiYGLx//x4FCxZElSpVYGSkdzlEIiIiov8MvYMsILNeYZUqVXKqLURERET/GVoHWbVq1cLOnTthbW0NKysrSCQStftKJBLcu3cvRxpIRERE9CPSOsgaPXo0SpYsCQAYM2aMwRpERERE9F+gdZClGFiVK1cOdnZ2KFWqlEEaRURERPSj02uWure3N+7cuZPTbSEiIiL6z9AryLK0tMTHjx9zui1ERERE/xl6rS7s1asX5s+fjytXrqB69eooVqyYyj7MlUVERET/y/QKshYtWgQAOHjwoOjjEomEQRYRERH9T9MryDpz5kxOt4OIiIjoP0WvIKts2bI53Q4iIiKi/xSdJr7v2rULHTp0gK2tLTp16oSdO3caql1EREREPzStg6y9e/fCzc0N6enpaNmyJYyNjeHu7o6VK1casn1EREREPySthwu3bduG9u3bY9myZUJJnYULF2LLli0YO3asxjI7RERERP9rtO7JiomJQc+ePZWCqQEDBuDTp0949uyZQRpHRERE9KPSOsj6+vUr8ufPr7RNXsswKSkpZ1tFRERE9IPTOsiSyWQqQ4LGxsYAgIyMjJxtFREREdEPTq+yOkRERESkmU55ss6fP4/Hjx8L/87IyIBEIsG5c+cQFRWltC8zvhMREdH/Mp2CrDVr1ohuX7VqldK/WVaHiIiI/tdpHWSxlA4RERGR9rQOshRL6YSHh6N27doqqw0B4OPHj/jrr79YeoeIiIj+p+k18f33339HdHS06GP37t3DzJkzv6lRRERERD86rXuypk+fjpcvXwLITOfg7u4OCwsLlf2ePHmCYsWK5VwLiYiIiH5AWvdktW3bFjKZDDKZTNgm/7f8PyMjI9ja2sLb29sgjSUiIiL6UWjdk9WqVSu0atUKQGY5HXd3d1StWtVgDSMiIiL6kemUwkFuy5YtOd0OIiIiov8UrYOs1q1bY82aNbCyskLr1q017iuRSHD69OlvbhwRERHRj0rrIOvnn38WUjY0atRIpY4hEREREf0frYMsxcnsixYtMkhjiIiIiP4r9JqTJffhwwd8+fIFGRkZKo+VKVPmW05NRERE9EPTK8h68uQJZsyYgZs3b6rd5/79+3o3ioiIiOhHp1eQ5enpiSdPnmDMmDEoVaoUjIz0ShxPRERE9J+lV5AVEREBLy8vdOzYMafbQ0RERPSfoFcXlIWFBQoVKpTTbSEiIiL6z9AryOrSpQu2bdumVGLn37J27VoMGDBAadv9+/fRv39/2Nrawt7eHoGBgUqPZ2RkYOXKlWjWrBlsbGzg4uKC2NjYHD8HERERkZxew4X58uXDtWvX4OjoiHr16iFv3rxKj0skEixcuDBHGqgoODgYK1euRKNGjYRtiYmJGDx4MBwcHODh4YEbN27Aw8MDhQsXhrOzM4DMwCw0NBTe3t4oWbIkfHx84OrqiiNHjsDMzCxHzkFERESkSK8ga//+/ShQoAAyMjJEVxjmdKLSV69eYfbs2bh27RoqV66s9NiuXbtgZmYGd3d3mJiYoGrVqoiNjUVAQACcnZ0hlUoRFBSEqVOnokWLFgAAPz8/NGvWDKdOnYKTk1OOnIOIiIhIkV5B1p9//pnT7dDo7t27KFSoEA4dOoQ1a9bg+fPnwmMRERFo1KgRTEz+76XY2dnB398fb9++xfPnz5GcnAw7Ozvh8YIFC6J27doIDw+Hk5NTjpyDiIiISJHWQdbMmTNFt0skEpibm6N48eKws7ODjY1NjjVOrlWrVmjVqpXoY/Hx8ahRo4bSthIlSgAAXrx4gfj4eABA6dKlVfZ5+fJljp1DXyYm6qfFGRtLND5OREREuZfWQdaVK1fUPiaVSpGYmIjly5fDyckJvr6+OdI4bXz9+lVlTlSePHkAACkpKfjy5QsAiO7z4cOHHDuHPoyMJChSJL/ax83N82h8nIiIiHIvrYOs7IYIpVIpTp8+jTlz5mDbtm3o16/fNzdOG3nz5oVUKlXalpKSAgAwNzcXJuVLpVKlCfopKSnIly9fjp1DHxkZMnz8+Fnt458/pyAxMVnv8xMREVHOKlgwH4yNtRtl+qbahYrMzMzQoUMHxMTEYO/evf9akFWqVCkkJCQobZP/u2TJkkhLSxO2VahQQWkfKyurHDuHvtLSVOs+yqWnyzQ+TkRERLlXjk/4adCgAZ4+fZrTp1WrUaNGuHbtGtLT04Vtly9fRuXKlWFpaQkrKytYWFgoDXd+/PgR9+7dQ8OGDXPsHERERESKcjzIMjY2VgpWDM3Z2RlJSUmYPXs2Hj16hH379iEkJATDhw8HkNnD1r9/f/j6+uLMmTOIjIzExIkTUapUKTg6OubYOYiIiIgU5dhwodzdu3dRpkyZnD6tWpaWlti4cSO8vLzQrVs3FC9eHNOmTUO3bt2EfcaNG4e0tDTMmTMHX79+RaNGjRAYGChMZM+JcxAREREpkshysDbO7du3MWzYMPTq1QsTJ07MqdP+Z6WnZ+DdO9WJ7f36ZWaZd3UdBXv71v92s4iIiEiNokXz5/zE999//13tY1KpFAkJCXj58iVq166NkSNHantaIiIiov8krYMsdR1eEokEhQsXRrVq1fDzzz+jQ4cOSpnTiYiIiP4XaR0NbdmyxZDtICIiIvpPYc0WIiIiIgNgkEVERERkAAyyiIiIiAyAQRYRERGRATDIIiIiIjIABllEREREBsAgi4iIiMgAGGQRERERGQCDLCIiIiIDYJBFREREZAAMsoiIiIgMgEEWERERkQEwyCIiIiIyAAZZRERERAbAIIuIiIjIABhkERERERkAgywiIiIiA2CQRURERGQADLKIiIiIDIBBFhEREZEBMMgiIiIiMgAGWUREREQGwCCLiIiIyAAYZBEREREZAIMsIiIiIgNgkEVERERkAAyyiIiIiAyAQRYRERGRATDI+o/4+vUL4uNffO9mEBER0f/HIOs/wtfXG5Mnj8Xz58++d1OIiIgIDLL+M+7fvwsAuHLl0nduCRFR7hAT8xiennMRFfXwezeF/kcxyCIiov+kgIC1iIy8h3XrVnzvptD/KAZZRET0nxQbGwMAePUq/ju3hP5XMcgiIiIiMgAGWUREREQGwCCLiIiIyAAYZBEREREZAIMsIiIiIgNgkEVERD+E5OTk790EIp0wyCIiolzvzJmTGDbsd1y+HPa9m0KkNQZZRESU6wUF+QMAAgPXf+eWEGmPQRYREf0wvnz5/L2bQKQ1BllEREREBsAgi/4zZDIZ3r17+72bQUREBIBBFv2HnDhxFGPHDsOFC2e/d1OIiIgYZNF/x9atmwAAmzZtMOjzPH/+DJ6ec3H37m2DPg8REf3YGGTRf45UKjXo+UNCNiIy8h5Wrlxq0OchIqIfG4MsIh3FxEQDAJKSPn3nlhARUW7GIIsol/r8+TO2bAlCVNTD790UIiLSA4Msolzq2LFDOHHiKFas8PneTSEiIj0wyCLKpeQ9WImJ775zS4iISB8MsijXkslk37sJREREemOQpYOMjAysXLkSzZo1g42NDVxcXBAbG/u9m5XrffnyBffu3UFGRrrWx/z11zmMGDEIDx9GGqxdRET/C3jD+v0wyNLB2rVrERoaigULFmDnzp2QSCRwdXU1eMqAH92mTRvg5TUPYWF/aX3M+vWrkJSUhE2bAgzYMiKi/7aPHz9g7Nhh2LYt5Hs35X8SgywtSaVSBAUFYezYsWjRogWsrKzg5+eHV69e4dSpUwZ5zqSkJJ2P+fxZ++Kply5dxIoVPoiPf6n1MW/fvsXdu7fx9q325WvCwi4AAI4cOaD1MXLv3r3R+Rhd6PN6MjIy/pXnSU3VPXh/8+YNTp48hmfPnhq0bbn9mMuXwxAd/UjrY/R9ruvXI7B//55c+z7oesybN28QEXElV7bt35Kb/z76HHP48EEkJr7DsWOHcl3b/s3Pzvf6nJrofeT/mMjISCQnJ8POzk7YVrBgQdSuXRvh4eFwcnLKkec5d+608P+hoVthYZEf9vYOWh9z4sQRlCtXTqtjAgLWAQDCw69g6NARWh0TGOiPjIwMGBkZYciQ4Tq17fnzZzh37rROxyQnJ+t8jPzfhno9X79+/VeeR3GoVNfnkUgkBv2b/gjHAICLyzC0bt1W4zHf8lzy79C+fTtz7fugyzEbN66HTCbLlW3L+u/cdE3IzcccP35I6d+5qW3/xjH/9nNlxSBLS/Hx8QCA0qVLK20vUaIEXr7UvicoKxOT/+tMfPv2DQID/dG+fXv06NEDe/bsQVDQBtSv3wCWlsVEj9fnmFev4rFx43qtj3n2LA7BwYG4c+cW2rVrJxyzceN6PH4cjQEDBiFfvnwqx7158/pfeT26HvPmzRts2bIJV65cVnk9N2/+gwEDBqNEiRI50rbY2CfYuHG9yvOUKVMGtWvX1fh6FI/R9j1o27atcExgoD9sbOqjePHiKvu/e/cOmzYFIDz8ikrbrly5hJ9++hlt2rSFkZExgMxe1TlzpuHLly/48OGDyjEXL17A/ft30aVLN/Tp0w9GRsaQyWS4ceM6jh07gtu3b6oc8/ffl1CgQAF0794T5ctXENoWH/8SS5cuQVxcrMoxu3fvQKVKVTBixGgUKVI02/cgOHgjfvqpIYoVU30PZDIZ7t69gxMnjiIi4qrKc5mYmKB5c3sYGal2+OvzWbh166bKZ0HT3wgA7t69reYYWxQvrvoZBYCXL19g40Z/tGun/FnQ5vOjy2fuwYNI0bbVqVMXpUuX0fg8yp/T739NUN82zX+fZ8/iRL/f5ctXRM2aNZX2ffHiOf788xRiYmJw9+5tlWMuXw5DwYIF0by5PWxtG0AikWjRNvWfA13+phkZGbh2LRwnT54Q/a5euXIJlpbF0bFjZ5QrV17p2NevE0TfA2NjI7RsqRyUPHgQiWPHDuPz589qn8fMLA/Mzc3RsWMXVKxYSeN7sHGjv8ZrKfB/v0OKx2X3Wfjjj+PYtClA5bNdr541SpYspfa5RMlIKwcOHJDVqFFDlp6errR96tSpsoEDB+p1zoyMDKV///PPPzJHR0fZ06dPZTKZTPb06VOZo6Oj7MaNG2rPoc8xa9euFT3mn3/+Udk3LS1N5uTkJHN0dBQ9xtHRUbZ69WrR5zl27JjWz/NvvgfDhw/X+HoGDRqUY22bOHGi6DFdunRR+fsb4j3YvXu36P5jxozR+B44OjrKzpw5I7q/pmMcHR1l586dU2pTdse0bdtW9vnzZ5lMlvmd6NOnT7bHjBs3Tuv34PDhw6LvwZ07d7Jt34ULF3R6v9X9jb58+SJr166d6DFbt24VPUYqlco6dOggeoy/v7/oMTKZTObh4SF6TFhYmNpjwsLCdP7M/fbbb6LHeHh4qD3m9OnTosdcv35d7TH/1nVx//79oscEBASoPWbOnDmix/Tt21dpv/T0dFn37t21/g5duXJF6fjr16/r3DZd3oNTp07p/F2VW7NmjdpjHj58KOwXFRWl8jo1vQeOjo6y9+/fZ/sedOrUSe17IJPJZCEhITp9FhSvC1mPWbNmjcbnEsM5WVrKmzcvANW6eCkpKaK9ONrIyJAhMTFZ+M/CogiMjIywZ88exMXFYc+ePTA2Nkb+/IWV9vvWY2xtGwKA0jFGRkawsCiisu/Hj1/h5NRZaLPiMfI7rfr1fxZ9nooVq0EikWj1PP/me9CqVRuNr8fRsV2Ota1ZM3vR52ndug3ev/+co++BRGKk8jzVq9cW3b9lS0eN74GpqRnKl68i7N+pUzelz67YMXJly1ZCYmIyihQpibp1rbM9xtGxLT5/TkNiYjLev/+Mdu2csj2mZUsHrd43iUSCSpWqi74HRYuWRLVq1dU+V5EiRVGuXJUc+Rt9/pwGe/vWos9jZVVX9JikJClat3YUPaZevQZqPwu//NJU5BgjFCtWRu0xxYuXEf2uavrMtWrlINq2X35pqvaYsmUriz5PgQJFv+s1ITExGdWq1VJpm0QigbX1T2qPsbMTe68laNXKUWm/Dx++oH37jlp9hypXroJSpcorHV+gQFHRttWpY5sj70HlyjVgamqabdscHNoI31X5fzY2P6n5XNeCuXkhYb/8+YugSpVqWl9HmjZtjrQ0SZZrnOp70Ly5vdr3IDExGXXr2qocp+mzULCgJRo2/EW0fdbWmd+79HTt5+VKZDKu7dTGrVu30LNnT5w6dQoVKvzf0Ebfvn1hZWWFefPm6XzO9PQMvHuXrLRN33kRQUEbkJ6eDmNjY7i4DOMxPIbHaHlMbm8fj+ExPEb/YwzxXEWL5oexsXZ9VAyytCSVStG4cWPMmDEDPXv2BAB8/PgRzZo1w8KFC/Wa+C4WZAFAv37OAIC+fX9Hx45dtDrX27dv8erVS5QsWRqWlpY8hsfwGB2Oye3t4zE8hsfof0xOPxeDLAPx8/NDaGgoFi5ciLJly8LHxwfPnj3D4cOHYWZmpvP5sguyXF1HCUMMRERE9P3pEmRxdaEOxo0bh7S0NMyZMwdfv35Fo0aNEBgYqFeARURERP9tDLJ0YGxsjKlTp2Lq1KnfuylERESUy3F1IREREZEBMMgiIiIiMgAGWUREREQGwCCLiIiIyAAYZBEREREZAIMsIiIiIgNgkEVERERkAAyyiIiIiAyAQRYRERGRATDIIiIiIjIABllEREREBsAgi4iIiMgAGGQRERERGQCDLCIiIiIDYJBFREREZAAMsoiIiIgMgEEWERERkQEwyCIiIiIyAAZZRERERAbAIIuIiIjIABhkERERERkAgywiIiIiA2CQRURERGQADLKIiIiIDIBBFhEREZEBMMgiIiIiMgAGWUREREQGwCCLiIiIyAAYZBEREREZAIMsIiIiIgNgkEVERERkAAyyiIiIiAyAQRYRERGRATDIIiIiIjIABllEREREBsAgi4iIiMgAGGQRERERGQCDLCIiIiIDYJBFREREZAAMsoiIiIgMgEEWERERkQEwyCIiIiIyAAZZRERERAbAIIuIiIjIABhkERERERkAgywiIiIiA2CQRURERGQADLKIiIiIDIBBFhEREZEBMMgiIiIiMgAGWUREREQGwCCLiIiIyAAYZBEREREZAIMsIiIiIgNgkEVERERkAD9UkDV79mzMmDFDZfvly5fRvXt3WFtbo02bNjhw4IDS4ykpKfDw8EDjxo1Rv359jBs3Dm/fvs3xcxARERHJ/RBBVnp6OhYvXow9e/aoPBYdHY3hw4ejRYsWOHDgAHr37o1Zs2bh8uXLwj7u7u4ICwvDqlWrEBISgri4OIwfPz5Hz0FERESkyOR7NyA70dHRmDlzJuLi4lCmTBmVx0NCQmBlZSUEPFWqVMG9e/ewceNGNG7cGK9evcKBAwfg7++Phg0bAgCWLVuGdu3a4caNG7C1tc2RcxAREREpyvU9WVevXkWtWrVw5MgRlCtXTuXxiIgI2NnZKW2zs7PDtWvXIJPJcO3aNQDAL7/8IjxeuXJllCxZEuHh4Tl2DiIiIiJFub4nq2/fvhofj4+PR6lSpZS2lShRAl++fEFiYiJevXqFIkWKIE+ePCr7vHz5MsfOoS8TE/VxrrGxROPjRERElHt91yDr2bNnaN26tdrHL168iOLFi2s8x9evX2FmZqa0Tf5vqVSKL1++qDwOAHny5EFKSkqOnUMfRkYSFCmSX+3j5uZ5ND5OREREudd3DbJKliyJY8eOqX28aNGi2Z4jT548kEqlStvk/86XLx/y5s2r8jiQuVowX758OXYOfWRkyPDx42e1j3/+nILExGS9z09EREQ5q2DBfDA21m6U6bsGWaampqhateo3naN06dJISEhQ2paQkABzc3MUKFAApUqVwvv37yGVSpV6oxISEoQhwpw4h77S0jLUPpaeLtP4OBEREeVeP/yEn4YNG+Lq1atK2y5fvowGDRrAyMgIP/30EzIyMoTJ6wDw+PFjvHr1SlgpmBPnICIiIlL0wwdZAwYMwK1bt+Dr64vo6GgEBQXhjz/+wNChQwFkDkk6OTlhzpw5uHLlCm7duoXJkyfj559/FlIv5MQ5iIiIiBT98EFW9erVsXbtWpw/fx5du3bF7t274ePjg8aNGwv7eHp6onHjxhgzZgyGDBmCKlWqYOXKlTl6DiIiIiJFEplMJvvejfhflZ6egXfvVCe29+vnDABwdR0Fe3v1qy+JiIjo31W0aH6tJ77/8D1Z/2XGxsbfuwlERESkJwZZuVCLFq1QvHgJNGpkl/3ORERElCtxuPA7UjdcCAAymQwSieRfbhERERFpwuHC/wAGWERERD82BllEREREBsAgi4iIiMgAGGQRERERGQCDLCIiIiIDYJBFREREZAAMsoiIiIgMgEEWERERkQEwyCIiIiIyAAZZRERERAbAIIuIiIjIABhkERERERkAgywiIiIiA5DIZDLZ927E/yqZTIaMDL79REREPwojIwkkEolW+zLIIiIiIjIADhcSERERGQCDLCIiIiIDYJBFREREZAAMsoiIiIgMgEEWERERkQEwyCIiIiIyAAZZRERERAbAIIuIiIjIABhkERERERkAgywiIiIiA2CQRURERGQADLKIiIiIDIBBFhEREZEBMMgiIiL6QaSkpHzvJpAOJDKZTPa9G/G/TiqVYvfu3YiKihL9Anl7e3+HVhH9mFJTUxEZGYkqVaogf/7837s5pKcDBw6ofczMzAwlS5aEra0tjI2N/71GKbh+/ToqVaqEokWL4sCBAzh+/DgaNGiAYcOGQSKR5MhzfPnyBfPmzUPlypUxcuRIAECLFi3QrFkzuLm5wczMLEeeJzdbvHgxunfvjurVq3/vpujF5Hs3gICZM2fi5MmTqF27tkG/NFKpFDt37sSDBw+Qnp6utP327ds4efJkjj3Xj/7FoJxz7do1XLt2Dampqch6TzdmzJhvPv/Lly8xe/ZsTJgwATVr1oSzszMePXqEQoUKITg4GLVq1frm55CTSqUICgpC+/btUbFiRcyePRvHjh1DgwYN4OvriyJFiqg99s2bN6LvQZkyZUSf59/6rv7bwsPDER0djY4dOyI+Ph4VK1aEqampyn5r167Fs2fPkJGRgQIFCgAAPn36BIlEIryHlStXxqZNm1CqVCmlY8+fP4+NGzciJiYGO3fuxN69e1GhQgV07do1R15DaGgoPDw8EBQUBEtLS8ycORONGzfGpk2bkJqaKvq51udv6u3tjZs3b6JXr17Ctjlz5sDX1xd+fn6YPn262jZGRkbi4cOHyMjIAADIZDJIpVLcvHkTCxcu/JaXb1B///037OzshH9fu3YNwcHBqFOnDpydneHk5ISCBQvmirZpg0FWLnDu3Dn4+fnBwcFB52MjIyMREhKCmJgYrFixAqdPn0bVqlVFPwgLFy7Evn37UKdOHdy8eRP169dHbGws3r59i0GDBml8nsOHD6NRo0YoVaoU1q5dK/ywzJ49G3ny5FHZX58vxtatW9GpUycUKlRI434BAQEYMGAA8ubNK2xLSkqChYWF8O+PHz9i8uTJCAgIAAD8/vvvGs+paPPmzSrbnjx5Ag8PDyFYyOr+/fsAgNWrV2v9PDkRYMjpE9SeP38eDx8+FO091bVtX79+Vfp7yG3YsAHLli1DoUKFVHqVJBKJ0vO8ePFC6+dTDEy8vb3x6dMnFC1aFH/88QeeP3+O7du3Y8+ePfDx8UFQUJDa89y6dQvW1tYq2z98+ABPT0/4+voqbff19cXBgwfRrFkzhIWFYf/+/Rg3bhzOnj2LJUuWiPY637hxA9OnT8fTp0+VtstkMkgkEuGzo0iX76qmHp+scirI0EdSUhKGDh2KGzduQCKRoEmTJvD19cWTJ08QHBysEij17dsX+/btw9KlS1GjRg0AwOPHjzFt2jR0794dDg4OmDNnDnx8fLB06VLhuLCwMIwZMwZOTk64efMmMjIykJ6ejlmzZiE9PR3Ozs6i7Xv+/Dlu3rwJqVSq8ljW9y0kJARz5sxB48aNsWLFClSvXh1BQUG4cOEC3N3dRb8/+lx///zzT6xevRq2trbCNkdHRxQpUgQTJ05UG2Rt3rxZCKQUg1KJRIKGDRuKHqOL8PBwrfdt1KhRtvt8/PgR+/btQ2hoKGJjY5W+E7t27UJMTAwOHDiAgIAALFq0CK1bt0b37t3RpEmTbHsN09LS8PbtWyGwVQw2tfk+aGqbNhhk5QKFChVCxYoVdT7uzp07+O2332BjY4M7d+5AKpXi/v37WLhwIVavXo2WLVsq7X/69GksWrQIHTp0QJs2beDp6Yny5ctj4sSJooGD3Nq1a7F+/XoEBwfj5cuXWLlyJXr27IkrV67A19cXs2fPVjlGny9GQEAAlixZgpYtW8LZ2RnNmjUT3W/ZsmXo3r270o968+bNcfDgQZQvXx5A5t3hxYsXhcfLli0r/H9KSgqOHTuGWrVqwdbWFiYmJrh9+zZu376Nnj17ir4H8+bNw4sXLzBlyhThrlrMvn37lP798uVLmJqaonz58jAxMcHTp0+RmpqKunXrChfiVq1aaT28cObMGdHtuga1CxYswNatW1GsWDGV3tOswY/chw8fsG7dOqU7cZlMhtTUVERFReHatWsqx2zduhUjR47E+PHjs31turwPihe6v//+GyEhIShXrhz8/PzQvHlzNGjQAEWKFEH37t01nmfo0KHYtGkT6tSpI2w7ffo03N3dVXqcAODEiRNYtmwZ6tSpg/nz5+Pnn3/GiBEj0KRJEwwbNkz0ORYsWIBChQph9erVGj87inT5rs6YMUOrc0okEuFHxcrKSq/3Wu7Lly8IDg5W20MpdqOybNkyAMCpU6fQuXNnAMC0adMwZcoULFmyRHhcbtOmTVi+fLkQYAFAlSpVMGfOHIwfPx6//fYbJkyYABcXF6XjVq1ahcmTJ2PQoEH4448/AAATJ05EwYIFsWnTJtEga+/evXBzc1PqYZJTfN/knj17hlatWgHIDOqaN28OAKhWrRrevHmjcg5Av+tvcnKy6GemSJEi+PTpk+gxQOb3bvjw4Rg9ejRatmyJffv24f3795g8eTJat26ttK8+n4UBAwYoBW/qqLuJkLt58yZ27NiBEydO4OvXr6hYsSLmzp2rsl/lypUxceJETJw4EVevXsXJkycxduxYFCpUCN27d0fv3r1RsmRJleMuX76MqVOn4u3btyqP5c2bV2OQpW3bssMgKxcYOXIkFi1aBHd3dyFI0Iavry8GDx6MiRMnon79+gAyL+gFChQQDbLev38v3BHVqFED9+7dQ5UqVTB8+HBMmDABc+bMEX2evXv3YvHixWjQoAEWL14MW1tbeHp6IiIiAhMnThQNsgDdvxjnzp1DWFgYDhw4gHHjxqFAgQLo2rUrunXrhipVqgj7iX2xs/uyK/YwzJkzB4MGDVL5cVq+fDmio6NFj//nn38QEhIivM/q/Pnnn8L/h4SE4OzZs1i6dCksLS0BZN4VTZs2TemHo1u3bt88h0PXoPbw4cPw8PBA7969tX6O+fPnIywsDE2bNsWxY8fg5OSE6Oho3Lt3D5MmTRI95sOHD1r3nij+MD948ACrV6/GqFGjUL9+fZiamuLWrVtYs2YNRo0apXRcamqq0Pt5+fJlIaDLyMiAiYnmS1z37t3h4uKCkJAQlCpVCp6enjh69Cg6d+6MWbNmqez//v17VK1aFUDmj2uPHj0AZP7off36VfQ5Hjx4gF27duk0bKnLdzUyMlLr88otXLhQ+Ey8ePECGzZsQO/evZXe6+3btwvzgLLy8PDAsWPH0Lx5cxQvXlyr55R/FxSvcVWqVMG8efMwYsQIlf0/ffqk1DstlzdvXnz48AEAULBgQZWe2AcPHmDJkiUqx7Vp0wYrV64Ubdu6devQvXt3TJ8+XfQ5s7K0tERCQgJMTU1x584dTJw4EUDm36JYsWKix+hz/a1fvz78/f3h7e0tzD2TyWQICQlBvXr11LbvxYsX6NGjB8zMzGBlZYXbt2/DwcEBM2bMwKJFi5R6zvT5LKi72dPG58+fcejQIYSGhuLBgwdCsDZ//nz07NlT47Xw1q1bOHnypDC02qhRI1y7dg2BgYHw9PQUgne5ZcuWoW7duhgwYADGjBkDX19fvHjxAitXrhTtdf6WtqnDICsXqFGjBnx9fdGmTRvRx9XdCdy5cwfz5s1T2d63b1+EhoaqbC9WrBjevn2LMmXKoEKFCnj48CGAzB8IdXdfAJCQkCAEF5cuXYKjoyMAoHTp0vj48aPmFwftvxgSiQRNmzZF06ZNkZycLBzTvXt3WFlZoWfPnnBycsr2+bJz9OhR7N+/X2V7165d1QYERYoU0XkS9YYNGxAYGCgEWEDmj8KkSZMwYMAAITAZO3asTudVR5eg1sTEBD///LNO57948SKWLFmCFi1aIDIyEkOGDIGVlRXmzp2LR48eiR7z008/4fbt21r11Cq2Z9GiRViwYIHwWQOAWrVqoUSJEliyZAn69OkjbK9duzZ2796NEiVKIDExES1atIBUKkVAQACsrKw0PueMGTNgYmKCQYMGwcTEBHny5MHGjRvRtGlT0f0rVKiA27dv4927d4iNjUWzZs0AZPZSlCtXTvSY0qVLa+wpFqPvd1XuxYsXiI6ORqNGjZCcnKz0GQSg1MM3YMAAzJ07VwgYAcDBwQHVqlVDSEgIhgwZonL+U6dOYfHixWjfvr3Wr+ndu3eiAZmFhQW+fPmisr1hw4bw8fHBsmXLhN6cjx8/YtmyZcL16OTJk6hcubLScQUKFMCrV69QoUIFpe1RUVFqpyIkJCTAxcVFqwALAJycnDBlyhTky5cPpUqVws8//4xjx47B09NT6X1UpM/fVH6tiIiIQJ06dSCRSHD37l28f/9e4zB4/vz5kZaWBgCoVKkSHj16BAcHB1StWhXPnz9X2lefz4LiyIC2IiMjERoaikOHDuHz58+wtbXFrFmz0K5dO9jb26NBgwaiQczLly9x8OBBHDx4EDExMbCxscGYMWPQoUMH4e+1atUqLFy4UCXIevDgAXbv3o2aNWuidu3aMDc3x4ABA2Bubo7AwEBhio6+bdMGg6xcYM6cOahYsSK6du2KfPnyaX2cqakpkpKSVLa/ePFC9DwtWrTAvHnz4O3tjQYNGsDLywuOjo44duyYynwIRaVKlUJMTAykUikePHgAd3d3AEBERITa477liwFk3lF8+PABiYmJkEqlMDIygr+/v8qQgj4KFiyIe/fuoVKlSkrbIyIiVH6M5AYMGIBly5bBx8dH6yEfqVSKz58/q2wX67pW9K0TVrUJavv3749169ZhwYIFWi+2SE5OFnrgqlatisjISFhZWaF///5qh8rat2+P+fPn486dO6hSpYrKc6kLaqOjo1GtWjWV7RUqVMDLly+Vtk2fPh0jRoxAYmIiXF1dUapUKbi7u+P06dMIDAzM9nVNmTIFpqam8Pf3x44dO2BjY6N236FDh2LSpEkwMjKCnZ0drKyssGbNGqxZs0bt32bUqFFYuHAhPDw8UKVKFdFJ3lnp+12VSqWYPn06jh8/DiMjI/zxxx9YvHgxPn36pHa48tatW1iwYIHKdmtra7XBs5GREWrXrp3t61BUr149HDt2DMOHD1favnnzZtFzubm5YeDAgWjevDkqV64MmUyGJ0+eoEiRIti4cSPCwsKwdOlS+Pn5KR3XqVMneHl5wcvLCxKJBMnJyTh//jw8PT3RoUMH0bZZWVkhNjZWJWBTZ/LkyShVqhTi4uLQr18/GBsb4+3bt+jVqxfGjRsneow+f9O6devi8OHD2LVrFx4+fAgTExN07NgR/fr1Q4kSJdS2r2HDhli/fj3c3NxgZWWFXbt2YdiwYYiIiNB4s6jtZ6F169bYs2cPihQpku0wv7zXq2vXrqhSpQrGjh2LNm3aaB2otWrVCpaWlujUqRNWr14t9CQrql27tsr1HACMjY2F35tKlSrh4cOHaNy4Mezs7LB48WJhP33bpg0GWblAbGwsDh48qPUXXM7BwUHlIhMdHQ0vLy/Y29ur7D9lyhRMnz4dERER+O2337Br1y707NkTJiYmSh+4rPr06YPx48cjT548qFmzJurXr49t27bBx8dHbS+MPl+MlJQUnDx5EgcPHsTly5dRrFgxdO3aFUuWLBHuSj08PLB9+3Yt3yFxvXv3hpubG6Kjo1G3bl3IZDJcu3YN27Ztw9SpU0WPOX/+PG7cuIFffvkFlpaWKsGCWPd5q1atMHfuXLi5uSk9j6enJzp16iT6PPpOWNU1qG3fvj169+6Nn376CcWLF1e5SIq9ntKlS+P58+coXbo0KlWqJAxT5cuXTxi+yUo+hyE4OFjlMbG5LnI1a9bE5s2b4ebmJrQtLS0N/v7+KsMk1tbWCAsLw6dPn4R5aAMHDsT48eNFV/upWwRhYmKC4cOHKw3lZp1b1LVrV1hZWeHZs2fCPJx69eph48aN+PXXX0XPu3LlSiQkJKh9rWI91fp+V9etWycshpEPwf3++++YNWsWfHx8MH/+fJVjKlSogCNHjmD06NFK23fu3Cka6AKZQ2/79+/HhAkT1LYlq0mTJmHw4MH4559/kJaWhnXr1uHRo0e4d++eaDBcvnx5HDt2DEePHsX9+/dhbGyM33//HU5OTjAzM0OePHlw+PBhpakEADBhwgTEx8cLc6+6desGmUwGe3t7YVgvKxcXF3h4eCAuLk70ZiDr5G0jIyMMGDBAaVvWf2el79+0XLlyaofj1ZkwYQIGDx6MHTt2oG/fvli3bh1+/vlnfPnyRbRnUk7bz0K3bt2EObHaTnewtbXFjRs3sHv3brx48QJt27bVahL+qlWr0LJlS9FUHW/evEGxYsXQunVrlblmQGbwfOrUKQwaNAiVK1fGtWvXMHDgQMTHx+dI27TBPFm5gLOzM6ZOnarz0lD5ap2bN29CJpOhQIEC+PTpE2rVqoVNmzahcOHC2Z7j3r17KFasmMa7IiBzrlFcXBw6d+6MIkWK4NChQ0hJSVE7Ufz06dNqvxjqNGjQAGlpabC3txcmvhsZKefLlQ+BXb58GUWLFlU6VnHi+5s3b9CsWTO1Q63+/v7YunUrXr9+DSAzgHB1dcVvv/0mun92qwbFJoonJSVh/PjxCAsLEy5CMpkM7dq1w5IlS0R7kNq0aYP27duLTljt0aOH2lVItWrVEoLaHj16iAa1Z86cQUBAAEJDQ9GnTx+8ffsWbdq0Ee31FHs9S5cuxdGjR7FkyRKkpqZiwoQJ8PDwwOnTpxEVFYWDBw9qfI90ERERgSFDhqB48eKoXbs2ZDIZbt++jS9fviAkJCTbYUBNZs6cqfW+OZGjTmxoWlG3bt20Oo8239U2bdrA3d0dv/76K+rXr49Dhw6hfPnywgRgxcUgcqdOncK4cePw008/oV69epDJZLh+/Tru37+PgIAA0evS4sWLsW3bNlStWlU0KFH3vkVGRiIoKAj37t1DRkYGqlevDhcXF429h7p68uQJKlWqhKdPnwrPU6NGDbUBIwCNnyd1k7fPnz+PwMBAPH78WO80EWJ/05kzZ2L27NmwsLDI9rOq6fP59etXfP78GUWLFsXbt29x6NAhlC5dGu3atVN7jD6fBXUyMjIQHx+vtBL4yZMn2LNnDw4dOoTXr1+jRIkSaNeuHbZu3YpDhw6JXrdq1aqFsLAwpes9kLn4oFOnTvjnn3/UtuHPP//EmDFjMGfOHLRs2RJt27aFnZ0dHjx4ABsbG6U5evq0TRsMsnKB8+fPY8GCBRg8eDAqV66sMlk3uyWwly9fVrqYKAYn4eHhqF+/PkxMTLJddqvNUltdfPnyBQ8fPhRdfST2XCEhIUIQp05aWhrq1q2rcuckXw6fVXbLbRMTEwFA43N+q8ePHyMqKgpAZu+dpsUNdevWxfHjx1G+fHkMGTIEffv2hYODAy5evIhFixbhyJEjosfpGtRaW1tj165dOgUrUqkUPj4+sLa2RqdOneDu7o7Q0FAUKFAAK1euROPGjbU+F5A5rC2WI0ouLi4Ou3btEt67WrVqoW/fvihRosQ3r46TO3ToEJo3b67VDQmQfSoQsVV12sqJ76qNjQ2OHj2KcuXKKQVZT548QefOnXHr1i3R465fv46tW7cqvdcuLi5qPx/Z9dps2bJFdPv79+/x/v17oQf72LFjaNy4sej37+3bt/Dz81O7glHd5OumTZti7dq1oqk51Mk6TymrrMNHYWFhGDFiBJycnITetj179iAgIACenp5CL5o+f9MBAwZgzZo1KFiwoN7v87fQ9bPg4OCAMWPGqASXmm50MzIycOHCBezbtw9nz55FamoqatSogQEDBqBz5844fPgwDh06BAC4evWqMAlfUUJCAr58+YLz589rfD13796FsbExrKysEB4ejqCgIJQuXRrjx48XnaOXXdvEUhZpwiArF9DnLkpuz549MDc3F+YajBkzBo6OjujSpYtw7rCwMFhaWgo/TGJ/8qzP8613++fOncPUqVORlJSk8nzZvaaspFIpbt26JXTfZtczoEhdL4E2OXFWr16NIUOGIF++fBp7siQSiUr3uiJdklD+8ssvCA0NReXKleHp6YnixYtjxIgRePnyJTp06KB016ZvXikgc+Kut7e3Tj9EYt6/f48CBQqoDe6ePXuGxYsXq6R9kEqlePfuHe7du6fX8+7bt0/rFVGahkd+/vln7NixQ+u71Kzfi9TUVDx9+hQPHz7EoEGD1A6fadPrkfW7qo6m70/37t3Rp08f9OrVSynIWr16Nf7880+VFCP/plu3bsHV1VVYxQcALVu2RGpqKoKCgpSGaQFg9OjRiIiIQNeuXUXnkqnL5daqVSusXr1a5zljQGbv8+PHj4W0K+omwvfp0wft2rXDoEGDlN7nwMBA7N+/X7gZ0vf6q4+cSAWjDysrK5iYmMDFxUVpWPPNmzdo2rRptqtfExMTcejQIezfvx+RkZEoVKiQMJcQyLzet2/fXiUPX/78+dG1a1fUrVtX7bkVr+GKkpKSsGLFCrUr4zW17cqVKxqPyYpzsnIBfT/wwcHBWL58uVLujjJlymDevHmQSqXo2bMnzpw5I9wl6vI8z549E/5fJpMhIiICxYoVQ+3atWFiYoLIyEi8evVKdBwcyEwv0bBhQ4wfP17rieL379/H7Nmz8eDBA2HSd9bHAe2HV9TdP2ibE2ffvn3o168f8uXLp/HHSV2QpU8SSl0mrGpzUVX3XG5ubnB3d8f48eNFe0/lQdmBAwfQoUMHmJmZZZv0UmyYZMGCBYiJiUH79u0RGBgIFxcXxMTE4NSpU6Lzg+R0ycOkz+o4uUqVKuHBgwdaB1nqhmdWrlypdkGDYnLMGzduqE2OeebMGWFI5NSpUypD5doYO3YsJkyYgIcPHyI9PR379+/H48ePcfLkSZUJ4nIZGRk4cuSI2vda/pq17ZVRN39wyZIlaNOmjdK8qFOnTsHNzQ2LFi1SWS0XFhaGNWvWoEmTJlq/fgDo3Lkzhg4dii5duqBixYoqP85in1OZTIYlS5Zg69atSEtLg0wmg5mZGXr37o1Zs2apfM+0TROh+DfV9vqr782T4tyoDx8+YNu2bWjZsqXwN5Nnlc+aVywrfYZBly5dCnd3d8TExMDHx0d4z7UJ+ooUKYKBAwdi4MCBuHv3Lvbv34/ChQsrfdfkw6faiI6Oxrt37wAAa9asgZWVlUqP1cOHD7Fr165sgyyxtumKPVm5iLZ3UXKOjo6YPHmyyhj70aNHsWrVKpw4cSJH2rVs2TI8f/4c3t7ewtyL9PR0YVKy2GqUevXqYf/+/RrnQWQ1YMAApKSkoEePHliwYAFmzJiBp0+fYtu2bViyZInKcvGoqCgYGRmJ/kBGRkZi9uzZ2Lt3r8pjDg4OaNy4sdY5cfTVo0cPGBkZYfjw4aKBplgKhaioKAwePBiDBg1C37590alTJ3z8+FGYsKp4p3j16lWt25L1uerUqSMEmYoXwqxB2bf2rjRs2BDr1q1Do0aN0K1bN3h4eMDa2hp+fn549OgR1qxZI3q+GTNmCHmYxN47xQuwjY0NDh06pJIm4smTJ+jSpQtu3ryptt2zZ8/G/v37YWVlhUqVKqkMBWg7JysuLg7Ozs6ifxNtez0Ude/eHQsXLtRr7tmFCxfg7++vNO/J1dUVbdu2Fd3f29sbmzdvhpWVlej3QT4k9a29MoqvXdGTJ0/QvXt3XL9+XWn7r7/+iq1bt6pMbM+OPp9Tf39/BAYGYty4cWjYsCEyMjIQHh6ONWvWYNiwYRg6dKjS/s2bN8fSpUvRqFEjpdf1559/wt3dHRcuXFDbhpSUFMTExMDMzAzly5dXGQbTZihc040akNkLaGtrC1dXV6XtW7ZswenTpxESEiJ6nLbDoFnbGxYWhuTkZAwbNgzm5uZYt24dTE1N0aRJE5U2JiUlwdzcXLiJiIqKwsWLF1GsWDG0bdsWZmZmePHiBUqXLg2JRJJt0Jm1l/7cuXMYMWKE0jxYMc7OzvDy8tK5bbpiT1YuoOtdlFxCQoJol7i1tbXwwfzWcjJAZp2uHTt2KH3AjI2NMWTIECEgyqpSpUrC3YS27ty5g5CQEFhbW2Pv3r2oUaMGfvvtN5QqVQq7du0Sgqznz59j5MiRwpwBa2tr+Pv7o3DhwkhNTcWqVasQFBSUYzlxNMk6lKlInySU1atXx+nTp/H582fkz58fu3fvVjthVdc8V4o2bdqk1X6KXf36JL1MSUkR8kdVqVIFDx48gLW1Nbp27apxvokueZj0WR0n9/TpU/z0008AICyC0MejR4/UXsz1SY75/PlzmJub69WW5s2bCysftXHw4EHMmTMH/fr107ifPr0yiiwsLPD06VOVICs+Pl60JFPXrl0RGBiI+fPn67SARp/P6c6dOzFv3jylPHy1a9dG0aJFsWrVKpUgS580Eenp6Vi8eDFCQ0OFHsN8+fJh6NChGDVqlHCd/5Z5fXJhYWGYNm2ayvbmzZurlIpSpE+2fLkKFSpg165dGD16NJydnZVKHQGZ82nd3Nxw4MABHD16FJUrV8aZM2cwfvx4GBsbw8TEBBs2bMCWLVvQunVrXLx4EZaWlmp77NUFmvb29vjzzz+RkZEBBwcH7N69W2nSvEQigbm5udI8TF3apu38TTkGWbnAhg0bsHfvXkyfPl3lLqpkyZIqX3C5ypUr49SpUyrDIefOnRMuZDmR78PExAQvXrxQ6TGKjo5W+0MwdepUeHp6YuLEiaKrj8TmI2VkZAjJCitXroyHDx+iYcOGaN26Nfz9/YX95Hl/5D1r69atg4+PDyZNmgRXV1fcu3dPbcZuQPecOEDmKqA5c+ZkO5SpSJ8klEBmRmv5j46lpSUGDx6c7TG6Fp/9lgBNF+XLl8fDhw+FtA/y9ykjIwPJyclqj9MlD9O4ceMwbtw4XL58WXRFlCa6ThwWm6v46dMnhIWFqV21pU9yTFdXV8yePRtDhgxBhQoVVIIQTQsGdM2zlpKSIiRV1UTxWqLpuqIu833btm3h7u4u9GZKJBLcvn0b8+fPV0o6K/fmzRscP34cZ8+eRYUKFVSuIdkFI48fP8aDBw9gamqKqlWravy+v337VjSDuo2NjUpeNkBzmgh18/JWrlyJY8eOYe7cubC2tkZGRgYiIiKwevVqpKenC/m11H03k5KSYGpqqtXE6xIlSuDSpUsqvbunT5/W+LfT54ZAkTwYmzt3rko+tKCgIJw5cwbz5s1DmTJlkJ6eDg8PD5QtWxa7du1C3rx5MWbMGKxZswYhISHCd0OfoFP+/Thz5gzKlCmTbc+gLm3LbogxKwZZuYCud1FyQ4cOxbRp03D//n3Y2NgIF62jR48KvUs5sQS9Y8eOmD17NiZMmKCU72nVqlVqUx7Ik1Mq3qEBmru5q1SpgvDwcHTu3BkVK1bE7du3AWT+iClOUI+IiICXl5dQNqhq1ar4/fff8eTJEyQkJMDf3x8tWrRQ+3p0zYkDZL6PJiYmmDdvnuhQphh9klBqGiowNTVFqVKl0KVLF5X3Vdfis/osDY+JicH8+fOzLZKtqHv37pg2bRoWLVqEFi1aYMCAAShTpgzCwsJQs2ZNtc+vSx4mR0dHbNu2DVu3bhVSFNSqVQvz58/XarhNlwKyinMV5czMzDBkyBC1wbA+vR7y3obw8HCtvz+AfnnWmjVrhr/++ivbnixF+tSxnDx5MuLi4uDi4qL0mhwdHUV7XYyNjdGxY0et2yQnlUoxZcoUpRsLiUSCli1bYvny5aJDPpUqVUJYWJhKIHzx4kXRgNbU1BRLly7FuHHjcP/+faU0Eep6NHfv3g1vb2+la5O8ioGnp6faJKYhISHYtGkTXr16BYlEgnLlymHUqFEa50gNGTIEnp6euHHjhnDjce3aNZw6dUpjT5Y+NwTdunVTCvxMTEzg7e2NSpUqYefOncL2w4cPY/bs2ULy6atXryIhIQFz584Vzj148GDMmTNHKZDR9YYwu3Q7iuSLJ/RtmzYYZOUCut5FyXXs2BEmJiYIDg7GmTNnhDs2efI2Me/evUNMTIzoXa66FXJTpkzB169fMW/ePGE4M0+ePOjfv7/aY/S5++jfv7/wAW7Tpg26dOmCvHnz4vr160pV6D98+KA0BFezZk0kJyfj8+fPOHjwoNqs7XLyH+6s4/GA+jkb2g5lKtInCeXMmTOxbNky/Pbbb8Iw1s2bN7F161b06dMHhQoVwubNm2FmZqY030LX4rNZg4W0tDTExcUhOTlZ7Q+/u7u7VkWyFQ0dOhQmJiaQSCSwtrbGmDFjsG7dOpQuXRo+Pj5qjytYsCCCgoJw/vx5rfIwNWjQAA0aNNCqTYp0LSA7duxY2Nra6jQ3Q5/kmPoOGelSGFiuXr16WLJkCS5fvoyqVauq3AyIreLTp45lvnz54O/vjydPnuDBgwcwMTFB1apVRTN1A/rfIPr5+eHWrVvCXMD09HSEh4djwYIFwnBYVoMHD4abmxuePXsmlFCJiIhQm6C4devW2Lt3LypWrKjUW/Tq1St07txZdAWaVCoVLb1UtWpVtb26wcHBWLFiBX7//XfY2NgIvV/u7u5ISkpC//79RY/r3bs3LCwssGXLFpw8eRISiQS1atXC2rVrNd6A6nNDoO7vNHz4cAwcOFD4d1xcnFLt16tXr0IikSj1olasWFFl2F7XYuTarqCVSCTCZ1vftmmDQVYuoOtdlKJ27dppTC6n6OjRo5g1axZSUlKEu1z5HWXZsmXVBkxmZmaYP38+pk+fjpiYGACZFwZNJYD0GY5ydnZGoUKFULhwYVStWhWLFy+Gv78/SpcurbSCMj09XeWHwNTUFNOmTcs2wAL0m0+i7VCmIn1qEsr/RoqFmx0cHFClShXs2rULO3bsQPXq1bFkyRKlIEvX4rNiw2QymQzz5s1TmzNM2yLZWSn2pLm6uqpMxhVz584dIUFlQkKCxn21XR0nRtcCsuPGjUNgYCDq1KmT7WuQ09Troc7Vq1c1Lj1X9/3SpTCw3I4dO2BpaYl79+6ppNRQ/CFSpE8dSzkzMzOYm5sLdRU1iY+Px7Zt24SgrHr16ujdu7fG6+KRI0ewYMECpWDCwcEBxsbG8PDwEA2yunbtivfv32Pjxo1C9nlLS0uMGzdOCGSOHTuGv/76C0DmnLn58+erDN09f/5cbU90165dsWbNGixatEgpSA8MDFTbY7dp0yZ4enoqPS6vQbhu3Tq1QRaQmaZF11qv+twQaNuraWJionTDFx4ejlKlSin97r19+1Zlrqyuxcj//PNPnV7zt7RNq3PrfATlOF3vohRpk+9Jbv369ejYsSNcXV3Rq1cvBAUFISEhAR4eHtkGBF++fMGjR4+EH7E7d+4Ij4kNr+k6RwjITK3QsmVLYZKirhcJdQV6s9JnPom2Q5mKtE01oSgyMlI0q/JPP/0kFAOvXbu2Sg/ntxYUBjJ/UF1cXNCvXz/RC6o+RbKBzFQWW7ZswcOHD2FsbIw6depg0KBBqF69utpjdJkrtXjxYo2r4zTRtoCsnKWlJT59+qTTc8hl7fXIKieWnutSGFhOnx8lfepY6lpX8eHDh+jfvz/y5s0La2trpKenY9++fdi2bZtwsyEmKSlJ9H2uXLmyxsU4gwYNwqBBg/Du3TvIZDKVG7b69esjNDRUCOJfvHihdLMnn1CtWCJHceFReno6rl27hvDwcNSrVw/Gxsa4d+8e4uPj1fYyfvz4UTSg/+mnnwxSA1V+QzB+/Hits+Vr26tZp04dnD17FlWqVMGrV69w7do1lWLa+/btU5mLqU8x8uxkXbCkb9u0wSArF9DmLkqMtvme5J48eYIVK1agUqVKqFWrFt69e4dWrVohLS0N69evFxKYZqVPYlFd5wgBmd38bm5usLW1RevWreHo6CiaHV0ikehdER3Qbz6JtkOZWf3555+igebNmzdFl1GXK1cOZ8+eVXmP/vzzT6GI7NOnT1VKTOhbUDirN2/eiBa1BvQrki0va2FtbY1ff/0VGRkZuHHjBrp3745NmzZprA+m7VwpbVfHidG2gKxc06ZNMXz4cLRo0QIVK1ZU6cmQ9/rok5E+Li5Oaem5umSbmlZ46VsYWIymlbP61LHUta7ikiVLYGdnB19fX6HnJyUlBVOnToWvr6/aHuQaNWrgxIkTwnPIHTt2TOPk9+xuWEuXLi0MTQ0YMACrV69WO09JLusNXdbRiux6/Fu3bo0dO3aoLOLZv3+/xhWkuszNE0uXYGJiopSoWL5drAdR215NV1dXjBgxAteuXUNkZCSMjY2F4cQHDx5g586d2LlzJ9avX690fn2Kkctpu2BJ37Zpg0FWLpHdXZSYdevWCdmTtbmDz5Mnj3DnValSJURFRaF58+aoW7cuYmNj1R6nT2JRXecIAZlf1lu3buHChQs4duwYfHx8ULVqVaH4p/xLL5PJ4OzsrJSs8evXrxgwYIDKUm+xoUF95pNoO5SpyM/PD/7+/ihRogRev36NkiVL4s2bN0hPT1fbQzdy5EjMmDEDt2/fRv369ZGRkYGbN2/ijz/+gIeHB2JiYjBz5ky0adNG6Thdi8+KTQ799OkTjh49qjb5oz5Fsv38/DBkyBCVIZrFixfDx8dHaWKsIl3mSmm7Ok6MtgVk5U6dOgVLS0vcuXNHqTcXUB5aW7hwodYZ6eX0WXqelT6FgfVZOduuXTtMmzZNCIQmTJgAW1tbnD59Wm1v3dGjR+Hu7o5ffvlF2Pbzzz/D09MTU6dOVQmyrl27hp07dyp9zvLkyYNRo0ZpvPkcOXIkRo0ahcjISKWRAU2TvnW9YdXU06pYLkqfeWWKi1KkUim2bNmCiIgI/PTTTzA2Nsbdu3dx/fp1tXVjAd3m5rVq1UrIf6ZrugRA+17Npk2bYsOGDQgNDYW1tbXwnQMy3/9jx45h/vz5KnPG9ClGLqftgiV926YNBlnfSXZ1rB4/fiz8v7o6Zbrme7K2tkZoaCimTp2KatWq4ezZsxgyZAgePXqkceVbbGwsli9frlNiUV3nCCm2UT5B+sWLF1ixYgUCAgKwYcMG4Quu7g5fW/rOJ1EcOtJmKPPgwYOYO3cu+vXrB3t7e2zfvh3m5uYYPXq02vqFnTp1goWFBYKCgrBs2TKYmJigZs2aWLduHZo1a4bw8HB06tRJ5T0oUKAA1q5dK/x7w4YNQvFZsczhYpNDTU1N0axZM7WB5i+//KL0A6mNp0+fiva89O7dG9u3b1d7nC5zpfRZHSfn6uqKMWPGwMzMDE5OTli5ciWGDRuGBw8eiA7baju01r17d+H/dclIr+vS86xKly6tkmft8OHDKFWqlNq5m/qsnB07diy+fv2Kly9folOnTmjfvj0mTJiAggULYsWKFaLHiK1ak7f548ePKtvz588v2qukbnhezt7eHitXrsSGDRtw7tw5yGQy1KhRA8uWLVP7Huh6w/r8+XMsWrRI53JR2iw8yrooRd7zpJj/q0GDBkq/EVnpMjdv2bJl35QuQZdezV9//RW//vqryjkmTZqEmTNnin7edV0Eo0iXBUvq2jZx4kTMnDkTX758wcKFC9WmBlKHQdZ3MmDAAJXJ5wCUunXl1C3X1jXf0+jRozFkyBAULVoU3bt3x+rVq+Hk5CTUxVNHn8Si+swRysjIwK1bt3DlyhX8/fffQp2+xo0bKxUf/tYgS5/5JABw/PhxhISEKM0tGjp0KJo2bSq6/5s3b4Q7HysrK9y6dQvt2rXDxIkTMXv2bIwfP170uJYtW6pdHdqoUSPRoFusUn3t2rXVVqrXZx6OPu97nTp1cPnyZZUVZHfu3NFYykaXuVL6rI6Ta9WqFXbv3g1jY2OULl0agYGBCAoKQuvWrdUuqc/IyMDly5fx8OFDGBkZoU6dOhqHPW/duiWasNfa2lptUF+iRAn4+/ujffv2qFixImbPno1jx46hQYMG8PX1Vbs4oUuXLli5cqUwj8fS0lLt8LycPitnT5w4gTFjxgg/zu7u7pgwYYLGOpZVq1bFpUuX0KtXL6XtR44cEb2Bs7Ozw5IlS7By5Uqh9+7du3fw9fUVDYAVOTg4qMyn00TXG1ZPT0+dy0Vpu/AoJ4o+6zI3z93dHba2tihTpgz279+vUwkbQPteTXW9ZCYmJihcuDDq1auHQYMGqcyt1WURTFbaLlhKSUmBj48Pjhw5AmNjY3Tp0gVTpkyBkZER8uXLh4sXL8LNzQ3x8fEMsn4UikMrf//9N9asWYNZs2ahQYMGMDExwa1bt+Dt7a1xJZau+Z4aNGiAP/74A1KpFEWKFMGOHTuwfft2lC5dWmP2bX0Si+ozR6hhw4b4+vUrfvrpJzRs2BAjRoxA/fr19SploIk+80n27NkDNzc3tGvXDh06dEBGRgauX7+O4cOHY8WKFaIX9EKFCgmrpypWrCj8oJYpUwavXr0SfR5d6gPu2bNHqFQvk8kwevRo0Ur1BQsWBCA+90Iddau3dJ1M27lzZ/j4+CAmJgY///yzUEMtJCQEvXv3Vnq9iq9Nl7lS+qyOU6Q4sVhdECuXkJCAIUOGICoqCgULFoRMJsOnT5/QoEED+Pv7iw6n65OR3sfHBwcPHkSzZs0QFhaG/fv3Y9y4cTh79iyWLFmi9u49JSVFNHu6JvqsnF2wYAHq1KmjNCcpu0zYutZVnDJlCvr06YOWLVuiUqVKkEgkiImJQcGCBbF161aNz6XrYgtdb1gjIiKEFBEXLlyAg4ODUC7q/PnzKoEkoN/CI32/p7rMzUtNTcXDhw9RpkwZHDhwINvFVllp26upWFtRUUZGBt6/f4+rV6/i0KFD2Llzp9Lf4VuCTm0XLC1duhShoaHo3LkzzMzMEBoaigIFCmD48OFYsGABtm/fjooVK6otR6QJaxfmAu3atcO8efOUemuAzGXcM2bMUNvroGuNLn3roSnur21ixE+fPmH69Olo0qQJfvvtNwwfPhwXLlwQ5giJDbWNHj0a4eHhMDExwS+//CL0YGUdWvvWavNLly7F0aNHsWTJEqSmpmLChAnw8PDA6dOnERUVhYMHD6oc07ZtW/Tt21elV2Djxo04dOiQEOwomjJlChITE7FgwQJERERg/fr12LJlCw4ePIgtW7aI/l3V/W3y5MmDUqVKCaUugMwhWV0q1deqVUsoVaFuYramv2l2k2nFLobaftayPmffvn3Rtm1bDBo0CBs3bsStW7ewcuVKXLt2DSNHjtSpbqMm79+/x4YNGxAVFYWUlBSVx7MOn4wZMwYvX76Ej4+PUFMvKioK06dPR82aNUWDn1OnTmHcuHH46aefRDPSi/XKNG/eHN7e3mjSpAnmz5+Px48fIzg4GLdv38awYcNw+fJl0dezbt06HD58GP369RPNFC8WQHbr1g2DBw9G586dsW7dOjx9+hTe3t64d+8eBgwYILoQpFevXhg0aJDGHnAxutZVTE5OxsGDBxEVFSUM+3Xq1Enj3FDFxRby3FI3btxAZGSk2sUWJ06cwOLFi+Hi4qLVDWu9evVw8uRJlC5dGpMnT4adnR169uyJmJgYDBgwQEiKm/WYgwcPokqVKhg4cCCGDBmC5s2b4+TJk1i/fr3oEH52CyjUjXLoUgN18uTJOHr0qFbXVLHnO3ToEFq0aKEUcL9//15jr6Y68nYtW7ZM2KZvoAlkzqdyd3eHl5cX6tSpgy5duqBnz564fv06LC0thaLkrVq1gqurK/r27Qsgc7GXl5cXGjdujD179mDw4MEYP348axf+qF69eoUSJUqobC9YsCDev3+v9jhd8z3pWw9Nn3F6TXOExF4rkLlsPSMjA3fu3MGlS5dw5MgReHl5oWjRorCzsxN+wNTdEWlL3Z1XgQIF1JaOiI+Ph729vcp2R0dHrFq1SvSYqVOnYvjw4fjjjz/w22+/YdOmTcKk8hkzZogek7XuWlpaGmJjY+Hm5qYy50jXSvWKpSpCQkJ0fg/1SXSpTx05QPe5UmI0rY6Tmzp1Km7duoUmTZqgWLFi2Z7z0qVL2Lx5s1LR4urVq2PevHlqe531yUj//v17YTg1LCxMmM9VpEgRtWlGAAg9B56eniqPqQue9Vk5W716dUyZMgUbN27UqbB2dnUV79y5g7p16wr/zp8/v2hViQ0bNqgd2tdnsYWuCYr1KRelz8KjrNfetLQ0PHnyBJs2bdKYeVyXGqjyBUofP37EzJkzMWvWLK0XOAH69Wqq079/f5Vh+uxuqtUFmoDqgqUlS5Zg/fr1KFOmjNKCpdevXytN+2jWrBmeP3+OU6dOYdOmTTrPRVXEnqxcYODAgShYsCAWLVokdOXKf7xMTU31Wjb69etXlbvYjRs34vz583rVQ9PHhw8fEBsbK9pDoGlIBsj8gbxy5QrOnDmDffv2CcEXkJkUrmjRohq/eFKpFKdPn9b6Tju7O68RI0bA2toao0aNUtq+bds2nDp1CsHBwWrPnZKSgjx58uDr16+4cOECSpUqpbQ8Whu3b9/GlClTlHqycqL4ty7q1q2L48ePo3z58hgyZAj69u0LBwcHXLx4EYsWLcKRI0d0Op/iKiwxd+/ehbGxMaysrBAeHo6goCCULl0a48aNU7qI67M6Tq5+/frw9/fXOnmuvb09/Pz8VBKy3rlzB8OGDcOlS5e0Ok92OnbsiPHjx6Ns2bLo3r07Dhw4ACsrKwQHB2Pv3r04fPiw6HHqcmHJqcsRd/r0aRQuXBgNGzbE0aNHlVbOiuWf0zS9AFA/xCNP4RATE4MVK1bg9OnTqFatmvAj9ssvv2Dz5s1qSy69efMGU6ZMwZUrV9T+XW1sbHDw4EGVeYBPnjxBly5dcPPmTZVjdH3fNm7ciICAACxatAiWlpYYMGAAxo4di7CwMHz58gWhoaEq53BxcUGtWrUwdepUbNmyBWfPnkVQUBAuXLiAadOm4e+//9bYBkXnzp3D+vXrRZ/nW6xevVo0Ca4m+vZqinnx4gXatm0rDOsBUOm1zhpoZr351aesjpWVlbDCUq5+/frw8PAQSu3oiz1ZucCcOXMwaNAgNG/eXJgoGBMTA0tLS40/jrrme9K3Hpo+iUUPHDiAefPmQSqVap1b6/79+wgLC0NYWBiuX78OMzMzNG3aFJ6enkpfpKZNmwrDXnKTJ0/GrFmzhG0fP37E5MmThS9+dqs5FYkFgPXr18fatWtx9+5dNGrUCKamprh9+zaOHDmCbt26KX2xs84Bkt/l582bVyX1grbMzc1VEpB+S/Fv+cKLrCQSiVKNRMX3Qp9El8+ePcPixYt1XoUFaD9XSp/VcXIlS5bUKX/UuHHj4ObmBh8fH6EXKi4uDl5eXmorJgCZ6S8CAwPx+PFj7Ny5E3v37kWFChXUllwaOnQoJk2aBCMjI9jZ2cHKygpr1qzBmjVr1CaSBFQ/E6mpqYiMjESVKlU0vk5dV87qM0/mzp076Nu3L2xtbXHnzh1IpVLcv38fCxcuxOrVq9GyZUtUrVoVgwcPxpYtW1QWRly4cAEzZ87E58+f1aZNAfRbbKFrgmJ9ykXpu/BITLVq1TR+d3SpM3rgwAF06NABZmZmKFeunNKNXFZin1d9ezXFxMfHq+QAFLsB+vXXX1GmTBmsX79eNMgyMjLKNj+gNvM15RPuvwV7snKJpKQkHDlyBFFRUQAyhxOcnJw03lFMnjxZY76nrN3p2c1jUXc37+7urjGx6PTp01WOsbe3R/PmzTFo0CDRqvFiFzUrKyuULVsWLVu2RKtWrYRgRmw/sbuOQ4cOCfO33rx5g6ZNmwrDVfK5Ddl93NUFgK1atdJ4nNzz589FUyaIEXuerMGgfGJ1cHAwUlJSsGvXLq3OnZ2FCxdiy5YtqFWrljCcduvWLdy4cQMODg748uULrly5ghUrVghDgaNHj4aFhQXc3Nxw7Ngx7Nq1Czt37sTRo0exePFi0XkoI0aMQExMDNq1aye6CktxgnB2RasVKV6469evL6yO6927N6ZOnYqGDRsiODgY58+fx6ZNm9Se5+zZs1i/fj0mTpyIcuXKqfztsva0tWjRQkiQmj9/fpiYmODDhw8qq4SB//v7hoWFYcSIEXBycsKxY8dw9OhR7NmzBwEBAfD09FSbXDQyMhLPnj1D8+bNYWZmJsxpFFtmLvfy5UuhmHvNmjXh7OyMR48eoVChQggODhZqfupzt5+VvApESkqK0vdKXTHqQYMGwcbGBhMnTlT6vi5evBhXr17F3r178fnzZ7i6uiI2Nhbbtm1DxYoVkZaWhqVLlyI4OBh16tSBj4+PxgnqoaGh8PHxgbOzs+hiC8XJ7/KgQdcb1g0bNqBLly4oWbKk1u+jTCZDQkICpFIpypcvj8ePHystPNJ2vk9SUhKWL1+O8+fP49SpU6L7DBw4EC9evMCAAQNEh/4Uq1EoXk91necL6N+rmZVUKsWYMWNQtGhRLFq0KNv9nz17hg4dOuDWrVtK293c3HDq1Cnky5dPuGHIbm6olZUVLl26pBTgZf1N0Rd7snIJCwsL9OnTR6djdM33pG89NH0Si3748AEuLi5qi7+KkScm1FR6RBeKP3qK89cyMjK0DoTkFCepv3v3DuHh4ShWrJhQxFlu37593zRfTDG1h6Ly5ctrLKisq/j4ePTr108lX5k8H9Xq1asRHByM9evXC0GWPokudVmFlTU/kLb0WR2nSD5JWJG63l19EiLKixIPGjRI6CWYOHEiChYsiE2bNqkNsqysrJR+HDTNZZLz9vbGp0+fULRoUfzxxx94/vw5tm/fjj179sDHx0eY6KtPEV1F58+fx4QJE/D161ete6rv3LkjlIZS1LdvX2HYy9zcHAEBAXB1dcXAgQOxcOFC+Pr64sGDBxgxYgTGjBmT7WRqd3d3AJlD5FlHAuQVNeTtlAdZuiYo9vf3VztZXx1nZ2elhUdVqlRRmy9QTt3Ed4lEIjrvTk6XOqOK8yb1mUOpGESlpqbi0qVLkMlkaNy4sdINtrqbKJlMho8fP+LWrVuQSCRa3UgmJSUhODhYNMidP38+5s2bh7///hvHjh3DwIEDUbRoUXTs2BFOTk5qf5MWLFig1N7U1FT4+Pio9ADrmmCWQVYuoG5iX9ahm6xdtdrke8qJemj6JBZt06YNzp8/r1OQdffuXZiYGOYjqdhzpssqyzVr1mDz5s3YtWsXKlasiH/++Qeurq7C5FY7OzusW7dOmN+mmIRSH2KLGUxNTdUuFtDXX3/9JfpD26NHD+Eut3Xr1kpLsHWZTCuXkpIizOmpUqUKHjx4AGtra3Tt2lXlDljfpdr61JWU8/b2hp2dHXr37q3VPJTChQujRYsWOgXpDx48EB22bNOmjdqFFtnNt1M3jeDvv/9GSEgIypUrBz8/PzRv3hwNGjRAkSJFlD6b+uRJU+Tj44MmTZpg9OjRQoqQ7JiamiIpKUll+4sXL5Tee3Nzc2zcuBGurq4YMmQIypcvj23btmksX6VIn0BB1xtWW1tb/PnnnyrBuSb6LDxSrBwgZ2pqCltbW421WvWtMwpkpoYxNzcXhjDHjBkDR0dHlbJr27dvF64hvXv3Rvv27dGvXz8hJ2LJkiUREhIi3DSru4kyNTVFoUKF4OLiIkxUV6RPoGlsbIwmTZqgSZMmcHd3x8WLF3H8+HE4OzujQoUK6NChA5ycnISe6kaNGuH169dK56hfvz4SExORmJio8f3KDoOsXMDZ2Rlr1qyBg4OD0DNy8+ZNnDhxAt27d4eRkRE8PDyQmpqqVEpBm3xPOVEPTZ/EolOnToWTkxNOnjyJ8uXLq3xJxO4G7O3tsWXLFowZM0avaufa0vZit3PnTvj7+2PQoEHC0OTMmTNhbm6OnTt3wsLCAmPHjoW/v7/axKLy4agHDx7AxMQE1apVw5AhQ+Do6Ci6/+rVq0VXCb5//x6zZ8/GmjVrdHy14iwsLBAdHa0y7PLo0SPhBy85OVllcUTevHmFbZaWltn+yOizCkvu69evOHHiBB4/fgwXFxc8fPgQ1apVU5mzoW9dSSBzZW9gYKDWQwLyVahdunRB9+7dNSZUlStQoIBotvOoqCi1te/E5lY9ffoUDx8+1JhcNDU1VTjn5cuXhc9lRkZGtjcwb968EQrAKxJbnBAbG4s1a9bo1Ovs4OCApUuXKuXEio6OhpeXl8q8mnz58gk9Wq9fv/6m+YeK1C220DVBsbm5ubBSTWweklgQ7OrqitmzZ+u08EjfmzZ96owCQHBwMJYvX640561MmTLC/Fr5709gYCBWr16NTp06IV++fPDz88PevXuRkZGBrVu3QiaTwdvbG0uXLhVuJPS9idI30FTcV57gWSqVYvfu3fDz88OyZcuE61FOJIBVh0FWLnDt2jWMHz8ew4cPV9pubW2NsLAwBAQEoEGDBggMDFQKsrTJtJsT9dD0SSzq7e2N5ORkSKXSbFfuyL148QJHjx5FSEgILC0tVS5cir083zIkp+3Fbvfu3ZgxY4awhPzWrVt48uQJpkyZIvy4jhw5EosWLRINsk6fPo2xY8fC0dERTk5OyMjIQHh4OMaPH49Vq1YJw3DXrl1DXFwcgMxJqHXq1FEJsqKjo3Ns5RqQefF2c3NDYmKikEvo5s2bWLlyJbp06YLExEQsWbJEabJ5dkupxXrhunfvjmnTpmHRokVo0aIFBgwYgDJlyiAsLEztCjIg8we/T58+ePPmjXBxDwoKEubWKCbx1KeupJytrS0ePHigdZAVFhaGo0eP4sCBAwgMDIS1tTW6d++Ojh07qr0x6NSpE7y8vODl5QWJRILk5GScP38enp6eaic8qxuSWLlypWg9R7natWtj9+7dKFGiBBITE9GiRQtIpVIEBASo7bm9ceMGpk+fjqdPnypt17QgplKlSnj9+rVOQdb06dMxdOhQ/Prrr5DJZOjevTuSkpJgZWWFadOmAVCdk+jq6oq5c+di4MCBcHNzUxoqVLcQQp/FFromKLawsFC7aEEdfRceZa00Ubt2bbi6uqqtNAHoV2cUyFwtvWjRIqWe6VmzZsHGxgarVq0Sfn927doFLy8v4fPr5OSEXr16Yd26dUJHwcyZM/UaXs/qW0cHgMybqePHj+PEiRO4efMmKlasmO1cspzCie+5gK2tLQ4ePKhywXr69Ck6deqEmzdv4sWLF2jfvr3S8mOpVAofHx9YW1ujU6dOcHd3R2hoqJBpN2ty0+fPn+tVD02fxKL169fH8uXLdSqomd1kXMXlth06dFAKwg4fPoxWrVoJXeQpKSk4fvy46IVL2+Sq9evXx/79+4Uhzw0bNsDPzw+HDh0SJs/GxcWhQ4cOSkuO5bp16wYHBweVVWerV6/GuXPnsGfPHgDA9evXRXMBKTI3N4eLi8s3lxSSy8jIgI+PD3bs2CFMXM6bNy8GDBiA8ePH49y5cwgMDMTSpUuFoHPVqlVK71dqaipiY2Nx4cIFTJgwQe0QV3BwMCpVqgR7e3sEBARg/fr1wios+UTsrKZMmYKkpCT4+fnh119/xaFDh1CwYEFMmjQJxsbG2LBhQ468D0ePHoWXlxe6deuGSpUqqSy00PRDGhsbi8OHD+PkyZN4+vQpHBwc0KNHD5U8XqmpqZgxYwaOHj0K4P8Sudrb22PFihWiC0PUiYuLg7Ozs9pFLLdu3cKIESOQmJgIV1dXTJo0Ce7u7jhy5AgCAwNFV0v16NEDRkZGGD58uGivh3yupmJSyLNnz2LLli2YPXs2KlWqpDJPSqxXJikpCRYWFrh8+bKQjLRGjRpo1qyZMPyadYGKusUqmoISXRZbyOmToFhX+iw8Uqw0YWtrK1SaOHPmjNpKE4D219KsbGxscPjwYZVe17i4ODg5OQmTzOvVq4cTJ04o9TDWrVsXhw4dEnLIvX79Gvb29rh7967GtmRH3vukLmGwuhuSrIFV+fLl0b59e7Rv317nhNzfgkFWLtC6dWuMGTNGacUHkNmrsXz5cpw7d04oIKq4gkvXTLupqakIDAzUuR6amOwSizZt2hRbtmzRukyFLnS5AxHrBtb2Yle/fn0cOHBACH6HDx+OO3fuICwsTNg3MjISv//+u+g5ra2tcfjwYZXgWVO+HrGVk4b09etXREdHw9jYGJUqVdK5JAuQmaT02rVrwjCQptJAxsbGKFq0KGxtbTXOGWnatCk2bNiA2rVrK63ykb/fuuQI0xSY6rOaSi41NRXnzp3DiRMncObMGRQpUgQfP35EmTJllFI8yD19+lQpuNCl4Lrc2bNnMW3aNI0pSeQrUuVzpWJiYlC4cGG13+969eph165dagNeuaxzY8TqrGrqlWndurVSXUUx2vZ6A+rTLjRs2FBYbNGtWzd4eHgIiy0ePXokOuSu7oZVnqC4cePGSqkOdCl/lZ34+Hjs2rVLtFamPpUmvkXXrl3RqVMnlYUsW7ZsQWhoqHCjoO0K72bNmmn8Dmlj8uTJOHnyJGrXri26AjPrNT44OBgnTpzArVu3UKZMGbRv3x7t2rXT+LkzJA4X5gK///475s+fjydPngh3Kzdv3sSWLVswcuRIxMfHw93dHc2aNVM6TtdMu7rUQ8uulEHhwoWRlpamdo7D8OHDsXz5cnh5eek0v+ru3bsIDAxUmsM0cOBApeSd3zp+rnjHKJVK1S6drlmzJsLDw1GxYkV8/PgRV65cUVlRdPz4cWEuR1YlSpTAkydPRIMsdfMk7O3t8f79e4MEWer+pvIfX8Ui4Lokpm3ZsqVSGQx12ewVFSpUCOvXr1e7+ik5OVntRPS0tLRvXh0np88k6evXr+PgwYM4ceIEUlJS4ODggHXr1qFx48b4/PkzZs2ahQkTJuDEiRMAMv+m8oLFjo6OWpUaEVuJ9enTJ4SFhal8Br81KW3p0qXVrhLO7lhdaFNXMSfmXumy2ELOzMxMaeGPWMHrGTNmoFmzZrC0tNT4GVdctajJhQsXEBoaivPnz0Mmk4kGWfpUmpDTtc4okJn/a9q0abh//z5sbGwgkUhw+/ZtHD16VLTI+b/h3Llz8PPz07rg96JFi2BqaopmzZqhXr16ADJvTs6ePauyb06NDGjCICsXGDhwIExMTBAYGCgsOS9TpgymT5+OPn364K+//kLVqlVVLryVKlXCgwcPtJp8C2TW51q2bBnq1KmD+fPn4+eff8aIESPQpEkTlcmd2tQH1HTX+ueffyIiIgJ2dnawtLRUmXQrNicgIiICgwcPRo0aNdC0aVOkp6cLQ2khISEq6RK+xY4dOxAQEID4+Hj88ccf2LhxI4oXL670pevXrx/c3Nzw4MED/PPPP5BKpcJFOiEhAYcPH0ZgYKBoKQ4gM2u3h4cH5s2bJ7T92rVrmD9/vtrVeNeuXdNp+EgX3/o3Vefq1atKbc4ucPnw4QO8vb2xcOFC7N69W3SfRo0aYdu2bUorV1NTU7FmzRo0aNAAGzdu1Lp9OcnR0RHPnj1D7dq1MX78eJU6eubm5mjfvr1Sb6erqysuXLiAESNGIE+ePGjevDlat26N5s2bq12AIbYSy8zMDEOHDsXAgQOVtn9rYDJq1CgsXLgQHh4eqFKlimhuOkB9Hj1t9evXD2PHjtWprqI+9F1skZCQgB07diAqKgpmZmaoUaMG+vXrJ/x9vzXVAZB5I7Nnzx7s2rULz58/h4mJCbp06QIXFxfR/Rs3boxjx46pVJq4ePGixvQM2dUZVadjx44wMTFBcHAwzpw5A1NTU1StWhWrVq1Cy5YtlfYNCgpSuhFKS0vD5s2bhZv+z58/a3gntFeoUCGd5v7JbxCjoqKEvJNitElGmhM4XJjLvH//HiYmJlr1/syePRv79++HlZWVVpl2ra2tcfLkSZQqVQpt27ZFjx494OrqimfPnqFTp074559/hH11KcArdvHVZ07Ab7/9BisrK7i5uSlt9/DwwKNHj3JsBcjhw4fh4eGBgQMHYuPGjThy5AjOnj0LX19fjB07VqkG3Z49e7Bjxw4YGRnB1dVVyNi+YMEChIaGwtXVVe3KwpSUFEycOBF//vmnENzIZDK0aNECy5cvF+2pWbhwIRISEjB69GhUrFhRr4Kk6nzr3zRrj4lMJkNSUhIePHiA33//XaseLLnHjx+je/fuuHHjhujj0dHR6NevH0qUKIHHjx/jl19+wePHj/Hp0yds3bpVZSju69evMDIygpmZGaKjo3Hu3DnUr18fDRo00NgOXTJjf/nyBUuXLkWvXr2E3suoqCiULVtWKVj6+PEj0tLSVFZBpqSk4O+//8a5c+dw/vx5vHnzBo0bN9YqlxeQOUS/Y8cOHDt2TLRos75atWqFhIQEpWoOisQCbn2qQHzL0Kwu9Cl5c+/ePfz2228oWrQo6tSpg/T0dCErfXBw8DfP4QkPD8eOHTtw6tQppKamomrVqoiJicGOHTs0ZhX39/fH2rVr0bRpU9FKE4p5ohSvqW3atEH79u1F64z26NFD4wpVbWibnBn49nQhu3fvxokTJ+Du7v7NiUG/B/Zk5RLPnz/HzZs3RfP6qOt6fvr0qdBDkjXHh5gKFSrg9u3bePfuHWJjY4Xhx9OnT6sshVX8kR05cqTSijptmJmZ6ZwR+e7du6Jd0v379xcK5OaEoKAgzJ49G926dROSM/7+++8oUKAA1q1bpxRk9ejRQ/S5XV1dMXr0aNF5Lq9evcKpU6eQJ08euLm5YfLkyXj48CFkMhlq1qyp8X08ffo0Xrx4oba0xbf8EKnridA0ZKpIrMfE1NQUAwcORKdOnXRqy61btzQWZK5atSoOHTqEHTt2oHTp0sjIyED79u3x22+/qXxWw8PDMXr0aKxYsQLVqlVDz549YWRkhM+fP2Pp0qVo37692udxd3fHixcvMGXKFI1L3Q8cOABvb29s3LhRaXh40aJFuHnzJjw9PYXnUZc3ytjYGBYWFihWrBjKlSuH+Ph4XL9+Xe1zApmB2dGjRxEaGorbt2/DyMhIbfoPfY0dO1bnYxYuXKixCoQYXQva60tTyRt1ZZY8PDyEuVjy4UGpVIoZM2ZgwYIF2Lp1q9L+t2/fhoeHB6KiokSv2YqpAUJDQxEdHY1y5cph8ODBcHJyQs2aNVGnTp1sc1nt3LkTlpaWuH//vtJ3v0SJEkq9pVl7ZV68eIEePXrAzMwMVlZWuH37NhwcHDBjxgwsWrRIY5CVkJCAXbt2ISYmBrNmzcLVq1dRo0YNpevWtwZOuqhRowZ8fX3VliTLqeDcUBhk5QJ79+6Fm5ub6J1k1vF9b29vjB8/Hubm5jr37OhbDy0iIkLnIawNGzbonBG5SJEiePv2rbA6Re7t27c52qMTExMj2mXesGFDxMfHa3UOdcFjREQEXF1d8eXLFwCZ9f5WrFih8YdekT4/ePrSZshUka6ZjsU8fPgQkyZNQnR0tGg5JkWfPn1Cy5YthZ7CoKAg0d6mZcuWoXXr1qhXrx727t0LCwsLnDx5Env37oW/v7/G916bzNiXL1/GrFmz0L17d5QuXVrpMTc3NwQEBGDKlCkoXry46OcqICAAf//9N65fv4709HTY2NigcePGmDhxotpC4Y8fP0ZoaCgOHjyIDx8+QCKRwNnZGSNGjNAqN5Ausi640YYuVSDevXuHoKAgjB8/HqampujUqZPSUNKvv/6qMXu5PhSDCFdXV6UbJzH379+Ht7e30nw5MzMzjBo1SjSFwJw5c5AnTx7MnDlT47XRy8sLVapUwbp161SG27ShbzCjT51RIHPFbK9evWBhYYFXr15hwoQJOH78OGbNmoXAwMBse4YNYc6cOahYsSK6du2qU+Hq3IJBVi6wbt06dO/eHdOnT892mHDz5s0YNmyY0vDEkCFD4O3tnW1W8K5du8LKykqohwZkrizauHGjxnpo3bp1g6+vr05DWDY2NjpnRG7ZsiU8PT3h5+cn3DU9evQIXl5eel2g1ClWrBgeP36s0vV8/fr1b86svnLlStjZ2cHDwwPGxsaYP38+Fi1ahCNHjmh1vD4/ePo4fPgwli5dKgyZApm9R76+vsiTJ4/aH6W4uDjcvXtXtGiuNpN9LS0t0bx5c8yYMUNjnp+//voLo0ePhouLixCIHD9+HKtWrUJAQIBSMHPv3j0sWbIEFhYWuHjxIuzt7ZE3b17Y29tj8eLFGtujTWbsgIAA9O/fH7NmzVJ5rGLFiliwYAFkMhnWr18vOlds6dKlMDIygoODA4YPH652lVNaWhpOnjyJ0NBQhIeHw9TUFC1atED79u0xbdo0DBo0KMcCrJkzZwpJbzXVjJRIJKI3YNpWgUhISICzszNMTU3Rr18/lC5dGs+ePYOzszMKFy6MFy9eYM+ePejatavKnEt1Uw4UK2E0b95cZbGPPsdVrlwZUVFRKjd4sbGxoj24T548wZ49e5TqIIoZPnw4Dh48iFGjRqF69epo164dOnTooFMlDCCztzY6OhodO3ZEfHw8KlasqHbuHJB5w7h+/Xq4ubnBysoKu3btwrBhwxAREaHx875o0SI4ODhgwYIFQkDl5+eHGTNmYNmyZSo9ev+G2NhYHDx40CAr1f8NDLJygYSEBLi4uGg1D0tsCt3169dF84eI0acemj5DWPpkRJbXxuvYsSMKFCgAiUSCDx8+oGbNmkKywpzQu3dveHh4CHOIHj9+jL/++gsrVqz45rkK9+/fx44dO4RgbdasWbC3txdyBGlD1yzx+tBlyFRu3759mDNnjrBaSZG2K6osLS21+lsuX74cQ4cOVVpxJc/U7OvrqzSvJl++fJBKpZBKpYiIiBCCgjdv3mSb7VqbzNj37t3Ldr5Z3759RTODA5lDjZcvX8alS5fQv39/WFhYwM7OTvhP/iMu/5zY2dnB29sbDg4Owmdm6tSpGp9fV8+ePRP+jvrUjNS2CoS/vz/Kli2L4OBgpYnuAwcOFG5yXr16hZ07d6oEWeHh4UKwKf+BjY2NxdevX1G6dGm8f/8eefLkwebNm5WCHW2PmzZtmhC0Ojk5wc3NDa9fv8ZPP/0EIyMj3L17F0uXLhXtXa5Xrx6eP3+ebZA1ceJETJgwQShjtX79eqxatQpWVlaQyWTZVj1ISkrCkCFDcPPmTUgkEjRp0gS+vr548uQJgoOD1SaD1qfOKJDZs7t161alBTLGxsYYMWKEaH6xf0P16tXx6tUrBlmkPysrK8TGxhr8Q6RvPTR9hrD0yYhcqFAh7NmzBxcvXhTmMGVNVpgTXF1d8enTJ0ydOhUpKSkYPnw4TExM0KdPH7U/lNpKTk5WukMuWbIkTE1N8eHDB62CLG2zxH8rfYZM165di969ewvFjQ0pOjoay5cvV9neo0cPlc/pL7/8Ah8fH2FVkzw3z4IFC/DLL79ofB5tMmNLpdJsUw8UKlRItHcP+L8bm8GDByM1NRU3btzAH3/8AQ8PD6SlpQkZyD99+gRLS0uUKlUK+fPn19hT8a1q164trPjVZ0GJtlUgLly4gLlz52p8//r16yc6F7NevXrIyMjAihUrhEUE79+/x9SpU2FtbY0RI0bAzc0Nvr6+SosHtD1uxowZMDIyUrpxFWuHh4cH+vTpo7TN09MTI0aMwK1bt1CuXDmV65PitU8ikaB58+Zo3rw5Pnz4gMOHD2Pfvn3IyMhA//790a5dO/Tv3190AvyyZcsgkUhw6tQpdO7cGQAwbdo0TJkyBUuWLFFKnSL35csXVKtWTanO6OLFi3HlyhVUq1ZN7cpmAEhPTxe9iUpKStIq9YghjBs3DnPnzsXgwYNRuXJllZXqObUq1VAYZOUCLi4u8PDwQFxcHKpUqaJyoc+pD5G+9dD0GcLSdv5OdoHfX3/9hcDAQEgkEoSEhOjcDnUmTZqEkSNH4tGjR5DJZKhSpUqO1EvMyMhQSZNgbGwseuESs2bNGowZM0YpS/ygQYOwevVqrFu3LseCLH2GTF+9egUXFxeDB1gAULRoUdy7d0+lfVFRUSrPP2/ePMybNw8PHjyAj48PLCwscPDgQZiYmGgcCgMyA7TsArHKlSvjn3/+UcmCrej69esaUylkZGTgn3/+waVLlxAWFobbt2+jbNmySsPgYWFhOHbsGPbu3YvQ0FCYm5ujVatWaN++/TeVkRLzLdMOgMyM/NOnT0dERAR+++037Nq1Cz179hSqQMjFx8er5JH75ZdflIKumjVrii7c2bt3L4KCgpRWaRYuXBiTJ0/G4MGDMXbsWAwZMkQlANL2uD/++AOHDx/O9rWKOXHiBGJjY7F27VqVxzT16hYqVAj9+/dH//79ERkZiT179uDo0aM4cuSI6IjA2bNnsXTpUqXvQZUqVTBv3jyMGDFCZX/FBRr16tUT3uf169cLCzQ0adq0KdatWyeUAAKAxMRE+Pj4qFQy+LfIy83Nnz9f5bGcXJVqKAyycgF5fSexfEtiHyJ9L7j61kMDMu/4AwMD8fjxY+zcuRN79+5FhQoVNPZWabNKJbscPxEREYiLi8vRgtGzZs2Ci4sLqlWrJiSrAzIn6Pbs2fNfWwUlRl0PTseOHREQEJBjz6PPkGnt2rVFAzNDkGfq/vjxI6ytrYWkiMuXL1cJ+osWLaqSmHHSpElazR3UJk9O586dhazfYgFIQkICVqxYobbI+siRIxEeHo7Pnz/DxsYGrVq1gpeXl8oqUwsLC/Tq1Qu9evVCdHQ09uzZg8OHD+PIkSOQSCQIDg7G0KFDdZ7PI+Zbpx0UKFBACDDS0tLQr18/2NjYoFevXihevLjSa8o6JLZ+/Xqlf3/69Em0UHZaWproQoeUlBSh19DMzEzltWh7nEQiUbn+SKVSPHv2DBUqVIBMJlPbm7h582aMHz8egwcP1qtKApDZwzlnzhxMnz5dNFEmkHlNUnw/5SwsLITFNXLfukADyEy4+vvvv+PXX39FSkoKRo4ciefPn6Nw4cLZzm80lO95Pc4JDLJyAV0/RAsWLFCa45SamgofHx+VCY3a9iZ169YNzs7O8PDwEH08LCwMY8aMgZOTE27cuIGMjAykp6dj1qxZSE9PF/1x0XaViro2JiUlYdGiRYiLi8Ovv/6ao9mG9+3bh5MnT2Lp0qVKtRUzMjKyzXSvjeyS9MmJ/cDrkyVeH1mHTEeMGAFjY2P06dNHqVC5YvkWBwcHzJ49G2PGjBGtV5eT3fajRo1CYmIi5s+fL/xgmpiYCDmPsqPLatTIyEiEhIQgJiYGK1aswOnTp1GtWjWhh6t///44efIknJyc0KNHD9ja2qJgwYJ4//49bty4gX379qFixYpq57qYmJhg9uzZwmctIiJCtOiwoqpVq2L69OmYMmUKzp07h/379+PAgQPYt28ffv311++WjHX79u1Ctv3evXsLaTWioqIgk8mwe/duoVYlAFSrVk1IpqzO+fPnUbt2bZXtTZs2hYeHB5YtWyZ8H2JiYrBgwQIhWfGOHTtUCo3rc5xMJsPSpUuxZcsWpKam4o8//oCfnx/y5MmD+fPnqwRbKSkp6NSpk94BliJTU1O16Qnq1auHY8eOKX0ngcwgL+t79q0LNIDM6Q0HDhwQetYyMjLQt29fdOnSJUdvdHWRE1UAvicmI/3BfGvdPjHZ1UPr06cP2rVrh0GDBinVpwoMDMT+/ftFV86NHDkSRYsWFVapHDp0CGXKlMGMGTPw8uVLjatUwsLCMHfuXHz8+BFTp05F7969tXvBWrKysoKLiws2b96MqVOnChm0c6LWlrZJ+iQSiWhwvXz5chw6dEglS7yHhwdatWqllAE9J3z58gVRUVG4cOECateujSZNmigF8FkL9mp6PYbotk9OTkZMTAxMTEyUaitmraOniaZ23blzB3379oWtrS3++ecfHD9+HP7+/ti/fz9Wr14tDOdJpVKsXLkSu3fvVgqQihUrBmdnZ4wcOVLlB3fNmjXYvHkzdu3ahYoVK+Kff/6Bq6srkpKSAGRm8163bp3WP9Tv3r3DwYMHsW/fPr2HueS0qT2XVWBgIFavXo1OnTohX758QiHh5ORkuLu7QyaTwdvbG+XKlcOKFSsAZN7QLF68GCEhIaIJPR88eIB+/frBy8tLJeXLu3fvhHqhBQsWFGoy2tjYYNWqVbh79y4mTpwIf39/pRxw+hy3efNmBAQEYOLEiZg/fz4OHz4s5MLq2bMnpkyZotQ2Nzc3lC1bViX4yWnXr1/H4MGD0bhxY4SFhaFTp0549OgR7t27h8DAQKWhbjs7O2zevFltmS8g8/M+bNgwXLp0SePzfv78GTExMTA2NkblypUNVoVCG3FxcfD19VVbIDq393QxyPpOWrdujT179qBIkSLZljvJqQ9RdvXQFi1aJHpc/fr1cfDgQVSoUEHpQhwXF4eOHTuKFjq2s7PD1q1bUa1aNaVjoqOj0atXL9GM1cnJyVi0aBF2796Nxo0bw8vLS6caetqqVasWLl68iOvXr2PatGno1KkT5s2bh/fv36Np06bfdYxfnyzxulDXE/Hw4UNIJBKULFlSqSciJwr2akuXGnxdu3bVOsjSNKdw0KBBsLGxwcSJE5U+p4sXL8bVq1exd+9epf3T0tIQFxeHDx8+oGjRoihfvrxoO3bu3AkvLy8MGjQIw4YNg4WFBdq1a4fPnz9j06ZNsLCwwNixY9GkSRO1FQMMycrKCpcuXVKat5RdkNW2bVuMHz8eHTp0AJCZULZXr15KOaAiIiIwYcIEpUL2I0aMwMWLF9G1a1c0btwYRYsWRWJiIsLDw3HgwAGV2peKZDIZrly5gvv378PY2BhWVlZCYJSYmAgTExPRHl5dj3NycsKECRPg6Oio9D6cPn0aXl5eKsN5K1asQGBgIGrUqCE6GTsncsrJRUZGIigoSCguXr16dbi4uKhMlG/QoAEOHDigce5gXFwcunTpojYJbmpqKhYuXIi9e/cKPch58+bF77//jokTJ+bYa9JF37598fr1a7Rv31402Ps3SuN8Cw4XfifdunUT7mC7deuW4xNbxehSD01RgQIF8OrVK5Uvb1RUlOhcCkD3VSry3qsPHz7A3d1dZTJrTpLfVzg6OmLz5s0YOXIkYmNjv1sBVODbssRrK2tPhJ+fH/bu3QuZTIZt27YJPRF+fn5CT4Ri4KSYW0nR+/fvMXv2bKxZs+ab2qdLkCaWIFIfd+7cwbx581S29+3bV7T8iomJiVargHfv3o0ZM2bgt99+A5AZkDx58kSpcsLIkSOxaNGi7xJkAbpPO3jx4oXSD7u1tTVMTEyUhrYrVqyIxMREpePXrl2LoKAgbN++HXv27BG2Fy9eHCNHjtSYKFQikQipLrISq7ag73HPnj1DrVq1VLbXrFlTKSWFXEREhPBeaEpg/OLFC5QuXRoSiSTbqQjqbiitrKxEM9XHx8crreTMiQUay5Ytw4kTJzBr1izY2tpCJpPh+vXrWLVqFfLlyyc62d7Q7t+/j23btqnNL5fbMcj6ToYNGybMG9E0xyQ2NjbHnlNs+FBeD61FixZq66F16tQJXl5e8PLygkQiQXJyMs6fPw9PT0/hrjYrbVepJCcnY/HixUq9V1knbRpSvXr1sHv3bowYMQJDhw79155X0bdmidfWrl274OXlJfzNnJychJ4I+dDkzJkzhYUYQOZQZVxcHIDMlUt16tRRCbKio6OzHX7QRk7e/WvL1NRUGL5T9OLFi2/qNYyOjlZK8Pv3339DIpEozQGsVq1ajswB1EejRo1UVvTVr18fiYmJKkGSXGpqqsrQpqmpqdJ8JYlEonJzZWRkhKFDh2Lo0KGIi4vD27dvUaRIEZQvX15jahZd6kp+63Fly5YV0jEoOn/+vGjPnrZTMVq3bo2LFy/C0tJS7YiFWFH2+Ph4nDlzBkZGRmjdurXKgoutW7fCz89P6Zr9rQs0AODgwYNYuHCh0qrXWrVqoUSJEvDy8vouQVblypVzrNj098Ag6zsZNWoU1q1bpzEXzoEDB+Dp6ZmjxWAB3euhTZgwAfHx8cKXs1u3bpDJZLC3t1fbhaxulUqhQoWUVql06tQJL1++RPny5dGgQQOV4RlFOdUtXKZMGaWLe+nSpbF9+3ZMmDABT58+zZHn0MW3ZonXlj49ERKJRFiBKJFIRHv7zM3NNSY4zM0cHBywdOlS+Pn5Cduio6Ph5eUFe3v7bzq34g/qtWvXULRoUaXklcnJyd+tTEhOFVvXVfny5bVenaptXcmcOG7IkCHw8PDAq1evIJPJcPnyZYSGhmLLli3CNItbt26hTp06GvNFffnyBVu3bhV650JCQoTe/pCQEK1GLK5evYrhw4cLN13yTOs1a9ZEXFwcpk2bhn/++Uell+5bF2gAmXMPxXrCqlatmu1iDUOZN28e3N3dMWDAANGcZLk9TxbnZH0nDRo0gJ2dHVatWqXypf38+TPc3d1x6NAh2Nraig5b6ONb66HFxsYKK05q1KiBatWqadz/y5cvOHr0KO7duweZTIbq1aujc+fOSj0h3zpRXB8HDhxAhw4dVFagJSUlYc+ePd+c9V1XjRo1wo4dO4T389WrV7C3t0d4eHiOrujRZrKzpsn/VlZWuHjxosbCzj+apKQkDB06FDdv3oRMJkOBAgWQlJQEKysrbNq0SaVki7b69OkjFBf/+PEjmjdvjrZt2yrdYMh7Ir5HqRJ9WFlZYciQIUqBob+/P/r06SMEEvI5Zzkxr9Ha2jrbupI5edzOnTuxbt06YfjP0tISrq6uwvVAPpdT8fvTt29fLF++XKhlmhOLZ/r16wcjIyMsWbIEZmZmmD9/PpKTkzF69Gi4urrCyMgI06ZNEy1cr88CDUXe3t54+fIlfH19heujTCbDvHnzIJFI1K5AN6Tdu3cLiXuzYp4sUmvDhg0YNmwYJk2aBD8/PyE6v3v3LiZNmoTnz59j3Lhx39w9m5P10AoUKAAbGxthTpN8qENxLoFiMdh8+fIhODhYuCO7cOEC7t+/r5QQ79+q5v7u3TshR87MmTNRvXp1lbkZ9+/fx7Jly/71IOtbs8T/WyIjI793E3KchYUFAgMD8eeffyIuLg6mpqY5UmWgX79+cHNzw4MHD/DPP/9AKpUKK4MTEhJw+PBhBAYGiubGy63KlCmD48ePK20rXry4ys1PTg33a1NXMieP6927N3r37o13795BJpPB0tISV69ehb29Pc6dOye6wjYyMhJSqVTtObNLhqtIPlz+4MEDbNy4UXgf586di9atW2Py5MmwtraGt7e32gL1ZmZmmDJlCiZMmKDVAo2s3rx5g7Nnz6JVq1ZCT/e9e/fw/Plz2NjYKC1OUVchJKetXr0azs7O+P3333MkZca/jUHWd9KwYUMEBATA1dUV06ZNw5IlSxASEoJly5ahbNmy2LFjh1KiTH3lRD20W7duYcKECXj58qXS9qxzCf5fe/ceFXP+/wH8OUpuJaolmxRF2VWUjWK1xFortZRv+qpcurmERaxoXZJKZYXaLdpEWhXKZV3Wz1oSm65al0SIQ21ZUq2i6/z+cPp8m2a6zjSfmXo9znGOPvOZ+bzGMdPr8768XoKawebn57eqGWxHu3btGjw8PJhyBILuAut38YmbsFXi26KlGl6N1z4sWLAAISEh6Nu3b7vbMkmi8vJyHDx4EGfPnuWZItbQ0IClpSXGjRsn1FSehYUFKisrERMTg27dumHPnj0YNWoUgA83WLGxsXBxccE333wj9HsRF3HdENVrTV9JUT6vXsMdl5WVlSgqKmrza9RruNmIy+UiPT0dKioqTFujnJwcFBUV8XRyKC8v51mcXj9yPHr0aKbZeEtau0GjMTk5OcyaNYvnmJGREatTcqWlpXBxcRFZc3RxoySLRWPHjkV4eDhcXV0xbdo0/P3337C1tcWGDRtElrGLoh+al5cXBg4ciE2bNjXbUkWYZrAdbfbs2VBTU0NdXR0WLlyIffv28eyM5HA46N27d7M1ZqRde0Yi1NTUmC/1jz/+WCy7YFujpbInDTV+fyUlJXBwcEB+fj6+/PJL2NjYoG/fvvj3339x7949HDhwABcuXMDRo0eFKgBbP13YmIuLC9zc3JrdHUda11dSlM/rCA3Xvu3evRsDBw6En58fE1NtbS22bNnC83+Zy+XyJVL1mwdE2cNVEDY2n7TE1NQUN2/eFPhZkgaUZLGsPtFydnbGhAkTBG4nF4Yo+qHl5uYiISGhxTVYwjSDFYf6u7GoqCgYGhry1bZhkzBV4lurPSMRDb90m6qjlpqaiu+++67dcbWHMGVPgoODUVNTg3Pnzgmc2iosLISLiwsz7S1qTU31EF6t6Sspyud1tNjYWMTExPAkfTIyMnBycsLcuXNb/F4UR89Q4EOZB01NTSgpKeHUqVO4cOECDA0N4erqyspN1rhx4+Dj44OkpCSBNcmoThZpkaGhISIiIuDs7AwfHx94enqK7LVF0Q9NVVWVWc/UHGGawXa0kJAQZtFuamoqUlNTmzxX3B/a1o4wcTgcifxCEXZKpT1a01qnKX/88Qe2bNnS5NohVVVVfPvttwgKCmKthhVp/+ewoz4jHA5HqCRDVlYWBQUFfDXvHj9+zNOoG/jwXdq4unlRURHfJilRF2uOjY2Fl5cXDh48CGVlZWzcuBEmJiaIjIxEdXU1K98/Bw8eRP/+/XHnzh3cuXOH5zFJ/U5siHYXskTQdMebN29QUVEBVVVVng+TqIe3a2trmX5oV69eRV1dXbP90E6ePIm4uDj4+vpi6NChTX7RmJiYIDo6utnCmTk5OXB2duapCC0OZmZmiI+PZyrsN0WUuxi7iqSkJLi6urK6y6el/oMN6enp4bfffmu2KOOLFy9gaWnZZGVsIh737t1DREQEHjx4AFlZWWhra2PhwoXQ19fnOa/hTVRISEiTr8fhcODm5sY8pyXPnj1j+vjp6urCwMCAZ8lFeno69PT0mKKu1dXVyMrKEvhZ8PX1xW+//YbVq1dj1KhR4HK5yMjIQHBwMObPn8/cOAhqGVW//rXxz6L+zH399dewt7eHnZ0d9u7di8uXL+PMmTO4du0atm3bJvZ1eZ0BjWSxRFxV3gWRkZHB1KlTMXXqVJ5+aA01/qBzuVyYm5sLfL36D7owzWA7WsMvB/qi6Fwa9h+8e/cuqqqqcP/+ffj6+vL0H6wnqKhmYz179mR2xRJ2pKenY/HixRgxYgTT2DkzMxPz58/H4cOHedZ1JiQkwM7ODr169eL7LmuoYZLV3HkN1Y94CmrPJChRb2pWYN26dXj//j22bt2KmpoacLlc9OjRA/b29jyjMWxuIHnx4gVzE3rjxg2YmpoC+PDdLqjyvTglJSUxyfbw4cNhbGzcbM0ySUEjWUSghISENveGE6YZrDhNmTIFU6dOxbRp02BkZCQVH1RJxvZIVlv7DwqqF9aYKOodEeHMnz8furq62LJlC89xLy8vPHr0qFUFVYuLi5GWlgYVFRWxb7ZpSn3Tc+BDkU+2CtIKMnnyZOzduxdqamowNTVFREQETExM8Mcff2DHjh2s3KCWlZXB0dGRafhdV1eHt2/f4tNPP0VkZKTY1qq1F41kEYEa9oZrqnhnRUUFjh07xvOc//u//8PcuXObbQbLZoIFAM7Ozrh27RqWLl2KHj16wNTUFFOnToWpqSnf2oiurrVTKmxqa/9BgH+jQWPS3Majs7h3757AxeD29vYCd5r9+OOPiIqKwrFjx6ChoYFbt27BxcUF5eXlAD40rQ8NDWWt1lLDFkr1ZSIatjES9fqq9jA3N8e6devQq1cvqKqqYty4cTh//jy8vb1Z293n7++PyspKnDlzhlnzm5OTg/Xr1+OHH35gpUBqW1CSRQRqb/FOYZrBioudnR3s7OxQWVmJmzdv4urVqwgICMB3330HExMT7N+/n+0QJUZbp1TY0Nb+g4I2GgjC5nsiH4qKvn79GsOGDeM5/vr1a74bvri4OOzfvx+LFi1iRig3btyI3r17Iy4uDvLy8li5ciX279/P2maGlsqOSMKoqbu7O1RVVfH8+XPY2dlBRkYGr1+/ho2NjVCbTYRx+fJlBAcH82yq0tXVxebNm7FmzRpKsoh0am/xzvY2g2WDjIwM5OXloaKigsGDB6OwsJAWOjciDevX2tp/UBreE/kwre/t7Y2goCBmneejR4/g4+PDt87u+PHj8PDwwPz58wF8KKD89OlTrFu3jnnusmXLsHPnTtaSrMZrrWpqavD06VNERkaKdEe5MLp168Z0JqjX+Gdxq6mp4SkQW09ZWVngzZWkoTVZpElpaWlM8c7g4OAmi3e2p8Apm8LDw3Hz5k1kZmaitrYWo0ePhomJCUxMTKCvr09rtKRMR/UfJOwqLS3F4sWLcf/+fSgoKIDD4aCsrAwjRoxAZGQkzy9eAwMDnDx5kll0fuDAAQQFBeHMmTNMU+7nz59j5syZfGUA2Hb16lWEhYWJrEetMOrq6nD27FlkZGSgurqar5UQG8VKFy5ciOHDh+P777/nOe7t7Y179+5JxL9bc2gkizRJkot3CqO+NcW0adOwZMkSfPrpp2yHRIQgLy+P2NhYJCcnIzs7m2lgLmz/QcIuRUVFnDhxAklJScjNzQWXy2V2Ggq6EWo4FZeRkQElJSUmwQI+LDgX9SLzyspK5OXlQU5ODurq6u264dTW1kZ2dnaTj7979w6PHj1CZWUlX9Ij6nY3/v7+iIqKgq6ursT0TV29ejUWLFiAv/76C4aGhuBwOEhPT0dOTg7Cw8PZDq9FNJLFEkG1UJoiCXP1guoQaWlpwdjYmO3Q2iwnJwfJycn4888/kZ6eDnl5eRgbGzN/mqufRAiRPLa2tkwbo7KyMpiamuKrr76Cv78/c05QUBAyMjIQHR0t9PVqa2vh7++P2NhYVFdXA/hQ9sPZ2RnLly9v9Xf727dvsWfPHiQmJuLSpUt8jycmJmL16tV4//49X4LVEXWyjI2NsXLlStjZ2Yn0dYV1+/ZtREZG4uHDh0yyvWjRIowZM4bt0FrUOYYmpJCvry/zQSwoKMCBAwcwb948ptjd7du3cfToUSxbtozlSNteh0jS6erqQldXF4sXL2aKB168eBFeXl6oqalp9q6SSJ68vDxs376dmeJoTBJuUkjrtNSEvKGGa5zs7OywZcsWPHjwALdu3UJVVRWzlujly5f49ddfERERAR8fH5HEuW/fPpw/fx6bN2+Gvr4+6urqkJ6ejpCQENTW1mLVqlV8z2nqxprD4cDb21vgdQIDAzFx4kS4ubmJpVRBZWUlJk2a1OHXaSt9fX2eNZfShJIsljQskeDg4IDNmzfzLC6fNm0atLW1cfjwYTg5ObERIiMwMBCOjo5MHSIA2LFjBxQUFKQyyQI+rD24desW/vzzT9y4cQN37tyBmpqaVL6Xrm7btm0oKCjAunXrhGroTNgnaBT5119/hZmZGfr06dPk8ywsLFBZWYmYmBh069YNe/bswahRowB8WJ8VGxsLFxcXfPPNNyKJ8/jx4/Dz8+PZ+DNy5EgMGDAA3t7eApOshjfW9bp3744xY8Zg8ODBAq/z7Nkz/Pjjj9DQ0BBJ3C2ZNGkSkpKSJGIk6+XLlwgJCcHy5cuhqqrKHN+6dSuqq6vh7u7ebK07SUFJlgS4ffu2wHow+vr6ePToEQsR8bp37x62bdvGd7y5OkSSbNmyZUhLS0NFRQVGjx4NMzMz+Pj4NFupnkiuW7du4fDhw8wNAJFeghZW//bbb1i/fj3U1dWbfW79dGFjLi4ucHNz4ytBI4yqqiqBiZGWlhZTl6uxhjfWraWpqYl//vlHbEmWnp4eAgICkJycDC0tLb41ZuLqE/jy5UvY2tri/fv3mDdvHk+SpaGhgcjISGRkZCAmJkbgzkNJQkmWBBgyZAjOnj3LtHuoFxcXB21tbZai+p+21iGSdLKysvD09GTuQtPT01FaWspyVKS9+vfv3+woB+naBg4cKPLXnD17Nn788Ufs3LmTp2ZXREQEZs2a1eTz/vjjDzx48AC1tbXMsaqqKvz11184fPgwAN6ipba2tvj+++/h6ekJTU3NDm8QHRMTA2VlZWRnZ/MtmxBnM+awsDD0798fhw4d4huddnR0xOzZs7Fw4UKEhYVh06ZNYompvSjJkgCrVq3CqlWrkJycDD09PXC5XGRmZuL+/fsSsXuirXWIJFVTFaHrE0gTExNWK0KT9nFwcMDu3bsRGBhI04WkwzRcL1ZbW4uMjAykpaVBT08PMjIyyM7ORmFhIaZOnSrw+UFBQdi/fz8GDBiAf/75BwMHDsSrV69QW1vL0xe2cdFSLpcLFxcXsTSIlpQacomJicySFEGUlJSwevVq+Pv7U5JFWvbll1/il19+QXR0NK5fvw7gw/z+9u3bBfYAFLcNGzbA2dkZEyZMAJfLhZWVFf7991+MHDkS3333HdvhtYo0VIQm7ZOYmIisrCyMHz8eysrKfNXAL1++zFJkpDNpvF5syJAhPD+PGzeu2eefPn0amzdvhp2dHSZPnoyjR4+id+/ecHNz45kKFXeD6KYq0cvKyqJfv37Q09PD4sWLxbrr+tWrVy1Okero6KCoqEhMEbUfJVkSwtDQEIaGhmyHIVBTdYhMTU1bvVWZbdJQEZq0z/jx4zF+/Hi2wyCdnLCFOF+9esUsUdDV1cXt27cxY8YMrFmzBp6ensz3TuNk7fHjxygvL4e+vj6AD303J0+ezNduqL3mzJkj8Hu8rq4OJSUlSE1NxZkzZxAXF4ehQ4eK5JotUVFRQX5+frPToYWFhSJdZ9dRKMmSEImJiYiIiMCTJ08QFxeH+Ph4DBkyBLNnz2Ylnpa2UiclJSEiIgIcDodZSyDJHj9+jAkTJjA/37x5ExwOh2d3kLa2Ns96CCIdxLVOhHS8jRs38h2rrq5GYGAg37o7NqqPN1RcXIy8vDzU1dUB+DCFV7++qvH6WuBDcdX6RfEaGhrMpqaPP/64yRGZpKQkuLm5wdHRkUmyzp8/j+DgYISHh+Ozzz4T+n20pifh2rVrERwcjN27dwt9vdYwNTXFoUOHmi22eujQIYwdO1Ys8QiDkiwJcOPGDaxYsQLm5ubIyspCXV0damtrsWnTJtTW1sLa2lrsMbU0NJyeno7nz59LTFXg1mCjIjQRj4yMDIGtQDgcjsBfeEQyvXjxgu+YgYEB3rx5gzdv3rAQkWDnzp3Dpk2bUFlZyfR3rf9+UVNTE/h/zsTEBAEBAdixYwdGjRqFsLAwzJ8/HxcvXmxyh1xQUBCcnZ15SkKcOHECQUFB2LVrl9h2d9vb2wssS9FRnJ2dMXv2bKxevRpubm4839M5OTkIDQ3FjRs3pGJ3OyVZEiA4OBju7u5YtGgRLl68CABYs2YN+vbti8jISFaSrKbuEt++fYudO3fi+fPnmDBhgsDSE5JIR0cHaWlp0NDQQFlZGVJSUvDVV1/xnHPhwgWeTu9EOhw4cAC7d++GoqIi32gHJVnS5ciRI2yH0CphYWGYNWsWXFxcYGNjg4MHD+Lly5fw8vJqcmRo/fr1WLJkCS5evIj58+cjMjISEydOBAB4eHgIfM6TJ0+wd+9evuNz584V69otVVVVse7AVlNTw/79+7Fu3TpYWlqiV69e6Nu3L0pLS/H+/XuoqakhLCwMOjo6YoupvSjJkgAPHjxAQEAA3/Hp06dj3759LEQk2I0bN7B582aUlZXBy8sL8+bNYzukVhN3RWgiPtHR0Vi2bBmtpSNi8/TpU+zduxeampoYOXIkiouLYWZmhpqaGoSFhQksejpw4ECcOnUKlZWVkJOTw9GjR5GUlISBAwcyU4GNKSkpITs7m69GWG5urlgqwNcrLCwUez0qQ0ND/Pbbb7h69Sru3r2LkpISKCkpwcDAABMmTGhXn0g2UJIlARQUFFBUVMS3WyU3NxeKioosRfU/5eXl2LlzJ44fPw4TExP4+PiIvD5LRxN3RWgiPqWlpaytXSRdU48ePZhf8pqamsjNzYWpqSlGjRqFZ8+etfjc4uJipKenQ1lZuckEC/iwKN3LywtlZWXQ19cHh8PBnTt3sGfPHsyZM0ek76kpVVVVCAsLg4mJiViu15CcnBymT5+O6dOni/3aokJJlgSwsLCAj48PfHx8wOFwUF5ejsTERHh7e2PmzJmsxlY/elVaWopt27bB1taW1XiEIc6K0ER8xo4dizt37oitKjYh+vr6iI2Nxfr166GtrY0rV67AyckJjx494hthaVyfLzMzE66urq2qz7d8+XK8efMG27dvR01NDbhcLmRlZeHg4CCyNVKCNhsAHxbyl5WV4fbt2+BwODh27JhIrtfVcLiNW3sTsauuroaHhwfOnTsHAMxCysmTJ2PPnj2sFMcsLy+Hv78/z+jVoEGDxB4HIS05fvw4AgMDYWVlhWHDhvHVyaJRLiJqGRkZcHJywsqVK2FlZYUZM2ZARUUFf//9N2bOnMmsVY2Li4OPjw8WLVoEV1dXyMvLY8aMGaioqEBkZCRTn2/ixInNTneXl5cjLy8PsrKy0NTUFOnvhPplE411794dioqK0NPTg7W1tUTMqkgjSrIkyLNnz3D//n2mDpW2tjbPrhVxMjMzw99//w11dXVYWlo2ey5toSdsaq5gb0dUxSaEy+Xi5cuXqKqqgrq6Op48eYKjR49i0KBBcHBwYBL9uXPnwsrKiqc+n42NDdatWwdnZ2cAwJUrV7Bz505m05MgaWlpePz4MWbNmoXCwkJoaGhIzZqkro6mCyXA1KlTER8fDw0NDZ4pj6KiIlhaWiIlJYWVuAYNGoSamhokJCQ0eY44+1kRIkhOTg7bIZAuxtraGr6+vkyCP2zYMHz//fd85wlbn+/t27dwdnZGVlYWOBwOJk6ciF27duHp06c4dOgQT+NkIpkoyWLJ+fPnkZSUBADIz8/H9u3b0aNHD55z8vPzWauoLik9rAgRRkFBgdRt0iCSLz8/H717927VucLU56sv/nnp0iVmRuG7777DunXrEBAQILbioGzLz8/HX3/9haqqKr7HJH05ACVZLDEwMEBsbCxTOLGgoIBn+JfD4aB3797w9/dnK0RCpMKLFy/g7++PBw8eoLa2FsD/qm8XFxcjOzub5QhJZ+Pi4gJPT084OTlhyJAhfGuk6hN7YevzXblyBT/88ANPCYdhw4Zh69atWLp0qYjflWSKj4/Hli1bmM92QxwOh5IsItigQYOYYnIODg4ICQmhhYWEtMOOHTuQl5eHr7/+GhEREXB0dEReXh4uXbqE7du3sx0e6YR27doF4MNaqYYjVfVraOvXAQpbn6+4uBgfffQR33F5eXm8e/dO1G9LIoWGhsLKygobNmyQqg4j9SjJkgDSUuWYEEmUnp6O0NBQGBkZ4dq1a5g2bRr09fURFBSExMRE2NjYsB0i6WRaW21d2Pp8enp6OH/+PJYsWcJ3/U8++US4NyElXr58CUdHR6lMsABKslgzcuRIXL9+HcrKytDV1W127RXtjiKkaZWVlRg8eDCAD1MpDx48gL6+PmbPnt3k9nRChDFu3DiBxwsLC3Hs2DGex4Wpz7d27VosXrwYt27dQk1NDUJDQ/Ho0SNkZ2cjIiJC+DciBXR1dfHs2TMMHTqU7VDahZIslvj6+kJBQYH5O1sL3AmRdurq6nj48CEGDRoETU1N5qakrq4O5eXlLEdHuoJr164hNjYWiYmJ4HK5rSoUOnDgwBbPMTQ0RFxcHA4ePAgNDQ1kZWVh+PDh8PT0xOjRo0URusRzdHSEl5cXnj9/LrAOnpGREUuRtQ7VySKESLWff/4Z4eHh2LlzJ5SVleHg4ICVK1fixo0bePfuHWJjY9kOkXRCxcXFOHHiBI4dO4b8/HzIysrCwsICjo6O0NbW7tBrV1dXIysrS+ITDFGQ9jp4NJIlAerq6nD27FlkZGSguroaDfNeDocDX19fFqMjRLI5OztDVlYWHA4H+vr6WLFiBUJDQzFo0CCBjdcJEUZaWhpiYmJw6dIlVFdXQ0tLCxwOB9HR0SIfXRo5ciRWrFgBNzc3nuOlpaVYsGCBxCcYonD58mW2QxAKjWRJAD8/P0RFRUFXV1fg4j5aGE8IIew6cuQIYmNj8fjxYwwePBgzZ86Eubk5dHR08Omnn+L06dMiH8HS1dVFr169YGZmBj8/P2aq7NWrV/j888+7fCHe9+/fs9J2ri1oJEsCnD59Gt9//z3s7OzYDoUQqZSSkoK7d+/i/fv3aHzfSB0JiCj4+Phg2LBhCA0NxZQpU8RyTQ6Hg/DwcHh6emLBggX48ccfoayszDzWFZSWliI0NJSvDl51dTVyc3ORkZHBcoTN68Z2AOTD7qhJkyaxHQYhUunAgQNYuHAhwsLCEB8fj4SEBObPyZMn2Q6PdBJLlixBRUUFli9fDktLS/z00094+vRph16Ty+Vi6NChiI2NhYyMDObOnYucnBx069Z1fnVv374dp06dgrKyMtLT0zFw4ECUl5cjKyuLr7SFJKKRLAkwadIkJCUl0UgWIe1w5MgRfPvtt1i2bBnboZBObM2aNVi9ejWSkpKQkJCAsLAwBAcHQ1dXF1wut0N2staPVvXv3x+RkZHw9PTE/PnzsWPHDpFfS1Jdv34dAQEB+OKLL5CTkwMnJyfo6upi8+bNePToEdvhtYiSLAmgp6eHgIAAJCcnQ0tLi6+7Ok13ENK0srIyWFhYsB0G6QI4HA5MTU1hamqK0tJS/Prrr0hISEBdXR3s7e0xY8YM2Nvbi2wBfMOpbzk5OQQGBiIkJATr168XyetLg/LycqbtkJaWFnJycqCrqwt7e3u4urqyHF3LKMmSADExMVBWVkZ2djZfnzUOh0NJFiHNGDt2LG7dusUUJCVEHBQVFWFvbw97e3vk5OTgxIkTOHfuHM6ePSuyXX8rVqzga0S9YsUKaGho4NixYyK5hqQbNGgQ8vPzmTp49Yv9e/XqhdLSUpajaxntLiSESJ1Tp04xf3/y5Amio6NhZ2cHTU1NyMjI8Jwr6Q1kSedRXV2NK1euYPr06UK/1rt379CjRw+e9Ve5ublQU1PjS7w6sx9++AHnzp1DQEAAqqursXr1anh5eeH3339Hbm4uTp8+zXaIzaIkixAidZorUNiQNBQrJKSxU6dOwc/PDz///DP09PSY405OTvjrr7/g7e2Nr7/+msUIxaeqqgqBgYHQ19eHhYUFtm3bhtjYWCgoKGDfvn0wMTFhO8RmUZLFEjMzM4FbcGVlZdGvXz/o6elh0aJFNAVCCCFdSHJyMpycnGBlZYXVq1dDRUWFeezZs2cIDw/HyZMncfjwYXz22WcsRsqekpISKCgo8I1aSyJKslgSHBwsMMmqq6tDSUkJ0tPTUVhYiLi4OKltjElIR3v37h169uzJ81nqilMqpPOob8uzadOmJs/x9PREUVERfv75ZzFGxp6XL1/i2LFjePLkCTw9PZGamooRI0ZAS0uL7dBaREmWBFu7di0AYPfu3SxHQojkoSkV0hkZGxsjKiqK2VEnyN27d+Hq6oo///xTjJGx49mzZ7CxsYG8vDyKiopw4cIFBAYGIikpCRERETA0NGQ7xGbR7kIJZm9v36pu7oR0NcnJydi0aROsrKwwaNAgnse2bNmC8PBwrFu3Dh999FGXnVIhoqWrq9vqKuvCrAOsqqpqsVWMoqIi3r9/3+5rSJOdO3di2rRp2LFjB5NQBQUFwcPDA7t370Z0dDTLETaPkiwJpqqqKhVbVAkRt/DwcNjb2wucUtHQ0MCOHTvA5XIRFhbWZaZUSMfy9fVlkqyCggIcOHAA8+bNg4GBAbp3747bt2/j6NGjQhfFHTp0KG7duoUhQ4Y0eU5mZibU1NSEuo60uHXrFqKjo3kSXBkZGSxduhQ2NjYsRtY6lGRJsMLCQigpKbEdBiESJzs7Gx4eHs2e89///lcqihUS6WBlZcX83cHBAZs3b8bcuXOZY9OmTYO2tjYOHz4MJyendl/H0tKS2TU3YMAAvsdfvnyJvXv3wtraut3XkCa1tbWoq6vjO/727VupWPjedRogSZmqqiqEhYVJ/PZUQthAUyqETbdv34aRkRHfcX19faFbvdjb20NVVRXm5ubw9/fHxYsXkZycjAsXLsDPzw/m5uZQUlISKpGTJp9//jlCQ0OZ5tAA8ObNGwQGBsLY2JjFyFqHRrJYsnHjRoHHuVwuysrKcPv2bXA4nC5T1ZeQtqApFcKmIUOG4OzZs3Bzc+M5HhcXB21tbaFeW0ZGBpGRkdi3bx+OHz+OyMhI5jEVFRXMnz8fy5Yta/Emo7Pw8PDAggULMGHCBFRWVmLZsmXIz89Hv3794O/vz3Z4LaLdhSxxcHAQeLx79+5QVFSEnp4erK2toaioKObICJF8hw8fRlRUFGJiYpqcUrG1tYW1tTXfL0JChHXp0iWsWrUKY8eOhZ6eHrhcLjIzM3H//n2Eh4eLbISlpqYGz58/R2lpKZSUlKCurt7qxfedybt375h2RXV1dRg+fDi++eYbyMvLsx1aiyjJIoRIndraWixYsAAPHz7E3LlzMWbMGPTt2xclJSXIyspCQkICNDQ0EB0d3WXu+Il4ZWZmIjo6Grm5uQCAkSNHwtHRsdXdCEjbVFRUIC8vDzIyMhg6dCh69OjBdkitQkkWIUQqVVVVMVMqDXfhqqiowNrauktNqRDSWVVXV8PX1xfx8fGorq4GAPTs2RMLFizAmjVrWI6uZZRkEUKkGk2pEDYkJiYiIiICT548QVxcHOLj4zFkyBBqSC5i/v7+OHXqFL799luMGTOGmZoNDg7GokWLsHTpUrZDbBYtfCeESDVZWVlqPUXE6saNG1ixYgXMzc2RlZWFuro61NbWYtOmTaitre0y5RXE4fTp0/D19cWUKVOYYyNHjsSAAQPg4+Mj8UkWlXAghBBC2iA4OBju7u7YuXMnU6tpzZo1cHd359kNSIRXVVUlcBexlpaWVBTrpiSLEEIIaYMHDx7AzMyM7/j06dPx/PlzFiLqvKytrbF3715UVVUxx7hcLg4dOgRLS0sWI2sdmi4khBBC2kBBQQFFRUV8Iyy5ublUdkfEXr16hStXrsDMzAz6+vqQlZVFdnY28vPzMXr0aCxYsIA5NyoqisVIBaMkixBCCGkDCwsL+Pj4wMfHBxwOB+Xl5UhMTIS3tzdmzpzJdnidipycHGbNmsVzzMjISGDFfUlEuwsJIYSQNqiuroaHhwfOnTsHAOBwOOByuZg8eTL27NlDpUMIg5IsQgghpB2ePXvGVCEfMWIEtLW1weVyqYSIiBUWFuKXX37BgwcPICsri+HDh2PevHn4+OOP2Q6tRZRkEUIIIW0wdepUxMfHo1+/fjzHi4qKYGlpiZSUFHYC64QePnwIe3t79OzZE/r6+qitrcXdu3fx7t07xMTEYPjw4WyH2CxKsgghhJAWnD9/HklJSQCAkydPYubMmXytXfLz8/Hw4UPcvHmTjRA7JWdnZ/Tu3Ru7du2CnJwcAKCyshLr169HZWUl9u/fz3KEzaOF74QQQkgLDAwMEBsbi/pxiYKCAnTv3p15nMPhoHfv3vD392crxE4pIyMDcXFxTIIFAD169MDy5cthb2/PYmStQ0kWIYQQ0oJBgwYxJQIcHBwQEhJC5RrEoE+fPjw1suoJOiaJqBgpIYQQ0gZHjhyhBEtMjI2NERAQgJKSEuZYcXExdu3aBWNjY/YCayVak0UIIYS0YOTIkbh+/TqUlZWhq6vb7A7C+/fvizGyzq2wsBC2trYoLS2FpqYmOBwO8vLy0LdvX0RHR0NdXZ3tEJtFSRYhhBDSgpMnT8Lc3BxycnJISEhoNsmaM2eOGCPr3LhcLioqKnD69Gnk5uaCy+VixIgRsLCwgIKCAtvhtYiSLEIIIYRIJCsrK/j6+kJXV5ftUNqFFr4TQgghbVBXV4ezZ88iIyMD1dXVaDhWweFw4Ovry2J0nUt+fj569+7NdhjtRkkWIYQQ0gb+/v6IioqCrq4u5OXl2Q6nU3NxcYGnpyecnJwwZMgQvpZFkl71naYLCSGEkDYwNjbGypUrYWdnx3YonV7DacKG6+Dq2xdJ+iYDGskihBBC2qCyshKTJk1iO4wuob42mbSikSxCCCGkDVatWoXx48fTSBZpEY1kEUIIIW2gp6eHgIAAJCcnQ0tLi6e9DgCsWLGCpcg6n40bNzb7uJ+fn5giaR9KsgghhJA2iImJgbKyMrKzs5Gdnc3zGIfDoSRLhF68eMHzc01NDZ4/f47y8nLMnDmTpahaj6YLCSGEECI1uFwutm7div79+2PNmjVsh9Ms6l1ICCGEEKnB4XDg6OiIEydOsB1Ki2i6kBBCCGmBmZmZwFY6srKy6NevH/T09LBo0SIMHjyYhei6nlevXqGiooLtMFpESRYhhBDSgjlz5ghMsurq6lBSUoLU1FScOXMGcXFxGDp0KAsRdk4hISF8x/7991+cO3cOEydOZCGitqE1WYQQQogIrF27FgCwe/duliPpPMzMzPiOde/eHYaGhli7di0++ugjFqJqPUqyCCGEEBHIzMzEqlWrcP36dbZDIRKCFr4TQgghIqCqqorS0lK2w5B6r1+/bvGcqqoqnD9/XgzRCIeSLEIIIUQECgsLoaSkxHYYUu/zzz/nS7Tc3d15jpWVlcHd3V3cobUZJVmEEEKIkKqqqhAWFgYTExO2Q5F6glYx/fHHH3y7CaVhtRPtLiSEEEJa0FR7Fy6Xi7KyMty+fRscDgfHjh0Tc2Rdl6DdnpKGkixCCCGkBY3bu9Tr3r07FBUV4ejoCGtraygqKoo5MiLJKMkihBBCWnDkyBG2QyBSiNZkEUIIIUSiSMNUYGvQSBYhhBBCJMqOHTvQo0cP5ufq6moEBgaiT58+AIDKykq2QmsTKkZKCCGEEInh4ODQ6nMlfRqXkixCCCGEkA5Aa7IIIYQQQjoAJVmEEEIIIR2AkixCCCGEkA5ASRYhhEgIWiJLSOdCJRwIIV3OnTt3EBUVhbS0NBQXF+Ojjz6CiYkJlixZAnV1dVZiunz5Mi5evIiAgABWrk8IET0aySKEdCm//PILbG1t8fr1a7i7uyM8PBxLly5FWloarK2tce/ePVbiOnToEP7++29Wrk0I6RhUwoEQ0mVkZGTAwcEBdnZ28PT05HmsuLgYVlZW6Nu3L86cOSP22OprA0l63R9CSOvRSBYhpMuIiIiAgoIC1q5dy/eYkpISPDw8MH36dLx9+xYAcP78eVhZWcHAwAATJ07Eli1bUFpayjwnODgYOjo6fK+lo6OD4OBgAB8aC+vo6ODChQtYtWoVDAwMYGRkBE9PT5SXlwP4kGClpqYiNTUVOjo6SElJQUpKCnR0dBAbG4spU6ZgwoQJ+P3336Gjo4Pr16/zXC8rKws6OjpITU0V2b8VIUR4lGQRQroELpeL69evw8TEBL169RJ4zowZM7BixQrIy8vjp59+wpo1azB69Gjs27cPbm5uuHjxIhwcHPD+/fs2X3/r1q1QU1PDTz/9BGdnZ8THxyMsLIx57JNPPsEnn3yCuLg4fPrpp8zzgoKCsGHDBmzYsAHjx4/HwIEDcfr0aZ7XPnnyJNTV1WFkZNTmuAghHYcWvhNCuoQ3b96gsrISgwcPbvHc0tJShIaG4j//+Q+2bt3KHB8xYgTs7OyQkJCA+fPnt+n6X3zxBTZs2AAAMDExwY0bN3D16lW4u7tDW1sb8vLyAIAxY8bwPM/W1hYzZsxgfp49ezaOHDmC8vJy9OnTB1VVVbhw4QIWLlzYaZrqEtJZ0EgWIaRL6Nbtw9ddbW1ti+dmZWWhqqoKFhYWPMc/++wzqKmpISUlpc3Xb5w8qaqqoqKiosXnNZ6OtLa2xrt373Dp0iUAwO+//46ysjLMnj27zTERQjoWJVmEkC6hX79+6NOnDwoKCpo8p6KiAiUlJcy6KxUVFb5zVFRU8O+//7b5+o2nKLt169aquljKyso8P2toaMDIyAinTp0CAJw6dQrGxsZQU1Nrc0yEkI5FSRYhpMv4/PPPkZKSgsrKSoGPJyQkwMTEhCml8OrVK75z/vnnH/Tv3x8AmOm5hqNj9YvZO5K1tTVSUlKQl5eHGzduwMrKqsOvSQhpO0qyCCFdhqOjI0pKShAUFMT32OvXr/Hzzz9DQ0MDNjY2kJOTw6+//spzTnp6OgoKCmBoaAgAzDqqhvWtMjMz2xVb/XRma3z11Vfo3bs3tmzZgp49e2L69OntuiYhpGPRwndCSJcxZswYfPvtt9izZw8eP36MOXPmoH///sjNzcXBgwdRXl6OAwcOoH///nB1dUVISAi6d++OqVOn4sWLF9i7dy+0tbWZkaMvvvgCfn5+2Lx5M1xcXFBYWIiQkBD06dOnzbH17dsXt27dQnJyMj755JNmz+3VqxfMzc0RFxcHGxsb9OzZs13/HoSQjkUjWYSQLmXZsmU4cOAAOBwO/Pz84OrqiiNHjsDU1BSnT5/GiBEjAAArV67Etm3bkJqaiqVLlyIkJAQzZszA0aNHmfVVQ4cOhb+/PwoKCuDq6orDhw/D29sbAwYMaHNcdnZ26N69O1xcXHDt2rUWz58yZQoA0FQhIRKMKr4TQogU2rZtGzIyMvimNAkhkoOmCwkhRIpERUXhyZMniIuLg5+fH9vhEEKaQUkWIYRIkfT0dCQlJcHBwYFqYxEi4Wi6kBBCCCGkA9DCd0IIIYSQDkBJFiGEEEJIB6AkixBCCCGkA1CSRQghhBDSASjJIoQQQgjpAJRkEUIIIYR0AEqyCCGEEEI6ACVZhBBCCCEdgJIsQgghhJAO8P/g+9pJrp7EPQAAAABJRU5ErkJggg==",
      "text/plain": [
       "<Figure size 640x480 with 1 Axes>"
      ]
     },
     "metadata": {},
     "output_type": "display_data"
    }
   ],
   "source": [
    "sns.violinplot(x='Country', y='UnitPrice', data=df,cut=0)\n",
    "\n",
    "plt.xticks(rotation=90)\n",
    "plt.show()"
   ]
=======
   "execution_count": null,
   "metadata": {},
   "outputs": [],
   "source": []
  },
  {
   "cell_type": "code",
   "execution_count": null,
   "metadata": {},
   "outputs": [],
   "source": []
>>>>>>> e5be8a2d4ce62d3b254f9d7662908386d4b1154d
  },
  {
   "cell_type": "code",
   "execution_count": null,
   "metadata": {},
   "outputs": [],
   "source": []
  },
  {
   "cell_type": "code",
   "execution_count": null,
   "metadata": {},
   "outputs": [],
   "source": []
  },
  {
   "cell_type": "code",
   "execution_count": null,
   "metadata": {},
   "outputs": [],
   "source": []
  },
  {
   "cell_type": "code",
   "execution_count": null,
   "metadata": {},
   "outputs": [],
   "source": []
  },
  {
   "cell_type": "code",
   "execution_count": null,
   "metadata": {},
   "outputs": [],
   "source": []
  },
  {
   "cell_type": "code",
   "execution_count": null,
   "metadata": {},
   "outputs": [],
   "source": []
  },
  {
   "cell_type": "code",
   "execution_count": null,
   "metadata": {},
   "outputs": [],
   "source": []
  },
  {
   "cell_type": "code",
   "execution_count": null,
   "metadata": {},
   "outputs": [],
   "source": []
  },
  {
   "cell_type": "code",
   "execution_count": null,
   "metadata": {},
   "outputs": [],
   "source": []
  },
  {
   "cell_type": "code",
   "execution_count": null,
   "metadata": {},
   "outputs": [],
   "source": []
  },
  {
   "cell_type": "markdown",
   "metadata": {},
   "source": [
    "## 4. Summarizing Data"
   ]
  },
  {
   "cell_type": "code",
   "execution_count": null,
   "metadata": {},
   "outputs": [],
   "source": []
  },
  {
   "cell_type": "code",
   "execution_count": null,
   "metadata": {},
   "outputs": [],
   "source": []
  },
  {
   "cell_type": "code",
   "execution_count": null,
   "metadata": {},
   "outputs": [],
   "source": []
  },
  {
   "cell_type": "code",
   "execution_count": null,
   "metadata": {},
   "outputs": [],
   "source": []
  },
  {
   "cell_type": "code",
   "execution_count": null,
   "metadata": {},
   "outputs": [],
   "source": []
  },
  {
   "cell_type": "code",
   "execution_count": null,
   "metadata": {},
   "outputs": [],
   "source": []
  },
  {
   "cell_type": "code",
   "execution_count": null,
   "metadata": {},
   "outputs": [],
   "source": []
  },
  {
   "cell_type": "code",
   "execution_count": null,
   "metadata": {},
   "outputs": [],
   "source": []
  },
  {
   "cell_type": "code",
   "execution_count": null,
   "metadata": {},
   "outputs": [],
   "source": []
  },
  {
   "cell_type": "code",
   "execution_count": null,
   "metadata": {},
   "outputs": [],
   "source": []
  },
  {
   "cell_type": "code",
   "execution_count": null,
   "metadata": {},
   "outputs": [],
   "source": []
  },
  {
   "cell_type": "markdown",
   "metadata": {},
   "source": [
    "## Any other type of analysis/question you want to explore with this dataset.\n",
    "\n",
    "<u>Why?</u>: Sometimes undergraduate students will put the research projects that they did for their classes on their resumes when applying for graduate schools, internships, and jobs. If you're interested in showcasing cool analyses to write on your resume, this section could help with that. **(This section is not worth any points though).**"
   ]
  },
  {
   "cell_type": "code",
   "execution_count": null,
   "metadata": {},
   "outputs": [],
   "source": []
  },
  {
   "cell_type": "code",
   "execution_count": null,
   "metadata": {},
   "outputs": [],
   "source": []
  },
  {
   "cell_type": "code",
   "execution_count": null,
   "metadata": {},
   "outputs": [],
   "source": []
  },
  {
   "cell_type": "code",
   "execution_count": null,
   "metadata": {},
   "outputs": [],
   "source": []
  },
  {
   "cell_type": "code",
   "execution_count": null,
   "metadata": {},
   "outputs": [],
   "source": []
  },
  {
   "cell_type": "code",
   "execution_count": null,
   "metadata": {},
   "outputs": [],
   "source": []
  },
  {
   "cell_type": "code",
   "execution_count": null,
   "metadata": {},
   "outputs": [],
   "source": []
  },
  {
   "cell_type": "code",
   "execution_count": null,
   "metadata": {},
   "outputs": [],
   "source": []
  },
  {
   "cell_type": "code",
   "execution_count": null,
   "metadata": {},
   "outputs": [],
   "source": []
  },
  {
   "cell_type": "markdown",
   "metadata": {},
   "source": [
    "## 5. Conclusion"
   ]
  },
  {
   "cell_type": "markdown",
   "metadata": {},
   "source": []
  }
 ],
 "metadata": {
  "kernelspec": {
   "display_name": "Python 3 (ipykernel)",
   "language": "python",
   "name": "python3"
  },
  "language_info": {
   "codemirror_mode": {
    "name": "ipython",
    "version": 3
   },
   "file_extension": ".py",
   "mimetype": "text/x-python",
   "name": "python",
   "nbconvert_exporter": "python",
   "pygments_lexer": "ipython3",
<<<<<<< HEAD
   "version": "3.11.5"
=======
   "version": "3.8.11"
>>>>>>> e5be8a2d4ce62d3b254f9d7662908386d4b1154d
  }
 },
 "nbformat": 4,
 "nbformat_minor": 4
}
