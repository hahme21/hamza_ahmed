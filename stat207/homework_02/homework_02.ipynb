{
 "cells": [
  {
   "cell_type": "markdown",
   "id": "e746da0e",
   "metadata": {},
   "source": [
    "# STAT 207 Homework 2 [25 points]\n",
    "\n",
    "## Understanding Data and Asking Questions"
   ]
  },
  {
   "cell_type": "markdown",
   "id": "6fef820a",
   "metadata": {},
   "source": [
    "Due: Friday, January 26, end of day (11:59 pm CT)*\n",
    "\n",
    "*Late Submissions: accepted until Thursday, February 1 at 11:59 pm\n",
    "<hr>"
   ]
  },
  {
   "cell_type": "markdown",
   "id": "c4d94493",
   "metadata": {},
   "source": [
    "## Set Up the Data\n",
    "\n",
    "First, we'll set up the file so that we can complete our data analysis.  We'll import Python packages including pandas, which helps when analyzing a dataset, and visualization packages.  We'll also load in our data and save it as `df` for later analysis."
   ]
  },
  {
   "cell_type": "code",
   "execution_count": 14,
   "id": "25c92b96",
   "metadata": {},
   "outputs": [],
   "source": [
    "import pandas as pd\n",
    "import matplotlib.pyplot as plt\n",
    "import seaborn as sns\n",
    "sns.set()"
   ]
  },
  {
   "cell_type": "code",
   "execution_count": 15,
   "id": "4d76075c",
   "metadata": {},
   "outputs": [],
   "source": [
    "df = pd.read_csv('Billionaire.csv')"
   ]
  },
  {
   "cell_type": "markdown",
   "id": "ac088395",
   "metadata": {},
   "source": [
    "We'll work with a data set about the world's billionaires from 2021 (https://www.forbes.com/real-time-billionaires/#49c85f6e3d78).  This data is contained in the \"Billionaire.csv\" file located in the same folder.\n",
    "\n",
    "We've read this data in above."
   ]
  },
  {
   "cell_type": "markdown",
   "id": "f4baf91a",
   "metadata": {},
   "source": [
    "## 1. Understanding the Billionaires Data [1 point]\n",
    "\n",
    "Display the first several lines of the data frame."
   ]
  },
  {
   "cell_type": "code",
   "execution_count": 16,
   "id": "ad953733",
   "metadata": {},
   "outputs": [
    {
     "data": {
      "text/html": [
       "<div>\n",
       "<style scoped>\n",
       "    .dataframe tbody tr th:only-of-type {\n",
       "        vertical-align: middle;\n",
       "    }\n",
       "\n",
       "    .dataframe tbody tr th {\n",
       "        vertical-align: top;\n",
       "    }\n",
       "\n",
       "    .dataframe thead th {\n",
       "        text-align: right;\n",
       "    }\n",
       "</style>\n",
       "<table border=\"1\" class=\"dataframe\">\n",
       "  <thead>\n",
       "    <tr style=\"text-align: right;\">\n",
       "      <th></th>\n",
       "      <th>Name</th>\n",
       "      <th>NetWorth</th>\n",
       "      <th>Country</th>\n",
       "      <th>Source</th>\n",
       "      <th>Rank</th>\n",
       "      <th>Age</th>\n",
       "      <th>Industry</th>\n",
       "    </tr>\n",
       "  </thead>\n",
       "  <tbody>\n",
       "    <tr>\n",
       "      <th>0</th>\n",
       "      <td>Jeff Bezos</td>\n",
       "      <td>$177 B</td>\n",
       "      <td>United States</td>\n",
       "      <td>Amazon</td>\n",
       "      <td>1</td>\n",
       "      <td>57.0</td>\n",
       "      <td>Technology</td>\n",
       "    </tr>\n",
       "    <tr>\n",
       "      <th>1</th>\n",
       "      <td>Elon Musk</td>\n",
       "      <td>$151 B</td>\n",
       "      <td>United States</td>\n",
       "      <td>Tesla, SpaceX</td>\n",
       "      <td>2</td>\n",
       "      <td>49.0</td>\n",
       "      <td>Automotive</td>\n",
       "    </tr>\n",
       "    <tr>\n",
       "      <th>2</th>\n",
       "      <td>Bernard Arnault &amp; family</td>\n",
       "      <td>$150 B</td>\n",
       "      <td>France</td>\n",
       "      <td>LVMH</td>\n",
       "      <td>3</td>\n",
       "      <td>72.0</td>\n",
       "      <td>Fashion &amp; Retail</td>\n",
       "    </tr>\n",
       "    <tr>\n",
       "      <th>3</th>\n",
       "      <td>Bill Gates</td>\n",
       "      <td>$124 B</td>\n",
       "      <td>United States</td>\n",
       "      <td>Microsoft</td>\n",
       "      <td>4</td>\n",
       "      <td>65.0</td>\n",
       "      <td>Technology</td>\n",
       "    </tr>\n",
       "    <tr>\n",
       "      <th>4</th>\n",
       "      <td>Mark Zuckerberg</td>\n",
       "      <td>$97 B</td>\n",
       "      <td>United States</td>\n",
       "      <td>Facebook</td>\n",
       "      <td>5</td>\n",
       "      <td>36.0</td>\n",
       "      <td>Technology</td>\n",
       "    </tr>\n",
       "    <tr>\n",
       "      <th>5</th>\n",
       "      <td>Warren Buffett</td>\n",
       "      <td>$96 B</td>\n",
       "      <td>United States</td>\n",
       "      <td>Berkshire Hathaway</td>\n",
       "      <td>6</td>\n",
       "      <td>90.0</td>\n",
       "      <td>Finance &amp; Investments</td>\n",
       "    </tr>\n",
       "    <tr>\n",
       "      <th>6</th>\n",
       "      <td>Larry Ellison</td>\n",
       "      <td>$93 B</td>\n",
       "      <td>United States</td>\n",
       "      <td>software</td>\n",
       "      <td>7</td>\n",
       "      <td>76.0</td>\n",
       "      <td>Technology</td>\n",
       "    </tr>\n",
       "    <tr>\n",
       "      <th>7</th>\n",
       "      <td>Larry Page</td>\n",
       "      <td>$91.5 B</td>\n",
       "      <td>United States</td>\n",
       "      <td>Google</td>\n",
       "      <td>8</td>\n",
       "      <td>48.0</td>\n",
       "      <td>Technology</td>\n",
       "    </tr>\n",
       "    <tr>\n",
       "      <th>8</th>\n",
       "      <td>Sergey Brin</td>\n",
       "      <td>$89 B</td>\n",
       "      <td>United States</td>\n",
       "      <td>Google</td>\n",
       "      <td>9</td>\n",
       "      <td>47.0</td>\n",
       "      <td>Technology</td>\n",
       "    </tr>\n",
       "    <tr>\n",
       "      <th>9</th>\n",
       "      <td>Mukesh Ambani</td>\n",
       "      <td>$84.5 B</td>\n",
       "      <td>India</td>\n",
       "      <td>diversified</td>\n",
       "      <td>10</td>\n",
       "      <td>63.0</td>\n",
       "      <td>Diversified</td>\n",
       "    </tr>\n",
       "    <tr>\n",
       "      <th>10</th>\n",
       "      <td>Amancio Ortega</td>\n",
       "      <td>$77 B</td>\n",
       "      <td>Spain</td>\n",
       "      <td>Zara</td>\n",
       "      <td>11</td>\n",
       "      <td>85.0</td>\n",
       "      <td>Fashion &amp; Retail</td>\n",
       "    </tr>\n",
       "    <tr>\n",
       "      <th>11</th>\n",
       "      <td>Francoise Bettencourt Meyers &amp; family</td>\n",
       "      <td>$73.6 B</td>\n",
       "      <td>France</td>\n",
       "      <td>L'Oréal</td>\n",
       "      <td>12</td>\n",
       "      <td>67.0</td>\n",
       "      <td>Fashion &amp; Retail</td>\n",
       "    </tr>\n",
       "    <tr>\n",
       "      <th>12</th>\n",
       "      <td>Zhong Shanshan</td>\n",
       "      <td>$68.9 B</td>\n",
       "      <td>China</td>\n",
       "      <td>beverages, pharmaceuticals</td>\n",
       "      <td>13</td>\n",
       "      <td>66.0</td>\n",
       "      <td>Food &amp; Beverage</td>\n",
       "    </tr>\n",
       "    <tr>\n",
       "      <th>13</th>\n",
       "      <td>Steve Ballmer</td>\n",
       "      <td>$68.7 B</td>\n",
       "      <td>United States</td>\n",
       "      <td>Microsoft</td>\n",
       "      <td>14</td>\n",
       "      <td>65.0</td>\n",
       "      <td>Technology</td>\n",
       "    </tr>\n",
       "    <tr>\n",
       "      <th>14</th>\n",
       "      <td>Ma Huateng</td>\n",
       "      <td>$65.8 B</td>\n",
       "      <td>China</td>\n",
       "      <td>internet media</td>\n",
       "      <td>15</td>\n",
       "      <td>49.0</td>\n",
       "      <td>Technology</td>\n",
       "    </tr>\n",
       "    <tr>\n",
       "      <th>15</th>\n",
       "      <td>Carlos Slim Helu &amp; family</td>\n",
       "      <td>$62.8 B</td>\n",
       "      <td>Mexico</td>\n",
       "      <td>telecom</td>\n",
       "      <td>16</td>\n",
       "      <td>81.0</td>\n",
       "      <td>Telecom</td>\n",
       "    </tr>\n",
       "    <tr>\n",
       "      <th>16</th>\n",
       "      <td>Alice Walton</td>\n",
       "      <td>$61.8 B</td>\n",
       "      <td>United States</td>\n",
       "      <td>Walmart</td>\n",
       "      <td>17</td>\n",
       "      <td>71.0</td>\n",
       "      <td>Fashion &amp; Retail</td>\n",
       "    </tr>\n",
       "    <tr>\n",
       "      <th>17</th>\n",
       "      <td>Jim Walton</td>\n",
       "      <td>$60.2 B</td>\n",
       "      <td>United States</td>\n",
       "      <td>Walmart</td>\n",
       "      <td>18</td>\n",
       "      <td>72.0</td>\n",
       "      <td>Fashion &amp; Retail</td>\n",
       "    </tr>\n",
       "    <tr>\n",
       "      <th>18</th>\n",
       "      <td>Rob Walton</td>\n",
       "      <td>$59.5 B</td>\n",
       "      <td>United States</td>\n",
       "      <td>Walmart</td>\n",
       "      <td>19</td>\n",
       "      <td>76.0</td>\n",
       "      <td>Fashion &amp; Retail</td>\n",
       "    </tr>\n",
       "    <tr>\n",
       "      <th>19</th>\n",
       "      <td>Michael Bloomberg</td>\n",
       "      <td>$59 B</td>\n",
       "      <td>United States</td>\n",
       "      <td>Bloomberg LP</td>\n",
       "      <td>20</td>\n",
       "      <td>79.0</td>\n",
       "      <td>Media &amp; Entertainment</td>\n",
       "    </tr>\n",
       "  </tbody>\n",
       "</table>\n",
       "</div>"
      ],
      "text/plain": [
       "                                     Name NetWorth        Country  \\\n",
       "0                              Jeff Bezos   $177 B  United States   \n",
       "1                               Elon Musk   $151 B  United States   \n",
       "2                Bernard Arnault & family   $150 B         France   \n",
       "3                              Bill Gates   $124 B  United States   \n",
       "4                         Mark Zuckerberg    $97 B  United States   \n",
       "5                          Warren Buffett    $96 B  United States   \n",
       "6                           Larry Ellison    $93 B  United States   \n",
       "7                              Larry Page  $91.5 B  United States   \n",
       "8                             Sergey Brin    $89 B  United States   \n",
       "9                           Mukesh Ambani  $84.5 B          India   \n",
       "10                         Amancio Ortega    $77 B          Spain   \n",
       "11  Francoise Bettencourt Meyers & family  $73.6 B         France   \n",
       "12                         Zhong Shanshan  $68.9 B          China   \n",
       "13                          Steve Ballmer  $68.7 B  United States   \n",
       "14                             Ma Huateng  $65.8 B          China   \n",
       "15              Carlos Slim Helu & family  $62.8 B         Mexico   \n",
       "16                           Alice Walton  $61.8 B  United States   \n",
       "17                             Jim Walton  $60.2 B  United States   \n",
       "18                             Rob Walton  $59.5 B  United States   \n",
       "19                      Michael Bloomberg    $59 B  United States   \n",
       "\n",
       "                        Source  Rank   Age               Industry  \n",
       "0                       Amazon     1  57.0             Technology  \n",
       "1                Tesla, SpaceX     2  49.0             Automotive  \n",
       "2                         LVMH     3  72.0       Fashion & Retail  \n",
       "3                    Microsoft     4  65.0             Technology  \n",
       "4                     Facebook     5  36.0             Technology  \n",
       "5           Berkshire Hathaway     6  90.0  Finance & Investments  \n",
       "6                     software     7  76.0             Technology  \n",
       "7                       Google     8  48.0             Technology  \n",
       "8                       Google     9  47.0             Technology  \n",
       "9                  diversified    10  63.0            Diversified  \n",
       "10                        Zara    11  85.0       Fashion & Retail  \n",
       "11                     L'Oréal    12  67.0       Fashion & Retail  \n",
       "12  beverages, pharmaceuticals    13  66.0        Food & Beverage  \n",
       "13                   Microsoft    14  65.0             Technology  \n",
       "14              internet media    15  49.0             Technology  \n",
       "15                     telecom    16  81.0                Telecom  \n",
       "16                     Walmart    17  71.0       Fashion & Retail  \n",
       "17                     Walmart    18  72.0       Fashion & Retail  \n",
       "18                     Walmart    19  76.0       Fashion & Retail  \n",
       "19                Bloomberg LP    20  79.0  Media & Entertainment  "
      ]
     },
     "execution_count": 16,
     "metadata": {},
     "output_type": "execute_result"
    }
   ],
   "source": [
    "df.head(n=20)"
   ]
  },
  {
   "cell_type": "markdown",
   "id": "3dc0ca6c",
   "metadata": {},
   "source": [
    "## 2. Billionaires Data Basics [1 point]\n",
    "\n",
    "Use Python to report the dimensions of the data."
   ]
  },
  {
   "cell_type": "code",
   "execution_count": 17,
   "id": "7dfafc62",
   "metadata": {},
   "outputs": [
    {
     "data": {
      "text/plain": [
       "(2755, 7)"
      ]
     },
     "execution_count": 17,
     "metadata": {},
     "output_type": "execute_result"
    }
   ],
   "source": [
    "df.shape"
   ]
  },
  {
   "cell_type": "markdown",
   "id": "baf91551",
   "metadata": {},
   "source": [
    "## 3. Variable Types [1 point]"
   ]
  },
  {
   "cell_type": "markdown",
   "id": "d134ac25",
   "metadata": {},
   "source": [
    "What is the variable type as recorded in Python for each variable in the Billionaire data?"
   ]
  },
  {
   "cell_type": "code",
   "execution_count": 18,
   "id": "1b0879c2",
   "metadata": {},
   "outputs": [
    {
     "data": {
      "text/plain": [
       "Name         object\n",
       "NetWorth     object\n",
       "Country      object\n",
       "Source       object\n",
       "Rank          int64\n",
       "Age         float64\n",
       "Industry     object\n",
       "dtype: object"
      ]
     },
     "execution_count": 18,
     "metadata": {},
     "output_type": "execute_result"
    }
   ],
   "source": [
    "df.dtypes"
   ]
  },
  {
   "cell_type": "markdown",
   "id": "dae4d8a6",
   "metadata": {},
   "source": [
    "## 4. Asking and Answering Questions [1 point]\n",
    "\n",
    "You will pose a question that you can answer using the available data.  Below, use Python to answer your question, using numerical summaries, graphical visualizations, or both.  You will also upload this output to Gradescope as either a file upload or pasting your output from below.\n",
    "\n",
    "What is the average age for a billionare?"
   ]
  },
  {
   "cell_type": "code",
   "execution_count": 19,
   "id": "207466d4",
   "metadata": {},
   "outputs": [
    {
     "data": {
      "text/plain": [
       "63.1136023916293"
      ]
     },
     "execution_count": 19,
     "metadata": {},
     "output_type": "execute_result"
    }
   ],
   "source": [
    "df.Age.mean()"
   ]
  },
  {
   "cell_type": "markdown",
   "id": "f02327ec",
   "metadata": {},
   "source": [
    "Remember to keep all your cells and hit the save icon above periodically to checkpoint (save) your results on your local computer. Once you are satisified with your results restart the kernel and run all (Kernel -> Restart & Run All). **Make sure nothing has changed**. Checkpoint and exit (File -> Save and Checkpoint + File -> Close and Halt). Follow the instructions on the Homework 2 Canvas Assignment to submit your notebook to GitHub.  Be sure to also complete the Gradescope component of this assignment."
   ]
  }
 ],
 "metadata": {
  "kernelspec": {
   "display_name": "Python 3 (ipykernel)",
   "language": "python",
   "name": "python3"
  },
  "language_info": {
   "codemirror_mode": {
    "name": "ipython",
    "version": 3
   },
   "file_extension": ".py",
   "mimetype": "text/x-python",
   "name": "python",
   "nbconvert_exporter": "python",
   "pygments_lexer": "ipython3",
   "version": "3.11.5"
  }
 },
 "nbformat": 4,
 "nbformat_minor": 5
}
